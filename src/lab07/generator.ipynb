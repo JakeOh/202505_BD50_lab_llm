{
 "cells": [
  {
   "metadata": {},
   "cell_type": "markdown",
   "source": "return 문을 사용하는 함수",
   "id": "43a01ad2aa1481bd"
  },
  {
   "cell_type": "code",
   "id": "initial_id",
   "metadata": {
    "collapsed": true,
    "ExecuteTime": {
     "end_time": "2025-09-11T04:38:24.748512Z",
     "start_time": "2025-09-11T04:38:24.742701Z"
    }
   },
   "source": [
    "def test_1():\n",
    "    for i in range(5):\n",
    "        return i"
   ],
   "outputs": [],
   "execution_count": 1
  },
  {
   "metadata": {
    "ExecuteTime": {
     "end_time": "2025-09-11T04:40:34.911720Z",
     "start_time": "2025-09-11T04:40:34.907682Z"
    }
   },
   "cell_type": "code",
   "source": "result = test_1()",
   "id": "d051471b899af054",
   "outputs": [],
   "execution_count": 3
  },
  {
   "metadata": {
    "ExecuteTime": {
     "end_time": "2025-09-11T04:40:41.953058Z",
     "start_time": "2025-09-11T04:40:41.949631Z"
    }
   },
   "cell_type": "code",
   "source": "print(result)",
   "id": "f13f1f3a120daaac",
   "outputs": [
    {
     "name": "stdout",
     "output_type": "stream",
     "text": [
      "0\n"
     ]
    }
   ],
   "execution_count": 4
  },
  {
   "metadata": {
    "ExecuteTime": {
     "end_time": "2025-09-11T04:40:56.410546Z",
     "start_time": "2025-09-11T04:40:56.406849Z"
    }
   },
   "cell_type": "code",
   "source": "print(type(result))",
   "id": "b7525205b84f88ed",
   "outputs": [
    {
     "name": "stdout",
     "output_type": "stream",
     "text": [
      "<class 'int'>\n"
     ]
    }
   ],
   "execution_count": 5
  },
  {
   "metadata": {},
   "cell_type": "markdown",
   "source": "test_1() 함수는 내부에서 반복문으로 작성되어 있지만, 한 번 리턴한 후에는 함수가 종료가 됨.",
   "id": "4058cffe3d4d62cf"
  },
  {
   "metadata": {},
   "cell_type": "markdown",
   "source": "yield를 사용하는 함수",
   "id": "6d35c06e62cf8ae4"
  },
  {
   "metadata": {
    "ExecuteTime": {
     "end_time": "2025-09-11T04:42:14.519697Z",
     "start_time": "2025-09-11T04:42:14.516171Z"
    }
   },
   "cell_type": "code",
   "source": [
    "def my_generator():\n",
    "    for i in range(5):\n",
    "        yield i"
   ],
   "id": "b2b4781a2e225a5b",
   "outputs": [],
   "execution_count": 6
  },
  {
   "metadata": {
    "ExecuteTime": {
     "end_time": "2025-09-11T04:42:29.119283Z",
     "start_time": "2025-09-11T04:42:29.116147Z"
    }
   },
   "cell_type": "code",
   "source": "result = my_generator()",
   "id": "1a537adae3871d81",
   "outputs": [],
   "execution_count": 7
  },
  {
   "metadata": {
    "ExecuteTime": {
     "end_time": "2025-09-11T04:42:43.646583Z",
     "start_time": "2025-09-11T04:42:43.642552Z"
    }
   },
   "cell_type": "code",
   "source": "print(result)",
   "id": "b08a63e303bd3a8",
   "outputs": [
    {
     "name": "stdout",
     "output_type": "stream",
     "text": [
      "<generator object my_generator at 0x000001143EC2A680>\n"
     ]
    }
   ],
   "execution_count": 8
  },
  {
   "metadata": {
    "ExecuteTime": {
     "end_time": "2025-09-11T04:43:47.377767Z",
     "start_time": "2025-09-11T04:43:47.373897Z"
    }
   },
   "cell_type": "code",
   "source": [
    "# generator 타입의 객체는 for-in 구문에서 사용할 수 있음.\n",
    "for x in result:\n",
    "    print(x)"
   ],
   "id": "eb6f33815fa45c3b",
   "outputs": [
    {
     "name": "stdout",
     "output_type": "stream",
     "text": [
      "0\n",
      "1\n",
      "2\n",
      "3\n",
      "4\n"
     ]
    }
   ],
   "execution_count": 9
  },
  {
   "metadata": {
    "ExecuteTime": {
     "end_time": "2025-09-11T04:51:04.439933Z",
     "start_time": "2025-09-11T04:51:04.436422Z"
    }
   },
   "cell_type": "code",
   "source": [
    "for x in result:\n",
    "    print(x)"
   ],
   "id": "ca35b4a3aaefc16e",
   "outputs": [],
   "execution_count": 10
  },
  {
   "metadata": {
    "ExecuteTime": {
     "end_time": "2025-09-11T04:54:27.263095Z",
     "start_time": "2025-09-11T04:54:27.257933Z"
    }
   },
   "cell_type": "code",
   "source": [
    "def my_generator2():\n",
    "    values = ['OpenAI', 'Google', 'Meta']\n",
    "    for x in values:\n",
    "        print('*' * 10)\n",
    "        yield x"
   ],
   "id": "70aea65563080e79",
   "outputs": [],
   "execution_count": 11
  },
  {
   "metadata": {
    "ExecuteTime": {
     "end_time": "2025-09-11T04:54:38.002613Z",
     "start_time": "2025-09-11T04:54:37.998948Z"
    }
   },
   "cell_type": "code",
   "source": "result = my_generator2()",
   "id": "b35934861ba74407",
   "outputs": [],
   "execution_count": 12
  },
  {
   "metadata": {
    "ExecuteTime": {
     "end_time": "2025-09-11T04:54:43.339465Z",
     "start_time": "2025-09-11T04:54:43.335224Z"
    }
   },
   "cell_type": "code",
   "source": "print(result)",
   "id": "1c5173586fe9c0b9",
   "outputs": [
    {
     "name": "stdout",
     "output_type": "stream",
     "text": [
      "<generator object my_generator2 at 0x000001143EDF20C0>\n"
     ]
    }
   ],
   "execution_count": 13
  },
  {
   "metadata": {
    "ExecuteTime": {
     "end_time": "2025-09-11T04:55:07.775355Z",
     "start_time": "2025-09-11T04:55:07.772130Z"
    }
   },
   "cell_type": "code",
   "source": [
    "for x in result:  # generator를 순서대로 실행.\n",
    "    print(x)"
   ],
   "id": "932a5f99f9410350",
   "outputs": [
    {
     "name": "stdout",
     "output_type": "stream",
     "text": [
      "**********\n",
      "OpenAI\n",
      "**********\n",
      "Google\n",
      "**********\n",
      "Meta\n"
     ]
    }
   ],
   "execution_count": 14
  },
  {
   "metadata": {},
   "cell_type": "code",
   "outputs": [],
   "execution_count": null,
   "source": "",
   "id": "50861441a568c784"
  }
 ],
 "metadata": {
  "kernelspec": {
   "display_name": "Python 3",
   "language": "python",
   "name": "python3"
  },
  "language_info": {
   "codemirror_mode": {
    "name": "ipython",
    "version": 2
   },
   "file_extension": ".py",
   "mimetype": "text/x-python",
   "name": "python",
   "nbconvert_exporter": "python",
   "pygments_lexer": "ipython2",
   "version": "2.7.6"
  }
 },
 "nbformat": 4,
 "nbformat_minor": 5
}
