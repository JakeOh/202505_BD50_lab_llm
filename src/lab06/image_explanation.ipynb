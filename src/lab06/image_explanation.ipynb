{
 "cells": [
  {
   "metadata": {},
   "cell_type": "markdown",
   "source": "# GPT로 이미지 설명 만들기",
   "id": "44053907d82e7b4f"
  },
  {
   "cell_type": "code",
   "id": "initial_id",
   "metadata": {
    "collapsed": true,
    "ExecuteTime": {
     "end_time": "2025-09-08T05:58:01.618732Z",
     "start_time": "2025-09-08T05:58:00.860357Z"
    }
   },
   "source": [
    "import base64\n",
    "from openai import OpenAI\n",
    "from src.utils import get_openai_api_key"
   ],
   "outputs": [],
   "execution_count": 1
  },
  {
   "metadata": {
    "ExecuteTime": {
     "end_time": "2025-09-08T05:58:40.682418Z",
     "start_time": "2025-09-08T05:58:40.440331Z"
    }
   },
   "cell_type": "code",
   "source": [
    "# OpenAI 객체 생성\n",
    "client = OpenAI(api_key=get_openai_api_key())"
   ],
   "id": "b3810dcd36890537",
   "outputs": [],
   "execution_count": 2
  },
  {
   "metadata": {},
   "cell_type": "markdown",
   "source": "## [Lorem Picsum](https://picsum.photos) 이미지 설명 요청",
   "id": "55c331c94d486907"
  },
  {
   "metadata": {
    "ExecuteTime": {
     "end_time": "2025-09-08T06:08:25.375344Z",
     "start_time": "2025-09-08T06:08:25.357832Z"
    }
   },
   "cell_type": "code",
   "source": [
    "# 이미지 설명을 요청하는 메시지 프롬프트 작성\n",
    "messages = [\n",
    "    {\n",
    "        'role': 'user',\n",
    "        'content': [\n",
    "            {'type': 'text', 'text': '이 이미지를 설명해줘.'},\n",
    "            {'type': 'image_url',\n",
    "             'image_url': {'url': 'https://fastly.picsum.photos/id/22/4434/3729.jpg?hmac=fjZdkSMZJNFgsoDh8Qo5zdA_nSGUAWvKLyyqmEt2xs0'}},\n",
    "        ],\n",
    "    },\n",
    "]"
   ],
   "id": "592f8010d96841d3",
   "outputs": [],
   "execution_count": 3
  },
  {
   "metadata": {
    "ExecuteTime": {
     "end_time": "2025-09-08T06:09:32.702292Z",
     "start_time": "2025-09-08T06:09:29.164448Z"
    }
   },
   "cell_type": "code",
   "source": [
    "response = client.chat.completions.create(\n",
    "    model='gpt-4o-mini',\n",
    "    messages=messages\n",
    ")"
   ],
   "id": "ccb35234b65cb6f8",
   "outputs": [],
   "execution_count": 4
  },
  {
   "metadata": {
    "ExecuteTime": {
     "end_time": "2025-09-08T06:09:41.852841Z",
     "start_time": "2025-09-08T06:09:41.847087Z"
    }
   },
   "cell_type": "code",
   "source": "response",
   "id": "3ba24896a1bc31b7",
   "outputs": [
    {
     "data": {
      "text/plain": [
       "ChatCompletion(id='chatcmpl-CDPMBacDpQMUnCQ4UsxJKsCv2LWPF', choices=[Choice(finish_reason='stop', index=0, logprobs=None, message=ChatCompletionMessage(content='이미지에는 정장을 입은 한 남성이 도로 위를 걸어가고 있는 모습이 담겨 있습니다. 도로는 크랙이 있는 아스팔트로 보이며, 흰색 차선이 보입니다. 이 남성은 도시 환경에서 혼자 걷고 있는 듯하며, 전체적으로 차분하고 정적인 분위기를 자아냅니다.', refusal=None, role='assistant', annotations=[], audio=None, function_call=None, tool_calls=None))], created=1757311771, model='gpt-4o-mini-2024-07-18', object='chat.completion', service_tier='default', system_fingerprint='fp_e665f7564b', usage=CompletionUsage(completion_tokens=79, prompt_tokens=25515, total_tokens=25594, completion_tokens_details=CompletionTokensDetails(accepted_prediction_tokens=0, audio_tokens=0, reasoning_tokens=0, rejected_prediction_tokens=0), prompt_tokens_details=PromptTokensDetails(audio_tokens=0, cached_tokens=0)))"
      ]
     },
     "execution_count": 5,
     "metadata": {},
     "output_type": "execute_result"
    }
   ],
   "execution_count": 5
  },
  {
   "metadata": {
    "ExecuteTime": {
     "end_time": "2025-09-08T06:11:29.810277Z",
     "start_time": "2025-09-08T06:11:29.804603Z"
    }
   },
   "cell_type": "code",
   "source": "response.choices[0].message.content",
   "id": "1a6482775838ff12",
   "outputs": [
    {
     "data": {
      "text/plain": [
       "'이미지에는 정장을 입은 한 남성이 도로 위를 걸어가고 있는 모습이 담겨 있습니다. 도로는 크랙이 있는 아스팔트로 보이며, 흰색 차선이 보입니다. 이 남성은 도시 환경에서 혼자 걷고 있는 듯하며, 전체적으로 차분하고 정적인 분위기를 자아냅니다.'"
      ]
     },
     "execution_count": 6,
     "metadata": {},
     "output_type": "execute_result"
    }
   ],
   "execution_count": 6
  },
  {
   "metadata": {},
   "cell_type": "markdown",
   "source": "## 로컬 이미지 파일의 설명 요청하기",
   "id": "c71e5d3f75cec2b2"
  },
  {
   "metadata": {},
   "cell_type": "markdown",
   "source": [
    "*   이미지 바이너리 데이터를 텍스트 형식으로 변환해서 GPT chat.completions 요청을 보내야 함.\n",
    "*   base64 라이브러리: 이진(binary) 데이터를 아스키(ASCII) 문자로 인코딩(변환).\n",
    "    *   전송/저장 호환성\n",
    "    *   데이터 손상 방지\n",
    "    *   프로토콜 호환성"
   ],
   "id": "feba01afcb63f1c9"
  },
  {
   "metadata": {
    "ExecuteTime": {
     "end_time": "2025-09-08T06:57:47.649088Z",
     "start_time": "2025-09-08T06:57:47.624077Z"
    }
   },
   "cell_type": "code",
   "source": [
    "def base64encode_image(image_file):\n",
    "    with open(file=image_file, mode='rb') as f:  # 이미지 파일을 오픈.\n",
    "        data = f.read()  # 이미지 파일의 이진 데이터를 읽음.\n",
    "\n",
    "        # 이진 데이터를 base64 인코딩을 해서 ASCII 문자열로 변환, UTF-8로 변환해서 리턴.\n",
    "        return base64.b64encode(data).decode(encoding='utf-8')"
   ],
   "id": "3949b4b3b96c3cbe",
   "outputs": [],
   "execution_count": 7
  },
  {
   "metadata": {
    "ExecuteTime": {
     "end_time": "2025-09-08T06:58:42.273991Z",
     "start_time": "2025-09-08T06:58:42.268816Z"
    }
   },
   "cell_type": "code",
   "source": [
    "image_path_1 = './images/cafe1.jpg'\n",
    "image_path_2 = './images/cafe2.jpg'"
   ],
   "id": "fccd52c83486f12c",
   "outputs": [],
   "execution_count": 8
  },
  {
   "metadata": {
    "ExecuteTime": {
     "end_time": "2025-09-08T06:59:16.568146Z",
     "start_time": "2025-09-08T06:59:16.548955Z"
    }
   },
   "cell_type": "code",
   "source": "base64_image_1 = base64encode_image(image_path_1)",
   "id": "ea58a262fb5656b",
   "outputs": [],
   "execution_count": 9
  },
  {
   "metadata": {
    "ExecuteTime": {
     "end_time": "2025-09-08T06:59:35.779980Z",
     "start_time": "2025-09-08T06:59:35.774462Z"
    }
   },
   "cell_type": "code",
   "source": "base64_image_1[:100]  # base64로 인코딩된 문자열들 중에서 앞에서 100개만 출력.",
   "id": "5cfa98b59cad7ce",
   "outputs": [
    {
     "data": {
      "text/plain": [
       "'/9j/4AAQSkZJRgABAgEASABIAAD/4gxYSUNDX1BST0ZJTEUAAQEAAAxITGlubwIQAABtbnRyUkdCIFhZWiAHzgACAAkABgAxAABh'"
      ]
     },
     "execution_count": 11,
     "metadata": {},
     "output_type": "execute_result"
    }
   ],
   "execution_count": 11
  },
  {
   "metadata": {
    "ExecuteTime": {
     "end_time": "2025-09-08T07:09:33.628878Z",
     "start_time": "2025-09-08T07:09:33.622308Z"
    }
   },
   "cell_type": "code",
   "source": [
    "# GPT에게 보낼 메시지 프롬프트 작성\n",
    "messages = [\n",
    "    {\n",
    "        'role': 'user',\n",
    "        'content': [\n",
    "            {'type': 'text', 'text': '이미지에 대해서 설명해줘.'},\n",
    "            {\n",
    "                'type': 'image_url',\n",
    "                'image_url': {'url': f'data:image/jpeg;base64,{base64_image_1}'}\n",
    "            },\n",
    "        ],\n",
    "    },\n",
    "]"
   ],
   "id": "db26f3b8a6e96181",
   "outputs": [],
   "execution_count": 12
  },
  {
   "metadata": {
    "ExecuteTime": {
     "end_time": "2025-09-08T07:10:27.599040Z",
     "start_time": "2025-09-08T07:10:11.829707Z"
    }
   },
   "cell_type": "code",
   "source": [
    "response = client.chat.completions.create(\n",
    "    model='gpt-4o-mini',\n",
    "    messages=messages\n",
    ")"
   ],
   "id": "3df2f486e54cc1d9",
   "outputs": [],
   "execution_count": 13
  },
  {
   "metadata": {
    "ExecuteTime": {
     "end_time": "2025-09-08T07:10:42.519063Z",
     "start_time": "2025-09-08T07:10:42.499942Z"
    }
   },
   "cell_type": "code",
   "source": "response.choices[0].message.content",
   "id": "7b22345ceb4484b5",
   "outputs": [
    {
     "data": {
      "text/plain": [
       "'이 이미지는 밝고 현대적인 레스토랑이나 카페의 내부를 보여줍니다. 큰 유리 천장은 자연광을 충분히 받아들이고 있으며, 여러 종류의 식물이 공간을 아늑하게 꾸미고 있습니다. 식탁과 의자가 깔끔하게 정돈되어 있고, 몇몇 손님들이 대화를 나누거나 음료를 즐기고 있는 모습이 보입니다. 바닥은 콘크리트로 되어 있으며, 벽면에는 바리스타가 사용하는 기계와 음료가 놓여 있는 바 공간이 있습니다. 아늑하고 편안한 분위기로, 식물과 자연 요소들이 강조된 인테리어가 인상적입니다.'"
      ]
     },
     "execution_count": 14,
     "metadata": {},
     "output_type": "execute_result"
    }
   ],
   "execution_count": 14
  },
  {
   "metadata": {},
   "cell_type": "markdown",
   "source": "이미지 2장을 비교/설명 요청하는 메시지 프롬프트를 작성하고, 실행 결과를 확인해 보세요.",
   "id": "926954e4e6ee0a46"
  },
  {
   "metadata": {},
   "cell_type": "code",
   "outputs": [],
   "execution_count": null,
   "source": "",
   "id": "f245b6c379dcba11"
  }
 ],
 "metadata": {
  "kernelspec": {
   "display_name": "Python 3",
   "language": "python",
   "name": "python3"
  },
  "language_info": {
   "codemirror_mode": {
    "name": "ipython",
    "version": 2
   },
   "file_extension": ".py",
   "mimetype": "text/x-python",
   "name": "python",
   "nbconvert_exporter": "python",
   "pygments_lexer": "ipython2",
   "version": "2.7.6"
  }
 },
 "nbformat": 4,
 "nbformat_minor": 5
}
