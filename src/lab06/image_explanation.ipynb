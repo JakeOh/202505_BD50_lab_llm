{
 "cells": [
  {
   "metadata": {},
   "cell_type": "markdown",
   "source": "# GPT로 이미지 설명 만들기",
   "id": "44053907d82e7b4f"
  },
  {
   "cell_type": "code",
   "id": "initial_id",
   "metadata": {
    "collapsed": true,
    "ExecuteTime": {
     "end_time": "2025-09-08T05:58:01.618732Z",
     "start_time": "2025-09-08T05:58:00.860357Z"
    }
   },
   "source": [
    "import base64\n",
    "from openai import OpenAI\n",
    "from src.utils import get_openai_api_key"
   ],
   "outputs": [],
   "execution_count": 1
  },
  {
   "metadata": {
    "ExecuteTime": {
     "end_time": "2025-09-08T05:58:40.682418Z",
     "start_time": "2025-09-08T05:58:40.440331Z"
    }
   },
   "cell_type": "code",
   "source": [
    "# OpenAI 객체 생성\n",
    "client = OpenAI(api_key=get_openai_api_key())"
   ],
   "id": "b3810dcd36890537",
   "outputs": [],
   "execution_count": 2
  },
  {
   "metadata": {},
   "cell_type": "markdown",
   "source": "## [Lorem Picsum](https://picsum.photos) 이미지 설명 요청",
   "id": "55c331c94d486907"
  },
  {
   "metadata": {
    "ExecuteTime": {
     "end_time": "2025-09-08T06:08:25.375344Z",
     "start_time": "2025-09-08T06:08:25.357832Z"
    }
   },
   "cell_type": "code",
   "source": [
    "# 이미지 설명을 요청하는 메시지 프롬프트 작성\n",
    "messages = [\n",
    "    {\n",
    "        'role': 'user',\n",
    "        'content': [\n",
    "            {'type': 'text', 'text': '이 이미지를 설명해줘.'},\n",
    "            {'type': 'image_url',\n",
    "             'image_url': {'url': 'https://fastly.picsum.photos/id/22/4434/3729.jpg?hmac=fjZdkSMZJNFgsoDh8Qo5zdA_nSGUAWvKLyyqmEt2xs0'}},\n",
    "        ],\n",
    "    },\n",
    "]"
   ],
   "id": "592f8010d96841d3",
   "outputs": [],
   "execution_count": 3
  },
  {
   "metadata": {
    "ExecuteTime": {
     "end_time": "2025-09-08T06:09:32.702292Z",
     "start_time": "2025-09-08T06:09:29.164448Z"
    }
   },
   "cell_type": "code",
   "source": [
    "response = client.chat.completions.create(\n",
    "    model='gpt-4o-mini',\n",
    "    messages=messages\n",
    ")"
   ],
   "id": "ccb35234b65cb6f8",
   "outputs": [],
   "execution_count": 4
  },
  {
   "metadata": {
    "ExecuteTime": {
     "end_time": "2025-09-08T06:09:41.852841Z",
     "start_time": "2025-09-08T06:09:41.847087Z"
    }
   },
   "cell_type": "code",
   "source": "response",
   "id": "3ba24896a1bc31b7",
   "outputs": [
    {
     "data": {
      "text/plain": [
       "ChatCompletion(id='chatcmpl-CDPMBacDpQMUnCQ4UsxJKsCv2LWPF', choices=[Choice(finish_reason='stop', index=0, logprobs=None, message=ChatCompletionMessage(content='이미지에는 정장을 입은 한 남성이 도로 위를 걸어가고 있는 모습이 담겨 있습니다. 도로는 크랙이 있는 아스팔트로 보이며, 흰색 차선이 보입니다. 이 남성은 도시 환경에서 혼자 걷고 있는 듯하며, 전체적으로 차분하고 정적인 분위기를 자아냅니다.', refusal=None, role='assistant', annotations=[], audio=None, function_call=None, tool_calls=None))], created=1757311771, model='gpt-4o-mini-2024-07-18', object='chat.completion', service_tier='default', system_fingerprint='fp_e665f7564b', usage=CompletionUsage(completion_tokens=79, prompt_tokens=25515, total_tokens=25594, completion_tokens_details=CompletionTokensDetails(accepted_prediction_tokens=0, audio_tokens=0, reasoning_tokens=0, rejected_prediction_tokens=0), prompt_tokens_details=PromptTokensDetails(audio_tokens=0, cached_tokens=0)))"
      ]
     },
     "execution_count": 5,
     "metadata": {},
     "output_type": "execute_result"
    }
   ],
   "execution_count": 5
  },
  {
   "metadata": {
    "ExecuteTime": {
     "end_time": "2025-09-08T06:11:29.810277Z",
     "start_time": "2025-09-08T06:11:29.804603Z"
    }
   },
   "cell_type": "code",
   "source": "response.choices[0].message.content",
   "id": "1a6482775838ff12",
   "outputs": [
    {
     "data": {
      "text/plain": [
       "'이미지에는 정장을 입은 한 남성이 도로 위를 걸어가고 있는 모습이 담겨 있습니다. 도로는 크랙이 있는 아스팔트로 보이며, 흰색 차선이 보입니다. 이 남성은 도시 환경에서 혼자 걷고 있는 듯하며, 전체적으로 차분하고 정적인 분위기를 자아냅니다.'"
      ]
     },
     "execution_count": 6,
     "metadata": {},
     "output_type": "execute_result"
    }
   ],
   "execution_count": 6
  },
  {
   "metadata": {},
   "cell_type": "code",
   "outputs": [],
   "execution_count": null,
   "source": "",
   "id": "3949b4b3b96c3cbe"
  }
 ],
 "metadata": {
  "kernelspec": {
   "display_name": "Python 3",
   "language": "python",
   "name": "python3"
  },
  "language_info": {
   "codemirror_mode": {
    "name": "ipython",
    "version": 2
   },
   "file_extension": ".py",
   "mimetype": "text/x-python",
   "name": "python",
   "nbconvert_exporter": "python",
   "pygments_lexer": "ipython2",
   "version": "2.7.6"
  }
 },
 "nbformat": 4,
 "nbformat_minor": 5
}
