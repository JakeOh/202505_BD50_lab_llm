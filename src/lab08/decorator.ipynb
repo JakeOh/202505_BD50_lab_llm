{
 "cells": [
  {
   "metadata": {},
   "cell_type": "markdown",
   "source": "# Decorator 디자인 패턴",
   "id": "ec690bae8739094e"
  },
  {
   "cell_type": "code",
   "id": "initial_id",
   "metadata": {
    "collapsed": true,
    "ExecuteTime": {
     "end_time": "2025-09-15T01:46:41.749573Z",
     "start_time": "2025-09-15T01:46:41.745020Z"
    }
   },
   "source": [
    "def hello():\n",
    "    print('--- hello 시작 ---')  # 로그 기능\n",
    "    print('안녕...')  # hello 함수의 주된 기능\n",
    "    print('--- hello 종료 ---')  # 로그 기능"
   ],
   "outputs": [],
   "execution_count": 1
  },
  {
   "metadata": {
    "ExecuteTime": {
     "end_time": "2025-09-15T01:46:47.410886Z",
     "start_time": "2025-09-15T01:46:47.407500Z"
    }
   },
   "cell_type": "code",
   "source": "hello()",
   "id": "9f85386417fa7bd3",
   "outputs": [
    {
     "name": "stdout",
     "output_type": "stream",
     "text": [
      "--- hello 시작 ---\n",
      "안녕...\n",
      "--- hello 종료 ---\n"
     ]
    }
   ],
   "execution_count": 2
  },
  {
   "metadata": {
    "ExecuteTime": {
     "end_time": "2025-09-15T01:48:00.937023Z",
     "start_time": "2025-09-15T01:48:00.934070Z"
    }
   },
   "cell_type": "code",
   "source": [
    "def world():\n",
    "    print('--- world 시작 ---')\n",
    "    print('World...')\n",
    "    print('--- world 종료 ---')"
   ],
   "id": "54e96b9aea54e449",
   "outputs": [],
   "execution_count": 3
  },
  {
   "metadata": {
    "ExecuteTime": {
     "end_time": "2025-09-15T01:48:06.384934Z",
     "start_time": "2025-09-15T01:48:06.380847Z"
    }
   },
   "cell_type": "code",
   "source": "world()",
   "id": "df0ebaf6703d42b5",
   "outputs": [
    {
     "name": "stdout",
     "output_type": "stream",
     "text": [
      "--- world 시작 ---\n",
      "World...\n",
      "--- world 종료 ---\n"
     ]
    }
   ],
   "execution_count": 4
  },
  {
   "metadata": {},
   "cell_type": "markdown",
   "source": "hello() 함수와 world() 함수는 주된 기능만을 작성, 부가적인 기능(로깅, 아규먼트 검사, ...)들은 공통으로 작성하는 기법.",
   "id": "bf90ab4015ae0bde"
  },
  {
   "metadata": {
    "ExecuteTime": {
     "end_time": "2025-09-15T01:56:29.552325Z",
     "start_time": "2025-09-15T01:56:29.548352Z"
    }
   },
   "cell_type": "code",
   "source": [
    "def trace(func):\n",
    "    # 지역 함수(local function) 선언\n",
    "    def wrapper():\n",
    "        print(f'===== {func.__name__} 시작 =====')\n",
    "        func()  # trace 함수의 아규먼트인 함수 func를 실행.\n",
    "        print(f'===== {func.__name__} 종료 =====')\n",
    "\n",
    "    return wrapper  # 지역 함수 \"객체\"를 리턴."
   ],
   "id": "482f6661f3329770",
   "outputs": [],
   "execution_count": 5
  },
  {
   "metadata": {
    "ExecuteTime": {
     "end_time": "2025-09-15T01:56:48.404678Z",
     "start_time": "2025-09-15T01:56:48.401172Z"
    }
   },
   "cell_type": "code",
   "source": [
    "def hello():\n",
    "    print('안녕...')"
   ],
   "id": "1bb5b110bdc1e99c",
   "outputs": [],
   "execution_count": 6
  },
  {
   "metadata": {
    "ExecuteTime": {
     "end_time": "2025-09-15T01:56:57.910275Z",
     "start_time": "2025-09-15T01:56:57.906798Z"
    }
   },
   "cell_type": "code",
   "source": [
    "def world():\n",
    "    print('World...')"
   ],
   "id": "da1baa23638ad24c",
   "outputs": [],
   "execution_count": 7
  },
  {
   "metadata": {
    "ExecuteTime": {
     "end_time": "2025-09-15T01:58:48.631293Z",
     "start_time": "2025-09-15T01:58:48.627907Z"
    }
   },
   "cell_type": "code",
   "source": "hello_trace = trace(hello)",
   "id": "924dd3e5b3c6120d",
   "outputs": [],
   "execution_count": 8
  },
  {
   "metadata": {
    "ExecuteTime": {
     "end_time": "2025-09-15T01:58:55.783236Z",
     "start_time": "2025-09-15T01:58:55.778754Z"
    }
   },
   "cell_type": "code",
   "source": "type(hello_trace)",
   "id": "40999c4406f73b08",
   "outputs": [
    {
     "data": {
      "text/plain": [
       "function"
      ]
     },
     "execution_count": 9,
     "metadata": {},
     "output_type": "execute_result"
    }
   ],
   "execution_count": 9
  },
  {
   "metadata": {
    "ExecuteTime": {
     "end_time": "2025-09-15T01:59:06.542820Z",
     "start_time": "2025-09-15T01:59:06.539366Z"
    }
   },
   "cell_type": "code",
   "source": "hello_trace()",
   "id": "c350ff5adb314be0",
   "outputs": [
    {
     "name": "stdout",
     "output_type": "stream",
     "text": [
      "===== hello 시작 =====\n",
      "안녕...\n",
      "===== hello 종료 =====\n"
     ]
    }
   ],
   "execution_count": 10
  },
  {
   "metadata": {
    "ExecuteTime": {
     "end_time": "2025-09-15T01:59:43.383837Z",
     "start_time": "2025-09-15T01:59:43.380897Z"
    }
   },
   "cell_type": "code",
   "source": [
    "world_trace = trace(world)\n",
    "world_trace()"
   ],
   "id": "8d256002d42414c0",
   "outputs": [
    {
     "name": "stdout",
     "output_type": "stream",
     "text": [
      "===== world 시작 =====\n",
      "World...\n",
      "===== world 종료 =====\n"
     ]
    }
   ],
   "execution_count": 11
  },
  {
   "metadata": {},
   "cell_type": "markdown",
   "source": [
    "trace() 함수를 데코레이터(decorator) 함수라고 함.\n",
    "\n",
    "`@decorator` 애너테이션을 호출하고자 하는 함수 선언 부분에 사용하면 더 편리하게 이용할 수 있음."
   ],
   "id": "bf8cbf611fac3d20"
  },
  {
   "metadata": {
    "ExecuteTime": {
     "end_time": "2025-09-15T02:05:45.870382Z",
     "start_time": "2025-09-15T02:05:45.867554Z"
    }
   },
   "cell_type": "code",
   "source": [
    "@trace\n",
    "def hello2():\n",
    "    print('hello2...')"
   ],
   "id": "f96145d7658cdd33",
   "outputs": [],
   "execution_count": 16
  },
  {
   "metadata": {
    "ExecuteTime": {
     "end_time": "2025-09-15T02:05:52.743096Z",
     "start_time": "2025-09-15T02:05:52.740192Z"
    }
   },
   "cell_type": "code",
   "source": "hello2()",
   "id": "f66795c796999d38",
   "outputs": [
    {
     "name": "stdout",
     "output_type": "stream",
     "text": [
      "===== hello2 시작 =====\n",
      "hello2...\n",
      "===== hello2 종료 =====\n"
     ]
    }
   ],
   "execution_count": 17
  },
  {
   "metadata": {
    "ExecuteTime": {
     "end_time": "2025-09-15T02:07:40.718042Z",
     "start_time": "2025-09-15T02:07:40.713645Z"
    }
   },
   "cell_type": "code",
   "source": [
    "@trace\n",
    "def world2():\n",
    "    print('world2...')"
   ],
   "id": "dd2357e0b0069593",
   "outputs": [],
   "execution_count": 18
  },
  {
   "metadata": {
    "ExecuteTime": {
     "end_time": "2025-09-15T02:07:55.882781Z",
     "start_time": "2025-09-15T02:07:55.878323Z"
    }
   },
   "cell_type": "code",
   "source": "world2()",
   "id": "c5b99441ba630a83",
   "outputs": [
    {
     "name": "stdout",
     "output_type": "stream",
     "text": [
      "===== world2 시작 =====\n",
      "world2...\n",
      "===== world2 종료 =====\n"
     ]
    }
   ],
   "execution_count": 19
  },
  {
   "metadata": {},
   "cell_type": "markdown",
   "source": "함수에 데코레이터를 여러 개 지정할 수도 있음.",
   "id": "c98aeea5af1a0631"
  },
  {
   "metadata": {
    "ExecuteTime": {
     "end_time": "2025-09-15T02:11:05.051006Z",
     "start_time": "2025-09-15T02:11:05.047467Z"
    }
   },
   "cell_type": "code",
   "source": [
    "def deco1(func):\n",
    "    def wrapper():\n",
    "        print('--- deco1 시작 ---')\n",
    "        func()\n",
    "        print('--- deco1 종료 ---')\n",
    "\n",
    "    return wrapper"
   ],
   "id": "b4243e578b5918b0",
   "outputs": [],
   "execution_count": 20
  },
  {
   "metadata": {
    "ExecuteTime": {
     "end_time": "2025-09-15T02:11:54.330178Z",
     "start_time": "2025-09-15T02:11:54.326362Z"
    }
   },
   "cell_type": "code",
   "source": [
    "def deco2(func):\n",
    "    def wrapper():\n",
    "        print('--- deco2 시작 ---')\n",
    "        func()\n",
    "        print('--- deco2 종료 ---')\n",
    "\n",
    "    return wrapper"
   ],
   "id": "bac6f1a85f38a576",
   "outputs": [],
   "execution_count": 21
  },
  {
   "metadata": {
    "ExecuteTime": {
     "end_time": "2025-09-15T02:13:14.027424Z",
     "start_time": "2025-09-15T02:13:14.023590Z"
    }
   },
   "cell_type": "code",
   "source": [
    "@deco1\n",
    "@deco2\n",
    "def hello_world():\n",
    "    print('Hello, world!')"
   ],
   "id": "cd090f5862d4e9c3",
   "outputs": [],
   "execution_count": 22
  },
  {
   "metadata": {
    "ExecuteTime": {
     "end_time": "2025-09-15T02:16:29.654664Z",
     "start_time": "2025-09-15T02:16:29.651064Z"
    }
   },
   "cell_type": "code",
   "source": "hello_world()",
   "id": "49462d6a1057e4cc",
   "outputs": [
    {
     "name": "stdout",
     "output_type": "stream",
     "text": [
      "--- deco1 시작 ---\n",
      "--- deco2 시작 ---\n",
      "Hello, world!\n",
      "--- deco2 종료 ---\n",
      "--- deco1 종료 ---\n"
     ]
    }
   ],
   "execution_count": 23
  },
  {
   "metadata": {},
   "cell_type": "markdown",
   "source": "# 파라미터와 반환값을 처리하는 데코레이터",
   "id": "602108a423a24be4"
  },
  {
   "metadata": {
    "ExecuteTime": {
     "end_time": "2025-09-15T02:37:17.250925Z",
     "start_time": "2025-09-15T02:37:17.245990Z"
    }
   },
   "cell_type": "code",
   "source": [
    "def add(x, y):\n",
    "    return x + y"
   ],
   "id": "698fb331b4f5ac22",
   "outputs": [],
   "execution_count": 24
  },
  {
   "metadata": {
    "ExecuteTime": {
     "end_time": "2025-09-15T02:44:42.830974Z",
     "start_time": "2025-09-15T02:44:42.826902Z"
    }
   },
   "cell_type": "code",
   "source": [
    "def trace(func):  # 데코레이터에서 호출할 함수를 아규먼트로 전달받음\n",
    "    def wrapper(x, y):  # 호출할 함수 func()과 동일하게 파라미터들을 선언.\n",
    "        r = func(x, y)  # 함수 func에게 파라미터 x와 y를 아규먼트로 전달하면서 호출.\n",
    "        print(f'{func.__name__}(x={x}, y={y}) -> {r}')\n",
    "        return r  # func의 리턴 값을 반환.\n",
    "\n",
    "    return wrapper"
   ],
   "id": "ec6aec7d3606773",
   "outputs": [],
   "execution_count": 25
  },
  {
   "metadata": {
    "ExecuteTime": {
     "end_time": "2025-09-15T02:45:08.860191Z",
     "start_time": "2025-09-15T02:45:08.856702Z"
    }
   },
   "cell_type": "code",
   "source": [
    "@trace\n",
    "def add(x, y):\n",
    "    return x + y"
   ],
   "id": "683924d08ad43326",
   "outputs": [],
   "execution_count": 26
  },
  {
   "metadata": {
    "ExecuteTime": {
     "end_time": "2025-09-15T02:46:45.749156Z",
     "start_time": "2025-09-15T02:46:45.744483Z"
    }
   },
   "cell_type": "code",
   "source": "result = add(1, 2)",
   "id": "4ff8f6ef46c22c69",
   "outputs": [
    {
     "name": "stdout",
     "output_type": "stream",
     "text": [
      "add(x=1, y=2) -> 3\n"
     ]
    }
   ],
   "execution_count": 27
  },
  {
   "metadata": {
    "ExecuteTime": {
     "end_time": "2025-09-15T02:47:44.379147Z",
     "start_time": "2025-09-15T02:47:44.375265Z"
    }
   },
   "cell_type": "code",
   "source": "print(result)",
   "id": "46a7aa0d8df146b0",
   "outputs": [
    {
     "name": "stdout",
     "output_type": "stream",
     "text": [
      "3\n"
     ]
    }
   ],
   "execution_count": 28
  },
  {
   "metadata": {
    "ExecuteTime": {
     "end_time": "2025-09-15T02:48:10.322873Z",
     "start_time": "2025-09-15T02:48:10.319365Z"
    }
   },
   "cell_type": "code",
   "source": [
    "@trace\n",
    "def subtract(x, y):\n",
    "    return x - y"
   ],
   "id": "e4cf3f89a49912a9",
   "outputs": [],
   "execution_count": 29
  },
  {
   "metadata": {
    "ExecuteTime": {
     "end_time": "2025-09-15T02:48:19.239117Z",
     "start_time": "2025-09-15T02:48:19.235294Z"
    }
   },
   "cell_type": "code",
   "source": "result = subtract(1, 2)",
   "id": "4614248b2ac875fe",
   "outputs": [
    {
     "name": "stdout",
     "output_type": "stream",
     "text": [
      "subtract(x=1, y=2) -> -1\n"
     ]
    }
   ],
   "execution_count": 30
  },
  {
   "metadata": {
    "ExecuteTime": {
     "end_time": "2025-09-15T02:48:46.873723Z",
     "start_time": "2025-09-15T02:48:46.869921Z"
    }
   },
   "cell_type": "code",
   "source": "print(result)",
   "id": "418204df37b5c82e",
   "outputs": [
    {
     "name": "stdout",
     "output_type": "stream",
     "text": [
      "-1\n"
     ]
    }
   ],
   "execution_count": 31
  },
  {
   "metadata": {},
   "cell_type": "markdown",
   "source": "## 가변길이 인수 함수 데코레이터",
   "id": "46b17330a42091e7"
  },
  {
   "metadata": {
    "ExecuteTime": {
     "end_time": "2025-09-15T02:56:28.964467Z",
     "start_time": "2025-09-15T02:56:28.960801Z"
    }
   },
   "cell_type": "code",
   "source": [
    "def trace(func):  # 실제로 호출할 함수를 아규먼트로 전달받음\n",
    "    def wrapper(*args, **kwargs):  # 가변길이 인수로 파라미터를 선언.\n",
    "        r = func(*args, **kwargs)  # 함수 func에게 args와 kwargs를 \"unpacking\"해서 아규먼트로 전달.\n",
    "        print(f'{func.__name__}(args={args}, kwargs={kwargs}) -> {r}')\n",
    "        return r  # func의 리턴 값을 반환.\n",
    "\n",
    "    return wrapper"
   ],
   "id": "2ac73d4c3c2234de",
   "outputs": [],
   "execution_count": 32
  },
  {
   "metadata": {
    "ExecuteTime": {
     "end_time": "2025-09-15T02:57:09.608851Z",
     "start_time": "2025-09-15T02:57:09.605248Z"
    }
   },
   "cell_type": "code",
   "source": [
    "@trace\n",
    "def get_max(*args):\n",
    "    return max(args)"
   ],
   "id": "5c1fbf1710f6b0e7",
   "outputs": [],
   "execution_count": 33
  },
  {
   "metadata": {
    "ExecuteTime": {
     "end_time": "2025-09-15T02:57:54.251193Z",
     "start_time": "2025-09-15T02:57:54.247789Z"
    }
   },
   "cell_type": "code",
   "source": "result = get_max(10, 20, 0, 1, 100, 55)",
   "id": "f9ca786e181047ac",
   "outputs": [
    {
     "name": "stdout",
     "output_type": "stream",
     "text": [
      "get_max(args=(10, 20, 0, 1, 100, 55), kwargs={}) -> 100\n"
     ]
    }
   ],
   "execution_count": 34
  },
  {
   "metadata": {
    "ExecuteTime": {
     "end_time": "2025-09-15T02:58:01.672085Z",
     "start_time": "2025-09-15T02:58:01.668407Z"
    }
   },
   "cell_type": "code",
   "source": "print(result)",
   "id": "523a45ca8277501c",
   "outputs": [
    {
     "name": "stdout",
     "output_type": "stream",
     "text": [
      "100\n"
     ]
    }
   ],
   "execution_count": 35
  },
  {
   "metadata": {
    "ExecuteTime": {
     "end_time": "2025-09-15T02:59:05.598946Z",
     "start_time": "2025-09-15T02:59:05.595427Z"
    }
   },
   "cell_type": "code",
   "source": "result = get_max(1, 10, -1)",
   "id": "5eb3131f561574d",
   "outputs": [
    {
     "name": "stdout",
     "output_type": "stream",
     "text": [
      "get_max(args=(1, 10, -1), kwargs={}) -> 10\n"
     ]
    }
   ],
   "execution_count": 36
  },
  {
   "metadata": {
    "ExecuteTime": {
     "end_time": "2025-09-15T02:59:08.255839Z",
     "start_time": "2025-09-15T02:59:08.252704Z"
    }
   },
   "cell_type": "code",
   "source": "print(result)",
   "id": "219e5c3be646a05d",
   "outputs": [
    {
     "name": "stdout",
     "output_type": "stream",
     "text": [
      "10\n"
     ]
    }
   ],
   "execution_count": 37
  },
  {
   "metadata": {},
   "cell_type": "markdown",
   "source": "## unpacking 연산자",
   "id": "b2c0818ec1aa5e19"
  },
  {
   "metadata": {
    "ExecuteTime": {
     "end_time": "2025-09-15T03:08:57.909221Z",
     "start_time": "2025-09-15T03:08:57.905845Z"
    }
   },
   "cell_type": "code",
   "source": [
    "def add_three_number(x, y, z):\n",
    "    return x + y + z"
   ],
   "id": "ffc760602c1d2538",
   "outputs": [],
   "execution_count": 41
  },
  {
   "metadata": {
    "ExecuteTime": {
     "end_time": "2025-09-15T03:09:06.343440Z",
     "start_time": "2025-09-15T03:09:06.339228Z"
    }
   },
   "cell_type": "code",
   "source": "add_three_number(1, 2, 3)",
   "id": "27cad9a4f1e09b89",
   "outputs": [
    {
     "data": {
      "text/plain": [
       "6"
      ]
     },
     "execution_count": 42,
     "metadata": {},
     "output_type": "execute_result"
    }
   ],
   "execution_count": 42
  },
  {
   "metadata": {
    "ExecuteTime": {
     "end_time": "2025-09-15T03:10:16.589201Z",
     "start_time": "2025-09-15T03:10:16.584954Z"
    }
   },
   "cell_type": "code",
   "source": [
    "try:\n",
    "    r = add_three_number((1, 2, 3))\n",
    "    print(r)\n",
    "except Exception as e:\n",
    "    print(e)"
   ],
   "id": "b5628cbab61f678d",
   "outputs": [
    {
     "name": "stdout",
     "output_type": "stream",
     "text": [
      "add_three_number() missing 2 required positional arguments: 'y' and 'z'\n"
     ]
    }
   ],
   "execution_count": 44
  },
  {
   "metadata": {
    "ExecuteTime": {
     "end_time": "2025-09-15T03:11:11.779051Z",
     "start_time": "2025-09-15T03:11:11.774908Z"
    }
   },
   "cell_type": "code",
   "source": [
    "try:\n",
    "    r = add_three_number(*(1, 2, 3))  # *(1, 2, 3) -> 1, 2, 3\n",
    "    print(r)\n",
    "except Exception as e:\n",
    "    print(e)"
   ],
   "id": "93d25c64c21114ad",
   "outputs": [
    {
     "name": "stdout",
     "output_type": "stream",
     "text": [
      "6\n"
     ]
    }
   ],
   "execution_count": 45
  },
  {
   "metadata": {
    "ExecuteTime": {
     "end_time": "2025-09-15T03:18:56.570837Z",
     "start_time": "2025-09-15T03:18:56.567316Z"
    }
   },
   "cell_type": "code",
   "source": [
    "def print_info(name, age):\n",
    "    print(f'이름: {name}, 나이: {age}')"
   ],
   "id": "adf4fa9c9bcbb330",
   "outputs": [],
   "execution_count": 47
  },
  {
   "metadata": {
    "ExecuteTime": {
     "end_time": "2025-09-15T03:19:18.277084Z",
     "start_time": "2025-09-15T03:19:18.273855Z"
    }
   },
   "cell_type": "code",
   "source": "print_info(name='오쌤', age=16)",
   "id": "3e8dc6ca2e7d36d2",
   "outputs": [
    {
     "name": "stdout",
     "output_type": "stream",
     "text": [
      "이름: 오쌤, 나이: 16\n"
     ]
    }
   ],
   "execution_count": 49
  },
  {
   "metadata": {
    "ExecuteTime": {
     "end_time": "2025-09-15T03:21:04.496588Z",
     "start_time": "2025-09-15T03:21:04.491426Z"
    }
   },
   "cell_type": "code",
   "source": [
    "try:\n",
    "    print_info({'name': '홍길동', 'age': 20})\n",
    "except Exception as e:\n",
    "    print(e)"
   ],
   "id": "f66a61d957fb04d2",
   "outputs": [
    {
     "name": "stdout",
     "output_type": "stream",
     "text": [
      "print_info() missing 1 required positional argument: 'age'\n"
     ]
    }
   ],
   "execution_count": 50
  },
  {
   "metadata": {
    "ExecuteTime": {
     "end_time": "2025-09-15T03:21:28.090539Z",
     "start_time": "2025-09-15T03:21:28.086005Z"
    }
   },
   "cell_type": "code",
   "source": [
    "try:\n",
    "    print_info(**{'name': '홍길동', 'age': 20})\n",
    "    # unpacking 연산자: **{key1: value1, key2: value2} -> key1=value1, key2=value2\n",
    "except Exception as e:\n",
    "    print(e)"
   ],
   "id": "cdb381c5711ab2b4",
   "outputs": [
    {
     "name": "stdout",
     "output_type": "stream",
     "text": [
      "이름: 홍길동, 나이: 20\n"
     ]
    }
   ],
   "execution_count": 51
  },
  {
   "metadata": {},
   "cell_type": "markdown",
   "source": "# 파라미터를 갖는 데코레이터 작성",
   "id": "b703a03376cbc4c1"
  },
  {
   "metadata": {
    "ExecuteTime": {
     "end_time": "2025-09-15T04:46:34.826528Z",
     "start_time": "2025-09-15T04:46:34.820930Z"
    }
   },
   "cell_type": "code",
   "source": [
    "def is_multiple(n):  # 파라미터를 갖는 데코레이터\n",
    "    def decorator(func):  # 호출할 함수를 아규먼트로 전달받음.\n",
    "        def wrapper(x, y):  # 파라미터 x, y - 호출할 함수 func의 아규먼트로 사용.\n",
    "            r = func(x, y)\n",
    "            print(f'{func.__name__}(x={x}, y={y}) -> {r}')\n",
    "            if r % n == 0:\n",
    "                print(f'{func.__name__}의 리턴 값은 {n}의 배수입니다.')\n",
    "            else:\n",
    "                print(f'{func.__name__}의 리턴 값은 {n}의 배수가 아닙니다.')\n",
    "            return r\n",
    "\n",
    "        return wrapper\n",
    "\n",
    "    return decorator"
   ],
   "id": "de383dd2adeedf1c",
   "outputs": [],
   "execution_count": 52
  },
  {
   "metadata": {
    "ExecuteTime": {
     "end_time": "2025-09-15T04:47:42.616998Z",
     "start_time": "2025-09-15T04:47:42.613959Z"
    }
   },
   "cell_type": "code",
   "source": [
    "@is_multiple(2)\n",
    "def add(x, y):\n",
    "    return x + y"
   ],
   "id": "f3cd9c664625ff79",
   "outputs": [],
   "execution_count": 53
  },
  {
   "metadata": {
    "ExecuteTime": {
     "end_time": "2025-09-15T04:48:21.493548Z",
     "start_time": "2025-09-15T04:48:21.490472Z"
    }
   },
   "cell_type": "code",
   "source": "result = add(1, 2)",
   "id": "4553bfa60166225a",
   "outputs": [
    {
     "name": "stdout",
     "output_type": "stream",
     "text": [
      "add(x=1, y=2) -> 3\n",
      "add의 리턴 값은 2의 배수가 아닙니다.\n"
     ]
    }
   ],
   "execution_count": 54
  },
  {
   "metadata": {
    "ExecuteTime": {
     "end_time": "2025-09-15T04:48:30.323296Z",
     "start_time": "2025-09-15T04:48:30.318182Z"
    }
   },
   "cell_type": "code",
   "source": "print(result)",
   "id": "18dd44c3c97c7e5b",
   "outputs": [
    {
     "name": "stdout",
     "output_type": "stream",
     "text": [
      "3\n"
     ]
    }
   ],
   "execution_count": 55
  },
  {
   "metadata": {
    "ExecuteTime": {
     "end_time": "2025-09-15T04:49:39.916120Z",
     "start_time": "2025-09-15T04:49:39.912525Z"
    }
   },
   "cell_type": "code",
   "source": "result = add(10, 20)",
   "id": "6b298d6f6be38d60",
   "outputs": [
    {
     "name": "stdout",
     "output_type": "stream",
     "text": [
      "add(x=10, y=20) -> 30\n",
      "add의 리턴 값은 2의 배수입니다.\n"
     ]
    }
   ],
   "execution_count": 56
  },
  {
   "metadata": {
    "ExecuteTime": {
     "end_time": "2025-09-15T04:50:16.759204Z",
     "start_time": "2025-09-15T04:50:16.755021Z"
    }
   },
   "cell_type": "code",
   "source": "print(result)",
   "id": "9b7dac679e3c8344",
   "outputs": [
    {
     "name": "stdout",
     "output_type": "stream",
     "text": [
      "30\n"
     ]
    }
   ],
   "execution_count": 57
  },
  {
   "metadata": {
    "ExecuteTime": {
     "end_time": "2025-09-15T04:53:16.668078Z",
     "start_time": "2025-09-15T04:53:16.664705Z"
    }
   },
   "cell_type": "code",
   "source": [
    "@is_multiple(3)\n",
    "def subtract(x, y):\n",
    "    return x - y"
   ],
   "id": "f19fc2d611e3647b",
   "outputs": [],
   "execution_count": 58
  },
  {
   "metadata": {
    "ExecuteTime": {
     "end_time": "2025-09-15T04:54:51.395054Z",
     "start_time": "2025-09-15T04:54:51.391452Z"
    }
   },
   "cell_type": "code",
   "source": "result = subtract(10, 1)",
   "id": "afa5b02f91dd61fc",
   "outputs": [
    {
     "name": "stdout",
     "output_type": "stream",
     "text": [
      "subtract(x=10, y=1) -> 9\n",
      "subtract의 리턴 값은 3의 배수입니다.\n"
     ]
    }
   ],
   "execution_count": 59
  },
  {
   "metadata": {
    "ExecuteTime": {
     "end_time": "2025-09-15T04:55:38.258244Z",
     "start_time": "2025-09-15T04:55:38.254323Z"
    }
   },
   "cell_type": "code",
   "source": "print(result)",
   "id": "8778401e97d6da18",
   "outputs": [
    {
     "name": "stdout",
     "output_type": "stream",
     "text": [
      "9\n"
     ]
    }
   ],
   "execution_count": 60
  },
  {
   "metadata": {
    "ExecuteTime": {
     "end_time": "2025-09-15T04:56:58.910727Z",
     "start_time": "2025-09-15T04:56:58.905895Z"
    }
   },
   "cell_type": "code",
   "source": [
    "@is_multiple(2)\n",
    "@is_multiple(3)\n",
    "def add(x, y):\n",
    "    return x + y"
   ],
   "id": "d413a3ad227a056",
   "outputs": [],
   "execution_count": 61
  },
  {
   "metadata": {
    "ExecuteTime": {
     "end_time": "2025-09-15T04:57:22.628246Z",
     "start_time": "2025-09-15T04:57:22.624202Z"
    }
   },
   "cell_type": "code",
   "source": "result = add(2, 4)",
   "id": "14bb4c7ba81317a4",
   "outputs": [
    {
     "name": "stdout",
     "output_type": "stream",
     "text": [
      "add(x=2, y=4) -> 6\n",
      "add의 리턴 값은 3의 배수입니다.\n",
      "wrapper(x=2, y=4) -> 6\n",
      "wrapper의 리턴 값은 2의 배수입니다.\n"
     ]
    }
   ],
   "execution_count": 62
  },
  {
   "metadata": {
    "ExecuteTime": {
     "end_time": "2025-09-15T04:57:51.981249Z",
     "start_time": "2025-09-15T04:57:51.976734Z"
    }
   },
   "cell_type": "code",
   "source": "print(result)",
   "id": "16acd218446b9bcf",
   "outputs": [
    {
     "name": "stdout",
     "output_type": "stream",
     "text": [
      "6\n"
     ]
    }
   ],
   "execution_count": 63
  },
  {
   "metadata": {},
   "cell_type": "markdown",
   "source": [
    "데코레이터(`@decorator`)를 여러 개 사용하면 데코레이터에서 반환된 wrapper 함수가 다른 데코레이터의 아규먼트로 전달됨. 그래서 두번째 데코레이터에서 `__name__` 속성의 값은 `wrapper`가 됨.\n",
    "\n",
    "처음에 전달된 함수 이름을 그대로 출력하고 싶을 때 `functools` 모듈의 `wraps` 데코레이터를 사용하면 됨."
   ],
   "id": "f1874851ce3dfcb7"
  },
  {
   "metadata": {
    "ExecuteTime": {
     "end_time": "2025-09-15T05:04:46.748773Z",
     "start_time": "2025-09-15T05:04:46.745211Z"
    }
   },
   "cell_type": "code",
   "source": "import functools",
   "id": "6e9c64477b96da8b",
   "outputs": [],
   "execution_count": 64
  },
  {
   "metadata": {
    "ExecuteTime": {
     "end_time": "2025-09-15T05:08:34.039174Z",
     "start_time": "2025-09-15T05:08:34.034957Z"
    }
   },
   "cell_type": "code",
   "source": [
    "def is_multiple(n):\n",
    "    def decorator(func):\n",
    "        @functools.wraps(func)\n",
    "        def wrapper(x, y):\n",
    "            r = func(x, y)\n",
    "            print(f'{func.__name__}(x={x}, y={y}) -> {r}')\n",
    "            if r % n == 0:\n",
    "                print(f'{func.__name__}의 리턴 값은 {n}의 배수입니다.')\n",
    "            else:\n",
    "                print(f'{func.__name__}의 리턴 값은 {n}의 배수가 아닙니다.')\n",
    "\n",
    "            return r\n",
    "\n",
    "        return wrapper\n",
    "\n",
    "    return decorator"
   ],
   "id": "c0f68fc53d414a5f",
   "outputs": [],
   "execution_count": 65
  },
  {
   "metadata": {
    "ExecuteTime": {
     "end_time": "2025-09-15T05:09:26.125058Z",
     "start_time": "2025-09-15T05:09:26.120861Z"
    }
   },
   "cell_type": "code",
   "source": [
    "@is_multiple(2)\n",
    "@is_multiple(3)\n",
    "def subtract(x, y):\n",
    "    return x - y"
   ],
   "id": "ee44931151d47d63",
   "outputs": [],
   "execution_count": 66
  },
  {
   "metadata": {
    "ExecuteTime": {
     "end_time": "2025-09-15T05:09:51.336130Z",
     "start_time": "2025-09-15T05:09:51.332015Z"
    }
   },
   "cell_type": "code",
   "source": "result = subtract(10, 1)",
   "id": "fbe7b44cfbb97350",
   "outputs": [
    {
     "name": "stdout",
     "output_type": "stream",
     "text": [
      "subtract(x=10, y=1) -> 9\n",
      "subtract의 리턴 값은 3의 배수입니다.\n",
      "subtract(x=10, y=1) -> 9\n",
      "subtract의 리턴 값은 2의 배수가 아닙니다.\n"
     ]
    }
   ],
   "execution_count": 67
  },
  {
   "metadata": {},
   "cell_type": "markdown",
   "source": "# 클래스로 데코레이터 작성",
   "id": "19454da9c9c7747d"
  },
  {
   "metadata": {
    "ExecuteTime": {
     "end_time": "2025-09-15T05:17:57.256118Z",
     "start_time": "2025-09-15T05:17:57.253232Z"
    }
   },
   "cell_type": "code",
   "source": [
    "class Square:\n",
    "    def __init__(self):\n",
    "        print('Square 객체 생성됨.')\n",
    "\n",
    "    def __call__(self, n):\n",
    "        return n ** 2"
   ],
   "id": "91883c0a67507271",
   "outputs": [],
   "execution_count": 70
  },
  {
   "metadata": {
    "ExecuteTime": {
     "end_time": "2025-09-15T05:18:00.353832Z",
     "start_time": "2025-09-15T05:18:00.350806Z"
    }
   },
   "cell_type": "code",
   "source": "square = Square()  # 생성자 호출 -> __init__ 메서드 호출",
   "id": "15f6c708efa547b",
   "outputs": [
    {
     "name": "stdout",
     "output_type": "stream",
     "text": [
      "Square 객체 생성됨.\n"
     ]
    }
   ],
   "execution_count": 71
  },
  {
   "metadata": {
    "ExecuteTime": {
     "end_time": "2025-09-15T05:18:33.070253Z",
     "start_time": "2025-09-15T05:18:33.065906Z"
    }
   },
   "cell_type": "code",
   "source": "square(3)  # 인스턴스를 함수처럼 호출 -> __call__ 메서드 호출",
   "id": "fd3370e9f9c70dd",
   "outputs": [
    {
     "data": {
      "text/plain": [
       "9"
      ]
     },
     "execution_count": 72,
     "metadata": {},
     "output_type": "execute_result"
    }
   ],
   "execution_count": 72
  },
  {
   "metadata": {},
   "cell_type": "code",
   "outputs": [],
   "execution_count": null,
   "source": "",
   "id": "5e8a1f4a468e6eaf"
  }
 ],
 "metadata": {
  "kernelspec": {
   "display_name": "Python 3",
   "language": "python",
   "name": "python3"
  },
  "language_info": {
   "codemirror_mode": {
    "name": "ipython",
    "version": 2
   },
   "file_extension": ".py",
   "mimetype": "text/x-python",
   "name": "python",
   "nbconvert_exporter": "python",
   "pygments_lexer": "ipython2",
   "version": "2.7.6"
  }
 },
 "nbformat": 4,
 "nbformat_minor": 5
}
