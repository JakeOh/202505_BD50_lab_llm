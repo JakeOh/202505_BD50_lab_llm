{
 "cells": [
  {
   "metadata": {},
   "cell_type": "markdown",
   "source": "# Decorator 디자인 패턴",
   "id": "ec690bae8739094e"
  },
  {
   "cell_type": "code",
   "id": "initial_id",
   "metadata": {
    "collapsed": true,
    "ExecuteTime": {
     "end_time": "2025-09-15T01:46:41.749573Z",
     "start_time": "2025-09-15T01:46:41.745020Z"
    }
   },
   "source": [
    "def hello():\n",
    "    print('--- hello 시작 ---')  # 로그 기능\n",
    "    print('안녕...')  # hello 함수의 주된 기능\n",
    "    print('--- hello 종료 ---')  # 로그 기능"
   ],
   "outputs": [],
   "execution_count": 1
  },
  {
   "metadata": {
    "ExecuteTime": {
     "end_time": "2025-09-15T01:46:47.410886Z",
     "start_time": "2025-09-15T01:46:47.407500Z"
    }
   },
   "cell_type": "code",
   "source": "hello()",
   "id": "9f85386417fa7bd3",
   "outputs": [
    {
     "name": "stdout",
     "output_type": "stream",
     "text": [
      "--- hello 시작 ---\n",
      "안녕...\n",
      "--- hello 종료 ---\n"
     ]
    }
   ],
   "execution_count": 2
  },
  {
   "metadata": {
    "ExecuteTime": {
     "end_time": "2025-09-15T01:48:00.937023Z",
     "start_time": "2025-09-15T01:48:00.934070Z"
    }
   },
   "cell_type": "code",
   "source": [
    "def world():\n",
    "    print('--- world 시작 ---')\n",
    "    print('World...')\n",
    "    print('--- world 종료 ---')"
   ],
   "id": "54e96b9aea54e449",
   "outputs": [],
   "execution_count": 3
  },
  {
   "metadata": {
    "ExecuteTime": {
     "end_time": "2025-09-15T01:48:06.384934Z",
     "start_time": "2025-09-15T01:48:06.380847Z"
    }
   },
   "cell_type": "code",
   "source": "world()",
   "id": "df0ebaf6703d42b5",
   "outputs": [
    {
     "name": "stdout",
     "output_type": "stream",
     "text": [
      "--- world 시작 ---\n",
      "World...\n",
      "--- world 종료 ---\n"
     ]
    }
   ],
   "execution_count": 4
  },
  {
   "metadata": {},
   "cell_type": "markdown",
   "source": "hello() 함수와 world() 함수는 주된 기능만을 작성, 부가적인 기능(로깅, 아규먼트 검사, ...)들은 공통으로 작성하는 기법.",
   "id": "bf90ab4015ae0bde"
  },
  {
   "metadata": {
    "ExecuteTime": {
     "end_time": "2025-09-15T01:56:29.552325Z",
     "start_time": "2025-09-15T01:56:29.548352Z"
    }
   },
   "cell_type": "code",
   "source": [
    "def trace(func):\n",
    "    # 지역 함수(local function) 선언\n",
    "    def wrapper():\n",
    "        print(f'===== {func.__name__} 시작 =====')\n",
    "        func()  # trace 함수의 아규먼트인 함수 func를 실행.\n",
    "        print(f'===== {func.__name__} 종료 =====')\n",
    "\n",
    "    return wrapper  # 지역 함수 \"객체\"를 리턴."
   ],
   "id": "482f6661f3329770",
   "outputs": [],
   "execution_count": 5
  },
  {
   "metadata": {
    "ExecuteTime": {
     "end_time": "2025-09-15T01:56:48.404678Z",
     "start_time": "2025-09-15T01:56:48.401172Z"
    }
   },
   "cell_type": "code",
   "source": [
    "def hello():\n",
    "    print('안녕...')"
   ],
   "id": "1bb5b110bdc1e99c",
   "outputs": [],
   "execution_count": 6
  },
  {
   "metadata": {
    "ExecuteTime": {
     "end_time": "2025-09-15T01:56:57.910275Z",
     "start_time": "2025-09-15T01:56:57.906798Z"
    }
   },
   "cell_type": "code",
   "source": [
    "def world():\n",
    "    print('World...')"
   ],
   "id": "da1baa23638ad24c",
   "outputs": [],
   "execution_count": 7
  },
  {
   "metadata": {
    "ExecuteTime": {
     "end_time": "2025-09-15T01:58:48.631293Z",
     "start_time": "2025-09-15T01:58:48.627907Z"
    }
   },
   "cell_type": "code",
   "source": "hello_trace = trace(hello)",
   "id": "924dd3e5b3c6120d",
   "outputs": [],
   "execution_count": 8
  },
  {
   "metadata": {
    "ExecuteTime": {
     "end_time": "2025-09-15T01:58:55.783236Z",
     "start_time": "2025-09-15T01:58:55.778754Z"
    }
   },
   "cell_type": "code",
   "source": "type(hello_trace)",
   "id": "40999c4406f73b08",
   "outputs": [
    {
     "data": {
      "text/plain": [
       "function"
      ]
     },
     "execution_count": 9,
     "metadata": {},
     "output_type": "execute_result"
    }
   ],
   "execution_count": 9
  },
  {
   "metadata": {
    "ExecuteTime": {
     "end_time": "2025-09-15T01:59:06.542820Z",
     "start_time": "2025-09-15T01:59:06.539366Z"
    }
   },
   "cell_type": "code",
   "source": "hello_trace()",
   "id": "c350ff5adb314be0",
   "outputs": [
    {
     "name": "stdout",
     "output_type": "stream",
     "text": [
      "===== hello 시작 =====\n",
      "안녕...\n",
      "===== hello 종료 =====\n"
     ]
    }
   ],
   "execution_count": 10
  },
  {
   "metadata": {
    "ExecuteTime": {
     "end_time": "2025-09-15T01:59:43.383837Z",
     "start_time": "2025-09-15T01:59:43.380897Z"
    }
   },
   "cell_type": "code",
   "source": [
    "world_trace = trace(world)\n",
    "world_trace()"
   ],
   "id": "8d256002d42414c0",
   "outputs": [
    {
     "name": "stdout",
     "output_type": "stream",
     "text": [
      "===== world 시작 =====\n",
      "World...\n",
      "===== world 종료 =====\n"
     ]
    }
   ],
   "execution_count": 11
  },
  {
   "metadata": {},
   "cell_type": "markdown",
   "source": [
    "trace() 함수를 데코레이터(decorator) 함수라고 함.\n",
    "\n",
    "`@decorator` 애너테이션을 호출하고자 하는 함수 선언 부분에 사용하면 더 편리하게 이용할 수 있음."
   ],
   "id": "bf8cbf611fac3d20"
  },
  {
   "metadata": {
    "ExecuteTime": {
     "end_time": "2025-09-15T02:05:45.870382Z",
     "start_time": "2025-09-15T02:05:45.867554Z"
    }
   },
   "cell_type": "code",
   "source": [
    "@trace\n",
    "def hello2():\n",
    "    print('hello2...')"
   ],
   "id": "f96145d7658cdd33",
   "outputs": [],
   "execution_count": 16
  },
  {
   "metadata": {
    "ExecuteTime": {
     "end_time": "2025-09-15T02:05:52.743096Z",
     "start_time": "2025-09-15T02:05:52.740192Z"
    }
   },
   "cell_type": "code",
   "source": "hello2()",
   "id": "f66795c796999d38",
   "outputs": [
    {
     "name": "stdout",
     "output_type": "stream",
     "text": [
      "===== hello2 시작 =====\n",
      "hello2...\n",
      "===== hello2 종료 =====\n"
     ]
    }
   ],
   "execution_count": 17
  },
  {
   "metadata": {
    "ExecuteTime": {
     "end_time": "2025-09-15T02:07:40.718042Z",
     "start_time": "2025-09-15T02:07:40.713645Z"
    }
   },
   "cell_type": "code",
   "source": [
    "@trace\n",
    "def world2():\n",
    "    print('world2...')"
   ],
   "id": "dd2357e0b0069593",
   "outputs": [],
   "execution_count": 18
  },
  {
   "metadata": {
    "ExecuteTime": {
     "end_time": "2025-09-15T02:07:55.882781Z",
     "start_time": "2025-09-15T02:07:55.878323Z"
    }
   },
   "cell_type": "code",
   "source": "world2()",
   "id": "c5b99441ba630a83",
   "outputs": [
    {
     "name": "stdout",
     "output_type": "stream",
     "text": [
      "===== world2 시작 =====\n",
      "world2...\n",
      "===== world2 종료 =====\n"
     ]
    }
   ],
   "execution_count": 19
  },
  {
   "metadata": {},
   "cell_type": "markdown",
   "source": "함수에 데코레이터를 여러 개 지정할 수도 있음.",
   "id": "c98aeea5af1a0631"
  },
  {
   "metadata": {
    "ExecuteTime": {
     "end_time": "2025-09-15T02:11:05.051006Z",
     "start_time": "2025-09-15T02:11:05.047467Z"
    }
   },
   "cell_type": "code",
   "source": [
    "def deco1(func):\n",
    "    def wrapper():\n",
    "        print('--- deco1 시작 ---')\n",
    "        func()\n",
    "        print('--- deco1 종료 ---')\n",
    "\n",
    "    return wrapper"
   ],
   "id": "b4243e578b5918b0",
   "outputs": [],
   "execution_count": 20
  },
  {
   "metadata": {
    "ExecuteTime": {
     "end_time": "2025-09-15T02:11:54.330178Z",
     "start_time": "2025-09-15T02:11:54.326362Z"
    }
   },
   "cell_type": "code",
   "source": [
    "def deco2(func):\n",
    "    def wrapper():\n",
    "        print('--- deco2 시작 ---')\n",
    "        func()\n",
    "        print('--- deco2 종료 ---')\n",
    "\n",
    "    return wrapper"
   ],
   "id": "bac6f1a85f38a576",
   "outputs": [],
   "execution_count": 21
  },
  {
   "metadata": {
    "ExecuteTime": {
     "end_time": "2025-09-15T02:13:14.027424Z",
     "start_time": "2025-09-15T02:13:14.023590Z"
    }
   },
   "cell_type": "code",
   "source": [
    "@deco1\n",
    "@deco2\n",
    "def hello_world():\n",
    "    print('Hello, world!')"
   ],
   "id": "cd090f5862d4e9c3",
   "outputs": [],
   "execution_count": 22
  },
  {
   "metadata": {
    "ExecuteTime": {
     "end_time": "2025-09-15T02:16:29.654664Z",
     "start_time": "2025-09-15T02:16:29.651064Z"
    }
   },
   "cell_type": "code",
   "source": "hello_world()",
   "id": "49462d6a1057e4cc",
   "outputs": [
    {
     "name": "stdout",
     "output_type": "stream",
     "text": [
      "--- deco1 시작 ---\n",
      "--- deco2 시작 ---\n",
      "Hello, world!\n",
      "--- deco2 종료 ---\n",
      "--- deco1 종료 ---\n"
     ]
    }
   ],
   "execution_count": 23
  },
  {
   "metadata": {},
   "cell_type": "markdown",
   "source": "# 파라미터와 반환값을 처리하는 데코레이터",
   "id": "602108a423a24be4"
  },
  {
   "metadata": {},
   "cell_type": "code",
   "outputs": [],
   "execution_count": null,
   "source": "",
   "id": "698fb331b4f5ac22"
  }
 ],
 "metadata": {
  "kernelspec": {
   "display_name": "Python 3",
   "language": "python",
   "name": "python3"
  },
  "language_info": {
   "codemirror_mode": {
    "name": "ipython",
    "version": 2
   },
   "file_extension": ".py",
   "mimetype": "text/x-python",
   "name": "python",
   "nbconvert_exporter": "python",
   "pygments_lexer": "ipython2",
   "version": "2.7.6"
  }
 },
 "nbformat": 4,
 "nbformat_minor": 5
}
