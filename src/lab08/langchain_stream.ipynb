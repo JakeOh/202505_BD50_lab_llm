{
 "cells": [
  {
   "metadata": {
    "ExecuteTime": {
     "end_time": "2025-09-16T05:11:43.690795Z",
     "start_time": "2025-09-16T05:11:42.716691Z"
    }
   },
   "cell_type": "code",
   "source": [
    "from dotenv import load_dotenv\n",
    "from langchain_core.output_parsers import StrOutputParser\n",
    "from langchain_openai import ChatOpenAI\n",
    "from langchain_core.messages import SystemMessage, HumanMessage\n",
    "\n",
    "from src.lab08.langchain_tool import ai_message"
   ],
   "id": "ae26d7c3d05d427e",
   "outputs": [],
   "execution_count": 1
  },
  {
   "metadata": {
    "ExecuteTime": {
     "end_time": "2025-09-16T05:11:51.771512Z",
     "start_time": "2025-09-16T05:11:51.765666Z"
    }
   },
   "cell_type": "code",
   "source": "load_dotenv()  # .env 파일의 api_key 정보를 환경 변수로 로딩.",
   "id": "7361f2a84fb9e170",
   "outputs": [
    {
     "data": {
      "text/plain": [
       "True"
      ]
     },
     "execution_count": 2,
     "metadata": {},
     "output_type": "execute_result"
    }
   ],
   "execution_count": 2
  },
  {
   "metadata": {},
   "cell_type": "markdown",
   "source": "# 한 번에 출력하기",
   "id": "8af60b367d721ebb"
  },
  {
   "metadata": {},
   "cell_type": "markdown",
   "source": "## 언어 모델만 있는 경우 한 번에 출력하기",
   "id": "e54e879d2c4e8c0f"
  },
  {
   "cell_type": "code",
   "id": "initial_id",
   "metadata": {
    "collapsed": true,
    "ExecuteTime": {
     "end_time": "2025-09-16T05:12:56.165570Z",
     "start_time": "2025-09-16T05:12:55.573607Z"
    }
   },
   "source": "model = ChatOpenAI(model='gpt-4o-mini')",
   "outputs": [],
   "execution_count": 3
  },
  {
   "metadata": {
    "ExecuteTime": {
     "end_time": "2025-09-16T05:13:30.632563Z",
     "start_time": "2025-09-16T05:13:30.629054Z"
    }
   },
   "cell_type": "code",
   "source": "parser = StrOutputParser()",
   "id": "9dd62219a3396844",
   "outputs": [],
   "execution_count": 4
  },
  {
   "metadata": {
    "ExecuteTime": {
     "end_time": "2025-09-16T05:13:44.769174Z",
     "start_time": "2025-09-16T05:13:44.765791Z"
    }
   },
   "cell_type": "code",
   "source": "chain = model | parser",
   "id": "b200c009d941b2f9",
   "outputs": [],
   "execution_count": 5
  },
  {
   "metadata": {
    "ExecuteTime": {
     "end_time": "2025-09-16T05:15:13.745496Z",
     "start_time": "2025-09-16T05:15:13.740824Z"
    }
   },
   "cell_type": "code",
   "source": "messages = [HumanMessage('한강 작가의 채식주의자를 1000자 이내로 요약해줘.')]",
   "id": "197878f2a381d890",
   "outputs": [],
   "execution_count": 6
  },
  {
   "metadata": {
    "ExecuteTime": {
     "end_time": "2025-09-16T05:16:23.336775Z",
     "start_time": "2025-09-16T05:16:19.893593Z"
    }
   },
   "cell_type": "code",
   "source": "ai_message = chain.invoke(input=messages)",
   "id": "da899bf033d0b4ed",
   "outputs": [],
   "execution_count": 7
  },
  {
   "metadata": {
    "ExecuteTime": {
     "end_time": "2025-09-16T05:16:34.313140Z",
     "start_time": "2025-09-16T05:16:34.309045Z"
    }
   },
   "cell_type": "code",
   "source": "print(ai_message)",
   "id": "fe3103a997ac3773",
   "outputs": [
    {
     "name": "stdout",
     "output_type": "stream",
     "text": [
      "한강의 소설 『채식주의자』는 현대 사회에서 개인의 선택과 정체성, 가족과 사회의 갈등을 탐구하는 작품입니다. 이야기는 주인공 영혜가 갑자기 채식주의자가 되면서 시작됩니다. 그녀는 고기를 거부하고 완전히 채식으로 전환하는데, 이는 가족과 주변 사람들에게 큰 충격을 안깁니다.\n",
      "\n",
      "소설은 세 개의 파트로 나뉘어 있으며, 각 파트는 다른 시점에서 영혜의 삶을 다룹니다. 첫 번째 파트는 남편의 시점에서 영혜의 변화를 바라보는 이야기로, 그녀의 선택이 가정에 미치는 영향을 보여줍니다. 두 번째 파트에서는 영혜의 형부가 등장해 그녀에게 매력을 느끼게 되며, 이로 인해 발생하는 비극적인 사건이 그려집니다. 마지막 파트는 영혜의 언니의 시점으로, 그녀의 복잡한 감정을 통해 가족의 붕괴와 영혜의 고통을 조명합니다.\n",
      "\n",
      "채식주의가 단순한 식습관의 변화가 아니라 존재에 대한 깊은 질문으로 이어지면서, 작가는 인간의 삶에 대한 심오한 성찰을 담고 있습니다. 이 작품은 변증법적 요소를 통해 인간의 본성과 욕망, 그리고 그것이 사회와 어떻게 얽히는지를 탐구하여 독자에게 강렬한 여운을 남깁니다.\n"
     ]
    }
   ],
   "execution_count": 8
  },
  {
   "metadata": {},
   "cell_type": "markdown",
   "source": "## 도구를 설정한 경우 한 번에 출력하기",
   "id": "85ddfd4a520b188"
  },
  {
   "metadata": {},
   "cell_type": "markdown",
   "source": "# 스트리밍 방식으로 출력하기",
   "id": "f4f89f2e0808c403"
  },
  {
   "metadata": {},
   "cell_type": "code",
   "outputs": [],
   "execution_count": null,
   "source": "",
   "id": "b2aae40d48a7af01"
  }
 ],
 "metadata": {
  "kernelspec": {
   "display_name": "Python 3",
   "language": "python",
   "name": "python3"
  },
  "language_info": {
   "codemirror_mode": {
    "name": "ipython",
    "version": 2
   },
   "file_extension": ".py",
   "mimetype": "text/x-python",
   "name": "python",
   "nbconvert_exporter": "python",
   "pygments_lexer": "ipython2",
   "version": "2.7.6"
  }
 },
 "nbformat": 4,
 "nbformat_minor": 5
}
