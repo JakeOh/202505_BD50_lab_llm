{
 "cells": [
  {
   "metadata": {
    "ExecuteTime": {
     "end_time": "2025-09-16T05:38:43.041617Z",
     "start_time": "2025-09-16T05:38:43.037741Z"
    }
   },
   "cell_type": "code",
   "source": [
    "from dotenv import load_dotenv\n",
    "from langchain_core.output_parsers import StrOutputParser\n",
    "from langchain_openai import ChatOpenAI\n",
    "from langchain_core.messages import SystemMessage, HumanMessage\n",
    "\n",
    "from src.lab08.langchain_tools import tools, tool_dict\n",
    "from src.lab08.langchain_tools import get_current_time, get_yf_stock_history"
   ],
   "id": "ae26d7c3d05d427e",
   "outputs": [],
   "execution_count": 10
  },
  {
   "metadata": {
    "ExecuteTime": {
     "end_time": "2025-09-16T05:11:51.771512Z",
     "start_time": "2025-09-16T05:11:51.765666Z"
    }
   },
   "cell_type": "code",
   "source": "load_dotenv()  # .env 파일의 api_key 정보를 환경 변수로 로딩.",
   "id": "7361f2a84fb9e170",
   "outputs": [
    {
     "data": {
      "text/plain": [
       "True"
      ]
     },
     "execution_count": 2,
     "metadata": {},
     "output_type": "execute_result"
    }
   ],
   "execution_count": 2
  },
  {
   "metadata": {},
   "cell_type": "markdown",
   "source": "# 한 번에 출력하기",
   "id": "8af60b367d721ebb"
  },
  {
   "metadata": {},
   "cell_type": "markdown",
   "source": "## 언어 모델만 있는 경우 한 번에 출력하기",
   "id": "e54e879d2c4e8c0f"
  },
  {
   "cell_type": "code",
   "id": "initial_id",
   "metadata": {
    "collapsed": true,
    "ExecuteTime": {
     "end_time": "2025-09-16T05:12:56.165570Z",
     "start_time": "2025-09-16T05:12:55.573607Z"
    }
   },
   "source": "model = ChatOpenAI(model='gpt-4o-mini')",
   "outputs": [],
   "execution_count": 3
  },
  {
   "metadata": {
    "ExecuteTime": {
     "end_time": "2025-09-16T05:13:30.632563Z",
     "start_time": "2025-09-16T05:13:30.629054Z"
    }
   },
   "cell_type": "code",
   "source": "parser = StrOutputParser()",
   "id": "9dd62219a3396844",
   "outputs": [],
   "execution_count": 4
  },
  {
   "metadata": {
    "ExecuteTime": {
     "end_time": "2025-09-16T05:13:44.769174Z",
     "start_time": "2025-09-16T05:13:44.765791Z"
    }
   },
   "cell_type": "code",
   "source": "chain = model | parser",
   "id": "b200c009d941b2f9",
   "outputs": [],
   "execution_count": 5
  },
  {
   "metadata": {
    "ExecuteTime": {
     "end_time": "2025-09-16T05:15:13.745496Z",
     "start_time": "2025-09-16T05:15:13.740824Z"
    }
   },
   "cell_type": "code",
   "source": "messages = [HumanMessage('한강 작가의 채식주의자를 1000자 이내로 요약해줘.')]",
   "id": "197878f2a381d890",
   "outputs": [],
   "execution_count": 6
  },
  {
   "metadata": {
    "ExecuteTime": {
     "end_time": "2025-09-16T05:16:23.336775Z",
     "start_time": "2025-09-16T05:16:19.893593Z"
    }
   },
   "cell_type": "code",
   "source": "ai_message = chain.invoke(input=messages)",
   "id": "da899bf033d0b4ed",
   "outputs": [],
   "execution_count": 7
  },
  {
   "metadata": {
    "ExecuteTime": {
     "end_time": "2025-09-16T05:16:34.313140Z",
     "start_time": "2025-09-16T05:16:34.309045Z"
    }
   },
   "cell_type": "code",
   "source": "print(ai_message)",
   "id": "fe3103a997ac3773",
   "outputs": [
    {
     "name": "stdout",
     "output_type": "stream",
     "text": [
      "한강의 소설 『채식주의자』는 현대 사회에서 개인의 선택과 정체성, 가족과 사회의 갈등을 탐구하는 작품입니다. 이야기는 주인공 영혜가 갑자기 채식주의자가 되면서 시작됩니다. 그녀는 고기를 거부하고 완전히 채식으로 전환하는데, 이는 가족과 주변 사람들에게 큰 충격을 안깁니다.\n",
      "\n",
      "소설은 세 개의 파트로 나뉘어 있으며, 각 파트는 다른 시점에서 영혜의 삶을 다룹니다. 첫 번째 파트는 남편의 시점에서 영혜의 변화를 바라보는 이야기로, 그녀의 선택이 가정에 미치는 영향을 보여줍니다. 두 번째 파트에서는 영혜의 형부가 등장해 그녀에게 매력을 느끼게 되며, 이로 인해 발생하는 비극적인 사건이 그려집니다. 마지막 파트는 영혜의 언니의 시점으로, 그녀의 복잡한 감정을 통해 가족의 붕괴와 영혜의 고통을 조명합니다.\n",
      "\n",
      "채식주의가 단순한 식습관의 변화가 아니라 존재에 대한 깊은 질문으로 이어지면서, 작가는 인간의 삶에 대한 심오한 성찰을 담고 있습니다. 이 작품은 변증법적 요소를 통해 인간의 본성과 욕망, 그리고 그것이 사회와 어떻게 얽히는지를 탐구하여 독자에게 강렬한 여운을 남깁니다.\n"
     ]
    }
   ],
   "execution_count": 8
  },
  {
   "metadata": {},
   "cell_type": "markdown",
   "source": "## 도구를 설정한 경우 한 번에 출력하기",
   "id": "85ddfd4a520b188"
  },
  {
   "metadata": {
    "ExecuteTime": {
     "end_time": "2025-09-16T05:40:43.685440Z",
     "start_time": "2025-09-16T05:40:43.676612Z"
    }
   },
   "cell_type": "code",
   "source": [
    "# AI 모델과 도구 목록을 바인딩.\n",
    "model_with_tools = model.bind_tools(tools=tools)"
   ],
   "id": "7555bb782ad78404",
   "outputs": [],
   "execution_count": 11
  },
  {
   "metadata": {
    "ExecuteTime": {
     "end_time": "2025-09-16T05:41:35.534325Z",
     "start_time": "2025-09-16T05:41:35.531251Z"
    }
   },
   "cell_type": "code",
   "source": "messages = [HumanMessage('서울, 부산, LA의 현재 시간을 비교해줘.')]",
   "id": "cd2d48e6b5f27157",
   "outputs": [],
   "execution_count": 12
  },
  {
   "metadata": {
    "ExecuteTime": {
     "end_time": "2025-09-16T05:42:18.968771Z",
     "start_time": "2025-09-16T05:42:16.819732Z"
    }
   },
   "cell_type": "code",
   "source": "ai_message = model_with_tools.invoke(input=messages)",
   "id": "7e204366d41ae87c",
   "outputs": [],
   "execution_count": 13
  },
  {
   "metadata": {
    "ExecuteTime": {
     "end_time": "2025-09-16T05:42:33.303421Z",
     "start_time": "2025-09-16T05:42:33.299864Z"
    }
   },
   "cell_type": "code",
   "source": "ai_message.pretty_print()",
   "id": "f96598dd4503bd91",
   "outputs": [
    {
     "name": "stdout",
     "output_type": "stream",
     "text": [
      "==================================\u001B[1m Ai Message \u001B[0m==================================\n",
      "Tool Calls:\n",
      "  get_current_time (call_p2sCFWBTh29fkB4lCLklL7LA)\n",
      " Call ID: call_p2sCFWBTh29fkB4lCLklL7LA\n",
      "  Args:\n",
      "    timezone: Asia/Seoul\n",
      "    location: Seoul\n",
      "  get_current_time (call_sYkSMMbFBq7A4SNVPyPDHlMG)\n",
      " Call ID: call_sYkSMMbFBq7A4SNVPyPDHlMG\n",
      "  Args:\n",
      "    timezone: Asia/Seoul\n",
      "    location: Busan\n",
      "  get_current_time (call_tmyexjzzPFfbzIFWKIZGUBAe)\n",
      " Call ID: call_tmyexjzzPFfbzIFWKIZGUBAe\n",
      "  Args:\n",
      "    timezone: America/Los_Angeles\n",
      "    location: Los Angeles\n"
     ]
    }
   ],
   "execution_count": 14
  },
  {
   "metadata": {
    "ExecuteTime": {
     "end_time": "2025-09-16T05:45:13.952184Z",
     "start_time": "2025-09-16T05:45:13.947649Z"
    }
   },
   "cell_type": "code",
   "source": "messages.append(ai_message)  # tool_calls를 가지고 있는 AIMessage를 대화 리스트에 추가!",
   "id": "dc924e2279dd9206",
   "outputs": [],
   "execution_count": 15
  },
  {
   "metadata": {
    "ExecuteTime": {
     "end_time": "2025-09-16T05:50:34.609488Z",
     "start_time": "2025-09-16T05:50:34.572129Z"
    }
   },
   "cell_type": "code",
   "source": [
    "for tool_call in ai_message.tool_calls:\n",
    "    print(tool_call['name'], tool_call['args'])\n",
    "    fn = tool_dict[tool_call['name']]  # tool_dict.get(tool_call['name'])\n",
    "    tool_msg = fn.invoke(input=tool_call)  # invoke 메서드 호출 -> fn(args) 실행.\n",
    "    messages.append(tool_msg)"
   ],
   "id": "8da70a3b42cd85dc",
   "outputs": [
    {
     "name": "stdout",
     "output_type": "stream",
     "text": [
      "get_current_time {'timezone': 'Asia/Seoul', 'location': 'Seoul'}\n",
      "get_current_time {'timezone': 'Asia/Seoul', 'location': 'Busan'}\n",
      "get_current_time {'timezone': 'America/Los_Angeles', 'location': 'Los Angeles'}\n"
     ]
    }
   ],
   "execution_count": 17
  },
  {
   "metadata": {
    "ExecuteTime": {
     "end_time": "2025-09-16T05:50:53.657002Z",
     "start_time": "2025-09-16T05:50:53.652636Z"
    }
   },
   "cell_type": "code",
   "source": [
    "for m in messages:\n",
    "    m.pretty_print()"
   ],
   "id": "6d61a75493b8d87c",
   "outputs": [
    {
     "name": "stdout",
     "output_type": "stream",
     "text": [
      "================================\u001B[1m Human Message \u001B[0m=================================\n",
      "\n",
      "서울, 부산, LA의 현재 시간을 비교해줘.\n",
      "==================================\u001B[1m Ai Message \u001B[0m==================================\n",
      "Tool Calls:\n",
      "  get_current_time (call_p2sCFWBTh29fkB4lCLklL7LA)\n",
      " Call ID: call_p2sCFWBTh29fkB4lCLklL7LA\n",
      "  Args:\n",
      "    timezone: Asia/Seoul\n",
      "    location: Seoul\n",
      "  get_current_time (call_sYkSMMbFBq7A4SNVPyPDHlMG)\n",
      " Call ID: call_sYkSMMbFBq7A4SNVPyPDHlMG\n",
      "  Args:\n",
      "    timezone: Asia/Seoul\n",
      "    location: Busan\n",
      "  get_current_time (call_tmyexjzzPFfbzIFWKIZGUBAe)\n",
      " Call ID: call_tmyexjzzPFfbzIFWKIZGUBAe\n",
      "  Args:\n",
      "    timezone: America/Los_Angeles\n",
      "    location: Los Angeles\n",
      "=================================\u001B[1m Tool Message \u001B[0m=================================\n",
      "Name: get_current_time\n",
      "\n",
      "2025-09-16 14:50:34 Asia/Seoul(Seoul)\n",
      "=================================\u001B[1m Tool Message \u001B[0m=================================\n",
      "Name: get_current_time\n",
      "\n",
      "2025-09-16 14:50:34 Asia/Seoul(Busan)\n",
      "=================================\u001B[1m Tool Message \u001B[0m=================================\n",
      "Name: get_current_time\n",
      "\n",
      "2025-09-15 22:50:34 America/Los_Angeles(Los Angeles)\n"
     ]
    }
   ],
   "execution_count": 18
  },
  {
   "metadata": {
    "ExecuteTime": {
     "end_time": "2025-09-16T05:52:17.916982Z",
     "start_time": "2025-09-16T05:52:15.921634Z"
    }
   },
   "cell_type": "code",
   "source": "ai_message = model_with_tools.invoke(input=messages)",
   "id": "9b79acece9558601",
   "outputs": [],
   "execution_count": 19
  },
  {
   "metadata": {
    "ExecuteTime": {
     "end_time": "2025-09-16T05:52:31.581940Z",
     "start_time": "2025-09-16T05:52:31.578056Z"
    }
   },
   "cell_type": "code",
   "source": "ai_message.pretty_print()",
   "id": "30790d7b290ad0db",
   "outputs": [
    {
     "name": "stdout",
     "output_type": "stream",
     "text": [
      "==================================\u001B[1m Ai Message \u001B[0m==================================\n",
      "\n",
      "서울과 부산의 현재 시간은 **2025-09-16 14:50:34**입니다.  \n",
      "반면, LA의 현재 시간은 **2025-09-15 22:50:34**입니다.  \n",
      "\n",
      "서울과 부산은 동일한 시간을 가지고 있으며, LA는 16시간 뒤처져 있습니다.\n"
     ]
    }
   ],
   "execution_count": 20
  },
  {
   "metadata": {},
   "cell_type": "markdown",
   "source": "# 스트리밍 방식으로 출력하기",
   "id": "f4f89f2e0808c403"
  },
  {
   "metadata": {},
   "cell_type": "markdown",
   "source": "## 언어 모델만 있는 경우 스트리밍 출력",
   "id": "1a12a156f86f2e20"
  },
  {
   "metadata": {
    "ExecuteTime": {
     "end_time": "2025-09-16T06:04:17.182760Z",
     "start_time": "2025-09-16T06:04:17.179127Z"
    }
   },
   "cell_type": "code",
   "source": "messages = [HumanMessage('한강 작가의 채식주의자를 1000자 이내로 요약해줘.')]",
   "id": "b2aae40d48a7af01",
   "outputs": [],
   "execution_count": 21
  },
  {
   "metadata": {
    "ExecuteTime": {
     "end_time": "2025-09-16T06:08:41.490049Z",
     "start_time": "2025-09-16T06:08:41.486267Z"
    }
   },
   "cell_type": "code",
   "source": "response = model.stream(input=messages)",
   "id": "59c03844f11ac2b0",
   "outputs": [],
   "execution_count": 28
  },
  {
   "metadata": {
    "ExecuteTime": {
     "end_time": "2025-09-16T06:08:44.755775Z",
     "start_time": "2025-09-16T06:08:44.750184Z"
    }
   },
   "cell_type": "code",
   "source": "type(response)  #> generator: for-in 구문에서 반복할 때마다 어떤 값을 yield(반환)하는 객체.",
   "id": "7163f735a4d5d9b1",
   "outputs": [
    {
     "data": {
      "text/plain": [
       "generator"
      ]
     },
     "execution_count": 29,
     "metadata": {},
     "output_type": "execute_result"
    }
   ],
   "execution_count": 29
  },
  {
   "metadata": {
    "ExecuteTime": {
     "end_time": "2025-09-16T06:09:00.231884Z",
     "start_time": "2025-09-16T06:08:53.937477Z"
    }
   },
   "cell_type": "code",
   "source": [
    "for r in response:\n",
    "    print(r.content, end='')"
   ],
   "id": "c2a602fe3c2b305b",
   "outputs": [
    {
     "name": "stdout",
     "output_type": "stream",
     "text": [
      "한강의 소설 '채식주의자'는 현대 사회에서의 인간 존재와 정체성, 그리고 억압을 주제로 다루고 있습니다. 이야기는 주인공 영혜를 중심으로 전개되며, 그녀가 갑자기 채식주의자로 전향하면서 가족과 주변 인물들의 삶에 미치는 영향이 주된 내용입니다.\n",
      "\n",
      "영혜는 꿈에서 묘사된 잔인한 이미지에 고통받고, 이를 계기로 육식에 대한 반감을 느끼고 채식을 시작합니다. 그녀의 결정은 가족, 특히 남편과 부모에게 큰 충격을 주고, 그로 인해 각 인물은 자신의 강박적인 욕망과 갈등을 드러내게 됩니다. 영혜의 변화는 단순한 식습관의 변화가 아니라, 그녀의 내면 세계와 사회적 규범에 대한 반항을 상징합니다.\n",
      "\n",
      "각 장은 영혜의 시점에서 진행되며, 그녀의 남편, 여자 형제, 그리고 곁에 있는 인물들이 그녀의 선택에 대한 각기 다른 반응을 보입니다. 이 과정에서 인간의 본성과 욕망, 그리고 상실감이 심도 있게 탐구되어 있습니다.\n",
      "\n",
      "최종적으로, '채식주의자'는 개인의 자기결정권과 사회적 압박, 그리고 인간 존재의 의미를 깊이 있게 성찰하는 작품입니다. 영혜의 선택은 그녀 자신뿐만 아니라 그녀를 둘러싼 모든 인물들에게도 치명적인 영향을 미치며, 이를 통해 작가는 인간 관계의 복잡성과 불안정함을 드러냅니다."
     ]
    }
   ],
   "execution_count": 30
  },
  {
   "metadata": {
    "ExecuteTime": {
     "end_time": "2025-09-16T06:13:05.332732Z",
     "start_time": "2025-09-16T06:12:58.403270Z"
    }
   },
   "cell_type": "code",
   "source": [
    "# model과 parser가 연결된 체인을 사용하는 경우\n",
    "response = chain.stream(input=[HumanMessage('해리포터와 비밀의 방의 내용을 1000자 이내로 요약해줘. ')])\n",
    "for r in response:\n",
    "    print(r, end='')"
   ],
   "id": "754b52e1bd72ac6e",
   "outputs": [
    {
     "name": "stdout",
     "output_type": "stream",
     "text": [
      "《해리 포터와 비밀의 방》은 J.K. 롤링의 해리 포터 시리즈 두 번째 책으로, 해리 포터가 호그와트 마법학교의 두 번째 해를 보내는 이야기를 다룹니다. 여름 방학 동안, 해리는 더즐리 가정에서 지내고 있는데, 그들은 그를 무시하고 차별합니다. 해리는 자신의 친구 론 위즐리가 구급차를 타고 그를 구하러 오게 됩니다.\n",
      "\n",
      "호그와트에 돌아온 해리와 친구들은 학교에서 신비로운 사건들이 발생하는 것을 목격합니다. 학생들과 여러 마법 생물들이 공격받고, '비밀의 방'이 열렸다는 소문이 퍼집니다. 이 방은 뱀파이어의 후손인 슬리데린의 후계자가 숨겨둔 곳으로, 괴물이 풀어져 학교 학생들을 위협하고 있습니다.\n",
      "\n",
      "해리와 친구들은 진실을 파헤치기 위해 조사를 시작합니다. 해리는 과거의 유령인 모리의 이야기를 듣고, 자신이 뱀의 언어를 구사할 수 있다는 사실을 알게 됩니다. 결국 해리는 소환된 괴물인 바실리스크와 맞서 싸우게 되고, 친구인 진리의 존재가 드러나면서 자신의 정체성과 슬리데린의 후계자에 대한 연결성을 깨닫게 됩니다.\n",
      "\n",
      "해리는 헬라의 불사조가 자신을 도와줘 바실리스크를 처치하고, 진리와 함께 새로운 친구를 구합니다. 사건이 해결된 후, 해리는 자신의 마법적 능력과 친구들의 소중함을 더욱 깊이 깨닫게 됩니다. 이 이야기는 우정, 용기, 그리고 정체성을 찾는 과정에 대한 중요한 메시지를 전달합니다."
     ]
    }
   ],
   "execution_count": 31
  },
  {
   "metadata": {},
   "cell_type": "markdown",
   "source": "## 도구를 포함하는 모델의 스트리밍 출력",
   "id": "12634d752a41abaa"
  },
  {
   "metadata": {},
   "cell_type": "code",
   "outputs": [],
   "execution_count": null,
   "source": "",
   "id": "f2d32a1297d9291b"
  }
 ],
 "metadata": {
  "kernelspec": {
   "display_name": "Python 3",
   "language": "python",
   "name": "python3"
  },
  "language_info": {
   "codemirror_mode": {
    "name": "ipython",
    "version": 2
   },
   "file_extension": ".py",
   "mimetype": "text/x-python",
   "name": "python",
   "nbconvert_exporter": "python",
   "pygments_lexer": "ipython2",
   "version": "2.7.6"
  }
 },
 "nbformat": 4,
 "nbformat_minor": 5
}
