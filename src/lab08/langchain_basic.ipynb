{
 "cells": [
  {
   "metadata": {},
   "cell_type": "markdown",
   "source": [
    "# LangChain 소개\n",
    "\n",
    "- LLM에 기반한 AI 앱(에이전트)를 쉽게 개발할 수 있도록 도와주는 프레임워크\n",
    "- 적은 코드 수정으로 다른 LLM 모델들을 쉽게 교체할 수 있다.\n",
    "  - 구글 Gemini, 메타 Llama, 앤트로픽 Claude, Deepseek와 같은 모델들은 OpenAI GPT와 사용방식이 달라서, 다른 언어 모델로 변경하려면 코드 전반을 수정해야 함.\n",
    "  - LangChain을 사용하면 LLM 선언 부분만 수정해서 다른 모델로 쉽게 교체할 수 있음.\n",
    "  - 특정 LLM에 종속되지 않고 다양한 모델의 장점을 활용하는 앱을 개발할 수 있음.\n",
    "- LangChain에서 미리 구축된 모듈들을 활용해서 개발 속도를 높일 수 있음."
   ],
   "id": "7d630478da371a48"
  },
  {
   "cell_type": "code",
   "id": "initial_id",
   "metadata": {
    "collapsed": true,
    "ExecuteTime": {
     "end_time": "2025-09-12T01:18:52.487067Z",
     "start_time": "2025-09-12T01:18:52.483516Z"
    }
   },
   "source": [
    "import dotenv\n",
    "from langchain_openai import ChatOpenAI\n",
    "from langchain_core.messages import SystemMessage, HumanMessage, AIMessage"
   ],
   "outputs": [],
   "execution_count": 5
  },
  {
   "metadata": {
    "ExecuteTime": {
     "end_time": "2025-09-12T01:13:31.890077Z",
     "start_time": "2025-09-12T01:13:31.870601Z"
    }
   },
   "cell_type": "code",
   "source": "dotenv.load_dotenv()  # .env 파일에 작성된 키-값을 OS 환경변수로 로딩.",
   "id": "f1331b9f5e082737",
   "outputs": [
    {
     "data": {
      "text/plain": [
       "True"
      ]
     },
     "execution_count": 2,
     "metadata": {},
     "output_type": "execute_result"
    }
   ],
   "execution_count": 2
  },
  {
   "metadata": {
    "ExecuteTime": {
     "end_time": "2025-09-12T01:16:17.885987Z",
     "start_time": "2025-09-12T01:16:17.120370Z"
    }
   },
   "cell_type": "code",
   "source": [
    "model = ChatOpenAI(model='gpt-4o-mini')  # ChatOpenAI 객체를 생성\n",
    "# LangChain의 ChatOpenAI 클래스는 OS 환경변수에 로딩된 api_key 값을 스스로 찾음."
   ],
   "id": "feb678ab06cfdd4",
   "outputs": [],
   "execution_count": 3
  },
  {
   "metadata": {
    "ExecuteTime": {
     "end_time": "2025-09-12T01:23:00.896138Z",
     "start_time": "2025-09-12T01:22:59.188338Z"
    }
   },
   "cell_type": "code",
   "source": [
    "response = model.invoke([HumanMessage(content='안녕, 난 오쌤이야. 넌 누구니?')])\n",
    "# HumanMessage: OpenAI를 사용할 때 {'role': 'user', 'content': 'user messages...'}와 비슷.\n",
    "# model.invoke: OpenAI의 client.chat.completions.create() 메서드 호출."
   ],
   "id": "3f10bab4e2ccc586",
   "outputs": [],
   "execution_count": 6
  },
  {
   "metadata": {
    "ExecuteTime": {
     "end_time": "2025-09-12T01:26:37.730510Z",
     "start_time": "2025-09-12T01:26:37.726538Z"
    }
   },
   "cell_type": "code",
   "source": "print(type(response))  #> AIMessage",
   "id": "ec2e412c2a057498",
   "outputs": [
    {
     "name": "stdout",
     "output_type": "stream",
     "text": [
      "<class 'langchain_core.messages.ai.AIMessage'>\n"
     ]
    }
   ],
   "execution_count": 7
  },
  {
   "metadata": {
    "ExecuteTime": {
     "end_time": "2025-09-12T01:27:15.573855Z",
     "start_time": "2025-09-12T01:27:15.570128Z"
    }
   },
   "cell_type": "code",
   "source": "print(response)",
   "id": "840bdc16f049a452",
   "outputs": [
    {
     "name": "stdout",
     "output_type": "stream",
     "text": [
      "content='안녕하세요, 오쌤! 저는 AI 언어 모델이에요. 여러분의 질문에 답하거나 도움을 드리기 위해 여기 있습니다. 무엇을 도와드릴까요?' additional_kwargs={'refusal': None} response_metadata={'token_usage': {'completion_tokens': 39, 'prompt_tokens': 23, 'total_tokens': 62, 'completion_tokens_details': {'accepted_prediction_tokens': 0, 'audio_tokens': 0, 'reasoning_tokens': 0, 'rejected_prediction_tokens': 0}, 'prompt_tokens_details': {'audio_tokens': 0, 'cached_tokens': 0}}, 'model_name': 'gpt-4o-mini-2024-07-18', 'system_fingerprint': 'fp_560af6e559', 'id': 'chatcmpl-CEmn7kX9NWYHPsZcHmLJBEKkIubGi', 'service_tier': 'default', 'finish_reason': 'stop', 'logprobs': None} id='run--ae12bf6a-6a7b-4acc-8666-4e1a3e749cac-0' usage_metadata={'input_tokens': 23, 'output_tokens': 39, 'total_tokens': 62, 'input_token_details': {'audio': 0, 'cache_read': 0}, 'output_token_details': {'audio': 0, 'reasoning': 0}}\n"
     ]
    }
   ],
   "execution_count": 8
  },
  {
   "metadata": {},
   "cell_type": "code",
   "outputs": [],
   "execution_count": null,
   "source": "",
   "id": "5c68101d40122d35"
  }
 ],
 "metadata": {
  "kernelspec": {
   "display_name": "Python 3",
   "language": "python",
   "name": "python3"
  },
  "language_info": {
   "codemirror_mode": {
    "name": "ipython",
    "version": 2
   },
   "file_extension": ".py",
   "mimetype": "text/x-python",
   "name": "python",
   "nbconvert_exporter": "python",
   "pygments_lexer": "ipython2",
   "version": "2.7.6"
  }
 },
 "nbformat": 4,
 "nbformat_minor": 5
}
