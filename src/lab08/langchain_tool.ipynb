{
 "cells": [
  {
   "metadata": {},
   "cell_type": "markdown",
   "source": "# LangChain `@tool` 데코레이터",
   "id": "546819e6232c2568"
  },
  {
   "cell_type": "code",
   "id": "initial_id",
   "metadata": {
    "collapsed": true,
    "ExecuteTime": {
     "end_time": "2025-09-15T06:01:08.460943Z",
     "start_time": "2025-09-15T06:01:07.553402Z"
    }
   },
   "source": [
    "from datetime import datetime\n",
    "from dotenv import load_dotenv\n",
    "import pytz\n",
    "from langchain_core.tools import tool  # decorator\n",
    "from langchain_openai import ChatOpenAI\n",
    "from langchain_core.messages import SystemMessage, HumanMessage"
   ],
   "outputs": [],
   "execution_count": 1
  },
  {
   "metadata": {
    "ExecuteTime": {
     "end_time": "2025-09-15T06:01:58.657740Z",
     "start_time": "2025-09-15T06:01:58.651625Z"
    }
   },
   "cell_type": "code",
   "source": [
    "# .env 파일에 저장된 api_key를 OS 환경 변수로 로딩\n",
    "load_dotenv()"
   ],
   "id": "6318a94b3e5f4d8e",
   "outputs": [
    {
     "data": {
      "text/plain": [
       "True"
      ]
     },
     "execution_count": 2,
     "metadata": {},
     "output_type": "execute_result"
    }
   ],
   "execution_count": 2
  },
  {
   "metadata": {
    "ExecuteTime": {
     "end_time": "2025-09-15T06:02:48.096206Z",
     "start_time": "2025-09-15T06:02:47.373792Z"
    }
   },
   "cell_type": "code",
   "source": [
    "# OpenAI 클라이언트를 생성\n",
    "model = ChatOpenAI(model='gpt-4o-mini')"
   ],
   "id": "e406181c02ac3c3b",
   "outputs": [],
   "execution_count": 3
  },
  {
   "metadata": {
    "ExecuteTime": {
     "end_time": "2025-09-15T06:05:09.180225Z",
     "start_time": "2025-09-15T06:05:04.780514Z"
    }
   },
   "cell_type": "code",
   "source": [
    "# AI에게 메시지 전달하고 실행(invoke).\n",
    "messages = [\n",
    "    SystemMessage(content='너는 사용자의 질문에 답하는 AI 비서야.'),\n",
    "    HumanMessage(content='지금 현재 서울 시간?')\n",
    "]\n",
    "ai_message = model.invoke(input=messages)"
   ],
   "id": "b71b18debe609fb7",
   "outputs": [],
   "execution_count": 4
  },
  {
   "metadata": {
    "ExecuteTime": {
     "end_time": "2025-09-15T06:05:17.837910Z",
     "start_time": "2025-09-15T06:05:17.834311Z"
    }
   },
   "cell_type": "code",
   "source": "type(ai_message)",
   "id": "e904b69aa946816a",
   "outputs": [
    {
     "data": {
      "text/plain": [
       "langchain_core.messages.ai.AIMessage"
      ]
     },
     "execution_count": 5,
     "metadata": {},
     "output_type": "execute_result"
    }
   ],
   "execution_count": 5
  },
  {
   "metadata": {
    "ExecuteTime": {
     "end_time": "2025-09-15T06:05:48.362153Z",
     "start_time": "2025-09-15T06:05:48.345711Z"
    }
   },
   "cell_type": "code",
   "source": "print(ai_message)",
   "id": "1904f140ff1a3d13",
   "outputs": [
    {
     "name": "stdout",
     "output_type": "stream",
     "text": [
      "content='현재 시간을 정확히 알 수는 없지만, 서울은 UTC+9 시간대에 위치해 있습니다. 당신이 현재 위치한 시간대에 따라 서울 시간을 계산할 수 있습니다. 예를 들어, 만약 현재 UTC 시간이 12시라면, 서울은 21시가 됩니다. 이러한 방법으로 현재 서울 시간을 확인할 수 있습니다.' additional_kwargs={'refusal': None} response_metadata={'token_usage': {'completion_tokens': 72, 'prompt_tokens': 30, 'total_tokens': 102, 'completion_tokens_details': {'accepted_prediction_tokens': 0, 'audio_tokens': 0, 'reasoning_tokens': 0, 'rejected_prediction_tokens': 0}, 'prompt_tokens_details': {'audio_tokens': 0, 'cached_tokens': 0}}, 'model_name': 'gpt-4o-mini-2024-07-18', 'system_fingerprint': 'fp_560af6e559', 'id': 'chatcmpl-CFwclWypqEEKOJVTPIphzkNd7CRLD', 'service_tier': 'default', 'finish_reason': 'stop', 'logprobs': None} id='run--aa5488b4-7785-4de9-ad99-5b708bc8fc5c-0' usage_metadata={'input_tokens': 30, 'output_tokens': 72, 'total_tokens': 102, 'input_token_details': {'audio': 0, 'cache_read': 0}, 'output_token_details': {'audio': 0, 'reasoning': 0}}\n"
     ]
    }
   ],
   "execution_count": 6
  },
  {
   "metadata": {
    "ExecuteTime": {
     "end_time": "2025-09-15T06:06:10.996364Z",
     "start_time": "2025-09-15T06:06:10.992149Z"
    }
   },
   "cell_type": "code",
   "source": "ai_message.pretty_print()",
   "id": "e98d97ac7076cc8",
   "outputs": [
    {
     "name": "stdout",
     "output_type": "stream",
     "text": [
      "==================================\u001B[1m Ai Message \u001B[0m==================================\n",
      "\n",
      "현재 시간을 정확히 알 수는 없지만, 서울은 UTC+9 시간대에 위치해 있습니다. 당신이 현재 위치한 시간대에 따라 서울 시간을 계산할 수 있습니다. 예를 들어, 만약 현재 UTC 시간이 12시라면, 서울은 21시가 됩니다. 이러한 방법으로 현재 서울 시간을 확인할 수 있습니다.\n"
     ]
    }
   ],
   "execution_count": 7
  },
  {
   "metadata": {},
   "cell_type": "markdown",
   "source": [
    "도구(tool)을 AI에게 제공하고, AI는 tool 목록에 있는 함수 호출(function calling)을 요청해서 에이전트가 함수 호출 결과를 다시 AI에게 전송하면 AI는 함수 호출 결과를 바탕으로 답변을 생성할 수 있음.\n",
    "\n",
    "사용자 질문(도구 목록 제공) -> AI 도구 호출 요청 -> 사용자 함수 호출 결과 -> AI 답변 생성."
   ],
   "id": "85dfdd096e84a1e8"
  },
  {
   "metadata": {
    "ExecuteTime": {
     "end_time": "2025-09-15T06:20:48.608310Z",
     "start_time": "2025-09-15T06:20:48.601832Z"
    }
   },
   "cell_type": "code",
   "source": [
    "@tool\n",
    "def get_current_time(timezone: str, location: str) -> str:\n",
    "    \"\"\"해당 timezone의 현재 날짜와 시간을 문자열로 리턴.\n",
    "\n",
    "    Args:\n",
    "        timezone (str): 타임존. (예: Asia/Seoul)\n",
    "        location (str): 지역명. 타임존은 모든 도시 이름에 대응되지 않기 때문에 LLM이 답변을 생성할 때 이용하도록 제공.\n",
    "    Returns: '날짜 시간 타임존(지역명)' 형식의 문자열을 반환. (예: 2025-09-15 15:30:55 Asia/Seoul(부산))\n",
    "    \"\"\"\n",
    "    tz = pytz.timezone(timezone)\n",
    "    now = datetime.now(tz).strftime('%Y-%m-%d %H:%M:%S')\n",
    "    result = f'{now} {timezone}({location})'\n",
    "\n",
    "    return result"
   ],
   "id": "43b8ac7657bf6af1",
   "outputs": [],
   "execution_count": 8
  },
  {
   "metadata": {
    "ExecuteTime": {
     "end_time": "2025-09-15T06:27:16.463107Z",
     "start_time": "2025-09-15T06:27:16.459520Z"
    }
   },
   "cell_type": "code",
   "source": [
    "# 도구 목록: @tool 데코레이터가 사용된 함수들의 리스트.\n",
    "tools = [get_current_time,]"
   ],
   "id": "e446b1f762031f47",
   "outputs": [],
   "execution_count": 9
  },
  {
   "metadata": {
    "ExecuteTime": {
     "end_time": "2025-09-15T06:28:54.238798Z",
     "start_time": "2025-09-15T06:28:54.234906Z"
    }
   },
   "cell_type": "code",
   "source": [
    "# AI에서 도구 목록의 함수 호출을 요청했을 때 함수 객체를 쉽게 찾기 위해서 dict 선언.\n",
    "# 함수 이름을 key로, 함수 객체를 value로 갖는 딕셔너리.\n",
    "tool_dict = {\n",
    "    'get_current_time': get_current_time,\n",
    "}"
   ],
   "id": "5bd118f690c693b5",
   "outputs": [],
   "execution_count": 10
  },
  {
   "metadata": {},
   "cell_type": "code",
   "outputs": [],
   "execution_count": null,
   "source": "",
   "id": "3d3630ab97d7d63e"
  }
 ],
 "metadata": {
  "kernelspec": {
   "display_name": "Python 3",
   "language": "python",
   "name": "python3"
  },
  "language_info": {
   "codemirror_mode": {
    "name": "ipython",
    "version": 2
   },
   "file_extension": ".py",
   "mimetype": "text/x-python",
   "name": "python",
   "nbconvert_exporter": "python",
   "pygments_lexer": "ipython2",
   "version": "2.7.6"
  }
 },
 "nbformat": 4,
 "nbformat_minor": 5
}
