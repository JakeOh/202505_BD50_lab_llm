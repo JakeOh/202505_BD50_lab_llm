{
 "cells": [
  {
   "metadata": {},
   "cell_type": "markdown",
   "source": "# LangChain `@tool` 데코레이터",
   "id": "546819e6232c2568"
  },
  {
   "cell_type": "code",
   "id": "initial_id",
   "metadata": {
    "collapsed": true,
    "ExecuteTime": {
     "end_time": "2025-09-16T00:42:26.353672Z",
     "start_time": "2025-09-16T00:42:25.161980Z"
    }
   },
   "source": [
    "from datetime import datetime\n",
    "from dotenv import load_dotenv\n",
    "import pytz\n",
    "from langchain_core.tools import tool  # decorator\n",
    "from langchain_openai import ChatOpenAI\n",
    "from langchain_core.messages import SystemMessage, HumanMessage"
   ],
   "outputs": [],
   "execution_count": 1
  },
  {
   "metadata": {
    "ExecuteTime": {
     "end_time": "2025-09-16T00:43:23.548527Z",
     "start_time": "2025-09-16T00:43:23.540085Z"
    }
   },
   "cell_type": "code",
   "source": [
    "# .env 파일에 저장된 api_key를 OS 환경 변수로 로딩\n",
    "load_dotenv()"
   ],
   "id": "6318a94b3e5f4d8e",
   "outputs": [
    {
     "data": {
      "text/plain": [
       "True"
      ]
     },
     "execution_count": 2,
     "metadata": {},
     "output_type": "execute_result"
    }
   ],
   "execution_count": 2
  },
  {
   "metadata": {
    "ExecuteTime": {
     "end_time": "2025-09-16T00:43:29.148665Z",
     "start_time": "2025-09-16T00:43:28.416655Z"
    }
   },
   "cell_type": "code",
   "source": [
    "# OpenAI 클라이언트를 생성\n",
    "model = ChatOpenAI(model='gpt-4o-mini')"
   ],
   "id": "e406181c02ac3c3b",
   "outputs": [],
   "execution_count": 3
  },
  {
   "metadata": {
    "ExecuteTime": {
     "end_time": "2025-09-16T01:15:24.359780Z",
     "start_time": "2025-09-16T01:15:24.356707Z"
    }
   },
   "cell_type": "code",
   "source": [
    "# AI에게 메시지 전달하고 실행(invoke).\n",
    "messages = [\n",
    "    SystemMessage(content='너는 사용자의 질문에 답하는 AI 비서야.'),\n",
    "    HumanMessage(content='지금 현재 서울 시간?')\n",
    "]"
   ],
   "id": "b71b18debe609fb7",
   "outputs": [],
   "execution_count": 20
  },
  {
   "metadata": {},
   "cell_type": "code",
   "outputs": [],
   "execution_count": null,
   "source": "ai_message = model.invoke(input=messages)",
   "id": "b6a9de6dad68870d"
  },
  {
   "metadata": {
    "ExecuteTime": {
     "end_time": "2025-09-16T00:44:19.149599Z",
     "start_time": "2025-09-16T00:44:19.144560Z"
    }
   },
   "cell_type": "code",
   "source": "type(ai_message)",
   "id": "e904b69aa946816a",
   "outputs": [
    {
     "data": {
      "text/plain": [
       "langchain_core.messages.ai.AIMessage"
      ]
     },
     "execution_count": 5,
     "metadata": {},
     "output_type": "execute_result"
    }
   ],
   "execution_count": 5
  },
  {
   "metadata": {
    "ExecuteTime": {
     "end_time": "2025-09-16T00:44:35.615155Z",
     "start_time": "2025-09-16T00:44:35.610462Z"
    }
   },
   "cell_type": "code",
   "source": "print(ai_message)  # print(ai_message.content)",
   "id": "1904f140ff1a3d13",
   "outputs": [
    {
     "name": "stdout",
     "output_type": "stream",
     "text": [
      "content='현재 시간 정보를 실시간으로 제공할 수는 없지만, 서울은 한국 표준시(KST, UTC+9)에 위치하고 있습니다. 따라서 현재 시간을 확인하려면 UTC 시간을 기준으로 9시간을 더하면 됩니다. 스마트폰이나 컴퓨터에서 시간을 확인할 수 있습니다.' additional_kwargs={'refusal': None} response_metadata={'token_usage': {'completion_tokens': 60, 'prompt_tokens': 30, 'total_tokens': 90, 'completion_tokens_details': {'accepted_prediction_tokens': 0, 'audio_tokens': 0, 'reasoning_tokens': 0, 'rejected_prediction_tokens': 0}, 'prompt_tokens_details': {'audio_tokens': 0, 'cached_tokens': 0}}, 'model_name': 'gpt-4o-mini-2024-07-18', 'system_fingerprint': 'fp_560af6e559', 'id': 'chatcmpl-CGE5XmJfzOTuE4VJAtOuESJ1GoTIz', 'service_tier': 'default', 'finish_reason': 'stop', 'logprobs': None} id='run--3470571b-7cd1-4e3b-a6b4-63d7a3340b32-0' usage_metadata={'input_tokens': 30, 'output_tokens': 60, 'total_tokens': 90, 'input_token_details': {'audio': 0, 'cache_read': 0}, 'output_token_details': {'audio': 0, 'reasoning': 0}}\n"
     ]
    }
   ],
   "execution_count": 6
  },
  {
   "metadata": {
    "ExecuteTime": {
     "end_time": "2025-09-16T00:45:44.558131Z",
     "start_time": "2025-09-16T00:45:44.554242Z"
    }
   },
   "cell_type": "code",
   "source": "ai_message.pretty_print()",
   "id": "e98d97ac7076cc8",
   "outputs": [
    {
     "name": "stdout",
     "output_type": "stream",
     "text": [
      "==================================\u001B[1m Ai Message \u001B[0m==================================\n",
      "\n",
      "현재 시간 정보를 실시간으로 제공할 수는 없지만, 서울은 한국 표준시(KST, UTC+9)에 위치하고 있습니다. 따라서 현재 시간을 확인하려면 UTC 시간을 기준으로 9시간을 더하면 됩니다. 스마트폰이나 컴퓨터에서 시간을 확인할 수 있습니다.\n"
     ]
    }
   ],
   "execution_count": 7
  },
  {
   "metadata": {},
   "cell_type": "markdown",
   "source": [
    "도구(tool)을 AI에게 제공하고, AI는 tool 목록에 있는 함수 호출(function calling)을 요청해서 에이전트가 함수 호출 결과를 다시 AI에게 전송하면 AI는 함수 호출 결과를 바탕으로 답변을 생성할 수 있음.\n",
    "\n",
    "사용자 질문(도구 목록 제공) -> AI 도구 호출 요청 -> 사용자 함수 호출 결과 -> AI 답변 생성."
   ],
   "id": "85dfdd096e84a1e8"
  },
  {
   "metadata": {
    "ExecuteTime": {
     "end_time": "2025-09-16T01:15:59.782509Z",
     "start_time": "2025-09-16T01:15:59.775297Z"
    }
   },
   "cell_type": "code",
   "source": [
    "@tool\n",
    "def get_current_time(timezone: str, location: str) -> str:\n",
    "    \"\"\"해당 timezone의 현재 날짜와 시간을 문자열로 리턴.\n",
    "\n",
    "    Args:\n",
    "        timezone (str): 타임존. (예: Asia/Seoul)\n",
    "        location (str): 지역명. 타임존은 모든 도시 이름에 대응되지 않기 때문에 LLM이 답변을 생성할 때 이용하도록 제공.\n",
    "    Returns: '날짜 시간 타임존(지역명)' 형식의 문자열을 반환. (예: 2025-09-15 15:30:55 Asia/Seoul(부산))\n",
    "    \"\"\"\n",
    "    tz = pytz.timezone(timezone)\n",
    "    now = datetime.now(tz).strftime('%Y-%m-%d %H:%M:%S')\n",
    "    result = f'{now} {timezone}({location})'\n",
    "\n",
    "    return result"
   ],
   "id": "43b8ac7657bf6af1",
   "outputs": [],
   "execution_count": 21
  },
  {
   "metadata": {
    "ExecuteTime": {
     "end_time": "2025-09-16T01:16:02.864968Z",
     "start_time": "2025-09-16T01:16:02.862320Z"
    }
   },
   "cell_type": "code",
   "source": [
    "# 도구 목록: @tool 데코레이터가 사용된 함수들의 리스트.\n",
    "tools = [get_current_time,]"
   ],
   "id": "e446b1f762031f47",
   "outputs": [],
   "execution_count": 22
  },
  {
   "metadata": {
    "ExecuteTime": {
     "end_time": "2025-09-16T01:16:04.491546Z",
     "start_time": "2025-09-16T01:16:04.488509Z"
    }
   },
   "cell_type": "code",
   "source": [
    "# AI에서 도구 목록의 함수 호출을 요청했을 때 함수 객체를 쉽게 찾기 위해서 dict 선언.\n",
    "# 함수 이름을 key로, 함수 객체를 value로 갖는 딕셔너리.\n",
    "tool_dict = {\n",
    "    'get_current_time': get_current_time,\n",
    "}"
   ],
   "id": "5bd118f690c693b5",
   "outputs": [],
   "execution_count": 23
  },
  {
   "metadata": {
    "ExecuteTime": {
     "end_time": "2025-09-16T01:16:09.720038Z",
     "start_time": "2025-09-16T01:16:09.714136Z"
    }
   },
   "cell_type": "code",
   "source": [
    "# AI 모델과 도구 목록을 binding(묶어줌).\n",
    "model_with_tools = model.bind_tools(tools=tools)"
   ],
   "id": "3d3630ab97d7d63e",
   "outputs": [],
   "execution_count": 24
  },
  {
   "metadata": {
    "ExecuteTime": {
     "end_time": "2025-09-16T01:16:18.467208Z",
     "start_time": "2025-09-16T01:16:18.463175Z"
    }
   },
   "cell_type": "code",
   "source": [
    "messages = [\n",
    "    SystemMessage(content='너는 사용자의 질문에 답하는 AI 비서야.'),\n",
    "    HumanMessage(content='지금 현재 서울 시간?')\n",
    "]"
   ],
   "id": "b08414a3666cae99",
   "outputs": [],
   "execution_count": 25
  },
  {
   "metadata": {
    "ExecuteTime": {
     "end_time": "2025-09-16T01:16:22.643310Z",
     "start_time": "2025-09-16T01:16:22.639475Z"
    }
   },
   "cell_type": "code",
   "source": "print(messages)",
   "id": "b0d01cac7bfccc6f",
   "outputs": [
    {
     "name": "stdout",
     "output_type": "stream",
     "text": [
      "[SystemMessage(content='너는 사용자의 질문에 답하는 AI 비서야.', additional_kwargs={}, response_metadata={}), HumanMessage(content='지금 현재 서울 시간?', additional_kwargs={}, response_metadata={})]\n"
     ]
    }
   ],
   "execution_count": 26
  },
  {
   "metadata": {
    "ExecuteTime": {
     "end_time": "2025-09-16T01:16:31.451711Z",
     "start_time": "2025-09-16T01:16:30.523935Z"
    }
   },
   "cell_type": "code",
   "source": [
    "# 도구 목록을 가지고 있는 AI 모델을 호출\n",
    "response = model_with_tools.invoke(input=messages)"
   ],
   "id": "fea898cc742be93e",
   "outputs": [],
   "execution_count": 27
  },
  {
   "metadata": {
    "ExecuteTime": {
     "end_time": "2025-09-16T01:16:33.782432Z",
     "start_time": "2025-09-16T01:16:33.777274Z"
    }
   },
   "cell_type": "code",
   "source": "type(response)",
   "id": "185662922f7d68f2",
   "outputs": [
    {
     "data": {
      "text/plain": [
       "langchain_core.messages.ai.AIMessage"
      ]
     },
     "execution_count": 28,
     "metadata": {},
     "output_type": "execute_result"
    }
   ],
   "execution_count": 28
  },
  {
   "metadata": {
    "ExecuteTime": {
     "end_time": "2025-09-16T01:16:36.950286Z",
     "start_time": "2025-09-16T01:16:36.946258Z"
    }
   },
   "cell_type": "code",
   "source": "print(response)",
   "id": "603f0e1a403020fb",
   "outputs": [
    {
     "name": "stdout",
     "output_type": "stream",
     "text": [
      "content='' additional_kwargs={'tool_calls': [{'id': 'call_UcZri34ZEEiq55ACEUTGxXNb', 'function': {'arguments': '{\"timezone\":\"Asia/Seoul\",\"location\":\"서울\"}', 'name': 'get_current_time'}, 'type': 'function'}], 'refusal': None} response_metadata={'token_usage': {'completion_tokens': 22, 'prompt_tokens': 168, 'total_tokens': 190, 'completion_tokens_details': {'accepted_prediction_tokens': 0, 'audio_tokens': 0, 'reasoning_tokens': 0, 'rejected_prediction_tokens': 0}, 'prompt_tokens_details': {'audio_tokens': 0, 'cached_tokens': 0}}, 'model_name': 'gpt-4o-mini-2024-07-18', 'system_fingerprint': 'fp_560af6e559', 'id': 'chatcmpl-CGEb0rFkJjsL785mz8R6QkWMbvMgP', 'service_tier': 'default', 'finish_reason': 'tool_calls', 'logprobs': None} id='run--d6108be5-239b-40c3-b4c0-4fcfaabd4b0a-0' tool_calls=[{'name': 'get_current_time', 'args': {'timezone': 'Asia/Seoul', 'location': '서울'}, 'id': 'call_UcZri34ZEEiq55ACEUTGxXNb', 'type': 'tool_call'}] usage_metadata={'input_tokens': 168, 'output_tokens': 22, 'total_tokens': 190, 'input_token_details': {'audio': 0, 'cache_read': 0}, 'output_token_details': {'audio': 0, 'reasoning': 0}}\n"
     ]
    }
   ],
   "execution_count": 29
  },
  {
   "metadata": {
    "ExecuteTime": {
     "end_time": "2025-09-16T01:16:39.373502Z",
     "start_time": "2025-09-16T01:16:39.370482Z"
    }
   },
   "cell_type": "code",
   "source": "response.pretty_print()",
   "id": "d11dadd5d70a735d",
   "outputs": [
    {
     "name": "stdout",
     "output_type": "stream",
     "text": [
      "==================================\u001B[1m Ai Message \u001B[0m==================================\n",
      "Tool Calls:\n",
      "  get_current_time (call_UcZri34ZEEiq55ACEUTGxXNb)\n",
      " Call ID: call_UcZri34ZEEiq55ACEUTGxXNb\n",
      "  Args:\n",
      "    timezone: Asia/Seoul\n",
      "    location: 서울\n"
     ]
    }
   ],
   "execution_count": 30
  },
  {
   "metadata": {
    "ExecuteTime": {
     "end_time": "2025-09-16T01:16:44.022272Z",
     "start_time": "2025-09-16T01:16:44.019419Z"
    }
   },
   "cell_type": "code",
   "source": "messages.append(response)  # 대화 이력 저장: AIMessage 객체를 리스트에 추가!",
   "id": "31d1071fb8c725f3",
   "outputs": [],
   "execution_count": 31
  },
  {
   "metadata": {
    "ExecuteTime": {
     "end_time": "2025-09-16T01:16:51.786503Z",
     "start_time": "2025-09-16T01:16:51.783169Z"
    }
   },
   "cell_type": "code",
   "source": [
    "for m in messages:\n",
    "    m.pretty_print()"
   ],
   "id": "85b0ab1c1fe6d9f3",
   "outputs": [
    {
     "name": "stdout",
     "output_type": "stream",
     "text": [
      "================================\u001B[1m System Message \u001B[0m================================\n",
      "\n",
      "너는 사용자의 질문에 답하는 AI 비서야.\n",
      "================================\u001B[1m Human Message \u001B[0m=================================\n",
      "\n",
      "지금 현재 서울 시간?\n",
      "==================================\u001B[1m Ai Message \u001B[0m==================================\n",
      "Tool Calls:\n",
      "  get_current_time (call_UcZri34ZEEiq55ACEUTGxXNb)\n",
      " Call ID: call_UcZri34ZEEiq55ACEUTGxXNb\n",
      "  Args:\n",
      "    timezone: Asia/Seoul\n",
      "    location: 서울\n"
     ]
    }
   ],
   "execution_count": 32
  },
  {
   "metadata": {
    "ExecuteTime": {
     "end_time": "2025-09-16T01:17:05.460278Z",
     "start_time": "2025-09-16T01:17:05.456073Z"
    }
   },
   "cell_type": "code",
   "source": [
    "for tool_call in response.tool_calls:\n",
    "    fn = tool_dict[tool_call['name']]  # AIMessage의 포함된 함수 이름으로 함수 객체를 찾음.\n",
    "    tool_msg = fn.invoke(tool_call)  # @tool 데코레이터로 포장 -> invoke가 가능.\n",
    "    # invoke: tool_call에서 args를 찾고 fn를 호출할 때 아규먼트를 전달. 리턴값을 이용해서 ToolMessage 객체 반환.\n",
    "    messages.append(tool_msg)"
   ],
   "id": "a0ededd30e6f9859",
   "outputs": [],
   "execution_count": 33
  },
  {
   "metadata": {
    "ExecuteTime": {
     "end_time": "2025-09-16T01:17:11.953602Z",
     "start_time": "2025-09-16T01:17:11.948172Z"
    }
   },
   "cell_type": "code",
   "source": [
    "for m in messages:\n",
    "    m.pretty_print()"
   ],
   "id": "61fb28f3af5f6454",
   "outputs": [
    {
     "name": "stdout",
     "output_type": "stream",
     "text": [
      "================================\u001B[1m System Message \u001B[0m================================\n",
      "\n",
      "너는 사용자의 질문에 답하는 AI 비서야.\n",
      "================================\u001B[1m Human Message \u001B[0m=================================\n",
      "\n",
      "지금 현재 서울 시간?\n",
      "==================================\u001B[1m Ai Message \u001B[0m==================================\n",
      "Tool Calls:\n",
      "  get_current_time (call_UcZri34ZEEiq55ACEUTGxXNb)\n",
      " Call ID: call_UcZri34ZEEiq55ACEUTGxXNb\n",
      "  Args:\n",
      "    timezone: Asia/Seoul\n",
      "    location: 서울\n",
      "=================================\u001B[1m Tool Message \u001B[0m=================================\n",
      "Name: get_current_time\n",
      "\n",
      "2025-09-16 10:17:05 Asia/Seoul(서울)\n"
     ]
    }
   ],
   "execution_count": 34
  },
  {
   "metadata": {
    "ExecuteTime": {
     "end_time": "2025-09-16T01:17:53.926131Z",
     "start_time": "2025-09-16T01:17:52.955425Z"
    }
   },
   "cell_type": "code",
   "source": "ai_message = model_with_tools.invoke(input=messages)",
   "id": "d3b8131b115de0c",
   "outputs": [],
   "execution_count": 35
  },
  {
   "metadata": {
    "ExecuteTime": {
     "end_time": "2025-09-16T01:17:56.306508Z",
     "start_time": "2025-09-16T01:17:56.301775Z"
    }
   },
   "cell_type": "code",
   "source": "ai_message.pretty_print()",
   "id": "9ce6caeac27b4e45",
   "outputs": [
    {
     "name": "stdout",
     "output_type": "stream",
     "text": [
      "==================================\u001B[1m Ai Message \u001B[0m==================================\n",
      "\n",
      "현재 서울 시간은 2025년 9월 16일 10:17:05입니다.\n"
     ]
    }
   ],
   "execution_count": 36
  },
  {
   "metadata": {},
   "cell_type": "markdown",
   "source": "## 2개 이상의 도구 호출을 포함하는 tool_calls 리스트",
   "id": "bba8c90b59f2090e"
  },
  {
   "metadata": {
    "ExecuteTime": {
     "end_time": "2025-09-16T01:51:23.367058Z",
     "start_time": "2025-09-16T01:51:23.362867Z"
    }
   },
   "cell_type": "code",
   "source": [
    "messages = [\n",
    "    SystemMessage('사용자의 질문에 답하기 위해서 도구를 사용할 수 있어.'),\n",
    "    SystemMessage('도시 이름과 타임존은 일치하지 않을 수도 있으니, 정확한 타임존을 선택해줘.'),\n",
    "    HumanMessage('서울, 부산, 런던의 현재 시간은?'),\n",
    "]"
   ],
   "id": "9e29684c25864896",
   "outputs": [],
   "execution_count": 55
  },
  {
   "metadata": {
    "ExecuteTime": {
     "end_time": "2025-09-16T01:51:28.725539Z",
     "start_time": "2025-09-16T01:51:26.922241Z"
    }
   },
   "cell_type": "code",
   "source": "ai_message = model_with_tools.invoke(input=messages)",
   "id": "481d3b319dfcb0ec",
   "outputs": [],
   "execution_count": 56
  },
  {
   "metadata": {
    "ExecuteTime": {
     "end_time": "2025-09-16T01:51:30.612906Z",
     "start_time": "2025-09-16T01:51:30.609849Z"
    }
   },
   "cell_type": "code",
   "source": "messages.append(ai_message)",
   "id": "b34733f2a166a06e",
   "outputs": [],
   "execution_count": 57
  },
  {
   "metadata": {
    "ExecuteTime": {
     "end_time": "2025-09-16T01:51:32.818030Z",
     "start_time": "2025-09-16T01:51:32.814504Z"
    }
   },
   "cell_type": "code",
   "source": [
    "for m in messages:\n",
    "    m.pretty_print()"
   ],
   "id": "e7dea8df3f13263d",
   "outputs": [
    {
     "name": "stdout",
     "output_type": "stream",
     "text": [
      "================================\u001B[1m System Message \u001B[0m================================\n",
      "\n",
      "사용자의 질문에 답하기 위해서 도구를 사용할 수 있어.\n",
      "================================\u001B[1m System Message \u001B[0m================================\n",
      "\n",
      "도시 이름과 타임존은 일치하지 않을 수도 있으니, 정확한 타임존을 선택해줘.\n",
      "================================\u001B[1m Human Message \u001B[0m=================================\n",
      "\n",
      "서울, 부산, 런던의 현재 시간은?\n",
      "==================================\u001B[1m Ai Message \u001B[0m==================================\n",
      "Tool Calls:\n",
      "  get_current_time (call_SjfNTNovaKMmeOHql5P8tMXD)\n",
      " Call ID: call_SjfNTNovaKMmeOHql5P8tMXD\n",
      "  Args:\n",
      "    timezone: Asia/Seoul\n",
      "    location: 서울\n",
      "  get_current_time (call_skCI7t0KG2qXhI9m6AfZlV7J)\n",
      " Call ID: call_skCI7t0KG2qXhI9m6AfZlV7J\n",
      "  Args:\n",
      "    timezone: Asia/Seoul\n",
      "    location: 부산\n",
      "  get_current_time (call_2WHWIaenf4y9MQyKItqUPaYX)\n",
      " Call ID: call_2WHWIaenf4y9MQyKItqUPaYX\n",
      "  Args:\n",
      "    timezone: Europe/London\n",
      "    location: 런던\n"
     ]
    }
   ],
   "execution_count": 58
  },
  {
   "metadata": {
    "ExecuteTime": {
     "end_time": "2025-09-16T01:52:13.962864Z",
     "start_time": "2025-09-16T01:52:13.957143Z"
    }
   },
   "cell_type": "code",
   "source": [
    "for tool_call in ai_message.tool_calls:\n",
    "    fn = tool_dict[tool_call['name']]\n",
    "    tool_msg = fn.invoke(tool_call)\n",
    "    messages.append(tool_msg)"
   ],
   "id": "cea6a4e7d4550d13",
   "outputs": [],
   "execution_count": 59
  },
  {
   "metadata": {
    "ExecuteTime": {
     "end_time": "2025-09-16T01:52:15.559263Z",
     "start_time": "2025-09-16T01:52:15.555045Z"
    }
   },
   "cell_type": "code",
   "source": [
    "for m in messages:\n",
    "    m.pretty_print()"
   ],
   "id": "b7618ddd4a8ecac9",
   "outputs": [
    {
     "name": "stdout",
     "output_type": "stream",
     "text": [
      "================================\u001B[1m System Message \u001B[0m================================\n",
      "\n",
      "사용자의 질문에 답하기 위해서 도구를 사용할 수 있어.\n",
      "================================\u001B[1m System Message \u001B[0m================================\n",
      "\n",
      "도시 이름과 타임존은 일치하지 않을 수도 있으니, 정확한 타임존을 선택해줘.\n",
      "================================\u001B[1m Human Message \u001B[0m=================================\n",
      "\n",
      "서울, 부산, 런던의 현재 시간은?\n",
      "==================================\u001B[1m Ai Message \u001B[0m==================================\n",
      "Tool Calls:\n",
      "  get_current_time (call_SjfNTNovaKMmeOHql5P8tMXD)\n",
      " Call ID: call_SjfNTNovaKMmeOHql5P8tMXD\n",
      "  Args:\n",
      "    timezone: Asia/Seoul\n",
      "    location: 서울\n",
      "  get_current_time (call_skCI7t0KG2qXhI9m6AfZlV7J)\n",
      " Call ID: call_skCI7t0KG2qXhI9m6AfZlV7J\n",
      "  Args:\n",
      "    timezone: Asia/Seoul\n",
      "    location: 부산\n",
      "  get_current_time (call_2WHWIaenf4y9MQyKItqUPaYX)\n",
      " Call ID: call_2WHWIaenf4y9MQyKItqUPaYX\n",
      "  Args:\n",
      "    timezone: Europe/London\n",
      "    location: 런던\n",
      "=================================\u001B[1m Tool Message \u001B[0m=================================\n",
      "Name: get_current_time\n",
      "\n",
      "2025-09-16 10:52:13 Asia/Seoul(서울)\n",
      "=================================\u001B[1m Tool Message \u001B[0m=================================\n",
      "Name: get_current_time\n",
      "\n",
      "2025-09-16 10:52:13 Asia/Seoul(부산)\n",
      "=================================\u001B[1m Tool Message \u001B[0m=================================\n",
      "Name: get_current_time\n",
      "\n",
      "2025-09-16 02:52:13 Europe/London(런던)\n"
     ]
    }
   ],
   "execution_count": 60
  },
  {
   "metadata": {
    "ExecuteTime": {
     "end_time": "2025-09-16T01:52:23.395127Z",
     "start_time": "2025-09-16T01:52:21.532432Z"
    }
   },
   "cell_type": "code",
   "source": "ai_message = model_with_tools.invoke(input=messages)",
   "id": "c6936c74c44b817d",
   "outputs": [],
   "execution_count": 61
  },
  {
   "metadata": {
    "ExecuteTime": {
     "end_time": "2025-09-16T01:52:23.988747Z",
     "start_time": "2025-09-16T01:52:23.983504Z"
    }
   },
   "cell_type": "code",
   "source": "ai_message.pretty_print()",
   "id": "f352571a05d57c10",
   "outputs": [
    {
     "name": "stdout",
     "output_type": "stream",
     "text": [
      "==================================\u001B[1m Ai Message \u001B[0m==================================\n",
      "\n",
      "현재 시간은 다음과 같습니다:\n",
      "\n",
      "- 서울: 2025-09-16 10:52:13 \n",
      "- 부산: 2025-09-16 10:52:13 \n",
      "- 런던: 2025-09-16 02:52:13\n"
     ]
    }
   ],
   "execution_count": 62
  },
  {
   "metadata": {},
   "cell_type": "markdown",
   "source": [
    "# Pydantic\n",
    "\n",
    "입력된 데이터의 유효성과 형식을 검증하고 특정 데이터 형식으로 명확히 표현"
   ],
   "id": "33a8c75a11e88b07"
  },
  {
   "metadata": {
    "ExecuteTime": {
     "end_time": "2025-09-16T01:56:44.366262Z",
     "start_time": "2025-09-16T01:56:44.362211Z"
    }
   },
   "cell_type": "code",
   "source": [
    "def subtract(x: int, y: int) -> int:\n",
    "    return x - y"
   ],
   "id": "70873afa67a051d5",
   "outputs": [],
   "execution_count": 63
  },
  {
   "metadata": {
    "ExecuteTime": {
     "end_time": "2025-09-16T01:57:31.490870Z",
     "start_time": "2025-09-16T01:57:31.486508Z"
    }
   },
   "cell_type": "code",
   "source": "subtract(1, 2)",
   "id": "671bb37e47fba3a8",
   "outputs": [
    {
     "data": {
      "text/plain": [
       "-1"
      ]
     },
     "execution_count": 64,
     "metadata": {},
     "output_type": "execute_result"
    }
   ],
   "execution_count": 64
  },
  {
   "metadata": {
    "ExecuteTime": {
     "end_time": "2025-09-16T01:57:57.325241Z",
     "start_time": "2025-09-16T01:57:57.320500Z"
    }
   },
   "cell_type": "code",
   "source": "subtract(1.1, 2.5)",
   "id": "6cb14f71133a60b3",
   "outputs": [
    {
     "data": {
      "text/plain": [
       "-1.4"
      ]
     },
     "execution_count": 65,
     "metadata": {},
     "output_type": "execute_result"
    }
   ],
   "execution_count": 65
  },
  {
   "metadata": {},
   "cell_type": "markdown",
   "source": "Python은 파라미터의 타입 검사를 하지 않고, 리턴 타입도 힌트대로 반환하는 것은 아님.",
   "id": "f819cebb179e7f27"
  },
  {
   "metadata": {
    "ExecuteTime": {
     "end_time": "2025-09-16T01:59:46.411868Z",
     "start_time": "2025-09-16T01:59:46.382861Z"
    }
   },
   "cell_type": "code",
   "source": "subtract('a', 'b')",
   "id": "c9b99126f3a9a038",
   "outputs": [
    {
     "ename": "TypeError",
     "evalue": "unsupported operand type(s) for -: 'str' and 'str'",
     "output_type": "error",
     "traceback": [
      "\u001B[31m---------------------------------------------------------------------------\u001B[39m",
      "\u001B[31mTypeError\u001B[39m                                 Traceback (most recent call last)",
      "\u001B[36mCell\u001B[39m\u001B[36m \u001B[39m\u001B[32mIn[66]\u001B[39m\u001B[32m, line 1\u001B[39m\n\u001B[32m----> \u001B[39m\u001B[32m1\u001B[39m \u001B[43msubtract\u001B[49m\u001B[43m(\u001B[49m\u001B[33;43m'\u001B[39;49m\u001B[33;43ma\u001B[39;49m\u001B[33;43m'\u001B[39;49m\u001B[43m,\u001B[49m\u001B[43m \u001B[49m\u001B[33;43m'\u001B[39;49m\u001B[33;43mb\u001B[39;49m\u001B[33;43m'\u001B[39;49m\u001B[43m)\u001B[49m\n",
      "\u001B[36mCell\u001B[39m\u001B[36m \u001B[39m\u001B[32mIn[63]\u001B[39m\u001B[32m, line 2\u001B[39m, in \u001B[36msubtract\u001B[39m\u001B[34m(x, y)\u001B[39m\n\u001B[32m      1\u001B[39m \u001B[38;5;28;01mdef\u001B[39;00m\u001B[38;5;250m \u001B[39m\u001B[34msubtract\u001B[39m(x: \u001B[38;5;28mint\u001B[39m, y: \u001B[38;5;28mint\u001B[39m) -> \u001B[38;5;28mint\u001B[39m:\n\u001B[32m----> \u001B[39m\u001B[32m2\u001B[39m     \u001B[38;5;28;01mreturn\u001B[39;00m \u001B[43mx\u001B[49m\u001B[43m \u001B[49m\u001B[43m-\u001B[49m\u001B[43m \u001B[49m\u001B[43my\u001B[49m\n",
      "\u001B[31mTypeError\u001B[39m: unsupported operand type(s) for -: 'str' and 'str'"
     ]
    }
   ],
   "execution_count": 66
  },
  {
   "metadata": {
    "ExecuteTime": {
     "end_time": "2025-09-16T02:02:11.481095Z",
     "start_time": "2025-09-16T02:02:11.477419Z"
    }
   },
   "cell_type": "code",
   "source": [
    "class Person:\n",
    "    def __init__(self, id: int, name: str):\n",
    "        self.id = id\n",
    "        self.name = name"
   ],
   "id": "d5109076ff419664",
   "outputs": [],
   "execution_count": 67
  },
  {
   "metadata": {
    "ExecuteTime": {
     "end_time": "2025-09-16T02:03:12.501544Z",
     "start_time": "2025-09-16T02:03:12.497960Z"
    }
   },
   "cell_type": "code",
   "source": "person = Person(id=1, name='오쌤')",
   "id": "dfaf88adc276e433",
   "outputs": [],
   "execution_count": 68
  },
  {
   "metadata": {
    "ExecuteTime": {
     "end_time": "2025-09-16T02:03:22.066152Z",
     "start_time": "2025-09-16T02:03:22.061805Z"
    }
   },
   "cell_type": "code",
   "source": "print(person.id)",
   "id": "40e0fe63066ff92",
   "outputs": [
    {
     "name": "stdout",
     "output_type": "stream",
     "text": [
      "1\n"
     ]
    }
   ],
   "execution_count": 69
  },
  {
   "metadata": {
    "ExecuteTime": {
     "end_time": "2025-09-16T02:03:55.751690Z",
     "start_time": "2025-09-16T02:03:55.748141Z"
    }
   },
   "cell_type": "code",
   "source": "person2 = Person(id='abc123', name=123)",
   "id": "684d227ce49f6d66",
   "outputs": [],
   "execution_count": 70
  },
  {
   "metadata": {
    "ExecuteTime": {
     "end_time": "2025-09-16T02:04:04.910386Z",
     "start_time": "2025-09-16T02:04:04.906326Z"
    }
   },
   "cell_type": "code",
   "source": "print(person2.id)",
   "id": "dc9353f4bbb06415",
   "outputs": [
    {
     "name": "stdout",
     "output_type": "stream",
     "text": [
      "abc123\n"
     ]
    }
   ],
   "execution_count": 71
  },
  {
   "metadata": {},
   "cell_type": "markdown",
   "source": "Python은 객체를 생성할 때 속성(property)들의 타입 검사를 수행하지 않음.",
   "id": "1df73ae53a45e2e6"
  },
  {
   "metadata": {
    "ExecuteTime": {
     "end_time": "2025-09-16T02:06:48.286947Z",
     "start_time": "2025-09-16T02:06:48.283768Z"
    }
   },
   "cell_type": "code",
   "source": "from pydantic import BaseModel, ValidationError, PositiveInt",
   "id": "dff08a0aef4d11e6",
   "outputs": [],
   "execution_count": 72
  },
  {
   "metadata": {
    "ExecuteTime": {
     "end_time": "2025-09-16T02:10:13.538526Z",
     "start_time": "2025-09-16T02:10:13.532569Z"
    }
   },
   "cell_type": "code",
   "source": [
    "class Person(BaseModel):  # Person 클래스는 BaseModel 클래스를 상속(확장).\n",
    "    id: PositiveInt\n",
    "    name: str"
   ],
   "id": "af595d133748021e",
   "outputs": [],
   "execution_count": 73
  },
  {
   "metadata": {
    "ExecuteTime": {
     "end_time": "2025-09-16T02:11:35.318630Z",
     "start_time": "2025-09-16T02:11:35.314802Z"
    }
   },
   "cell_type": "code",
   "source": "person3 = Person(id=12345, name='홍길동')",
   "id": "26cbe3eeaa0632cc",
   "outputs": [],
   "execution_count": 74
  },
  {
   "metadata": {
    "ExecuteTime": {
     "end_time": "2025-09-16T02:11:46.288627Z",
     "start_time": "2025-09-16T02:11:46.284850Z"
    }
   },
   "cell_type": "code",
   "source": "print(person3)",
   "id": "cef4e5c12950967d",
   "outputs": [
    {
     "name": "stdout",
     "output_type": "stream",
     "text": [
      "id=12345 name='홍길동'\n"
     ]
    }
   ],
   "execution_count": 75
  },
  {
   "metadata": {
    "ExecuteTime": {
     "end_time": "2025-09-16T02:13:37.570901Z",
     "start_time": "2025-09-16T02:13:37.566117Z"
    }
   },
   "cell_type": "code",
   "source": "person3.model_dump()  # 인스턴스의 속성(property) 이름과 값으로 dict를 생성해서 리턴.",
   "id": "40ab50d571a746e3",
   "outputs": [
    {
     "data": {
      "text/plain": [
       "{'id': 12345, 'name': '홍길동'}"
      ]
     },
     "execution_count": 76,
     "metadata": {},
     "output_type": "execute_result"
    }
   ],
   "execution_count": 76
  },
  {
   "metadata": {
    "ExecuteTime": {
     "end_time": "2025-09-16T02:17:44.312501Z",
     "start_time": "2025-09-16T02:17:44.308479Z"
    }
   },
   "cell_type": "code",
   "source": [
    "try:\n",
    "    person4 = Person(id='abc123', name=1_000)\n",
    "    print(person4)\n",
    "except ValidationError as e:\n",
    "    print(e)"
   ],
   "id": "2ca1d3d8a22524cb",
   "outputs": [
    {
     "name": "stdout",
     "output_type": "stream",
     "text": [
      "2 validation errors for Person\n",
      "id\n",
      "  Input should be a valid integer, unable to parse string as an integer [type=int_parsing, input_value='abc123', input_type=str]\n",
      "    For further information visit https://errors.pydantic.dev/2.11/v/int_parsing\n",
      "name\n",
      "  Input should be a valid string [type=string_type, input_value=1000, input_type=int]\n",
      "    For further information visit https://errors.pydantic.dev/2.11/v/string_type\n"
     ]
    }
   ],
   "execution_count": 78
  },
  {
   "metadata": {
    "ExecuteTime": {
     "end_time": "2025-09-16T02:21:19.248883Z",
     "start_time": "2025-09-16T02:21:19.245338Z"
    }
   },
   "cell_type": "code",
   "source": [
    "person5 = Person(**{'id': 123456, 'name': '길동'})  # **: unpacking 연산자\n",
    "print(person5)"
   ],
   "id": "9559d7fe562d22db",
   "outputs": [
    {
     "name": "stdout",
     "output_type": "stream",
     "text": [
      "id=123456 name='길동'\n"
     ]
    }
   ],
   "execution_count": 81
  },
  {
   "metadata": {},
   "cell_type": "markdown",
   "source": "## Pydandtic을 이용한 함수 파라미터 타입 클래스 선언",
   "id": "1684bf2db6fb12c5"
  },
  {
   "metadata": {
    "ExecuteTime": {
     "end_time": "2025-09-16T02:41:42.186536Z",
     "start_time": "2025-09-16T02:41:42.182136Z"
    }
   },
   "cell_type": "code",
   "source": "from pydantic import Field",
   "id": "42961111ecbfefc8",
   "outputs": [],
   "execution_count": 82
  },
  {
   "metadata": {
    "ExecuteTime": {
     "end_time": "2025-09-16T02:45:30.720861Z",
     "start_time": "2025-09-16T02:45:30.715353Z"
    }
   },
   "cell_type": "code",
   "source": [
    "# 주식 가격 조회 함수의 파라미터 타입으로 사용할 클래스.\n",
    "class StockHistoryArgs(BaseModel):\n",
    "    ticker: str = Field(..., title='주식 코드',\n",
    "                        description='주식 데이터를 검색하기 위한 주식 코드(예: AAPL, AMZN)')\n",
    "    period: str = Field(..., title='기간',\n",
    "                        description='주식 데이터 조회 기간(예: 1d, 1mo, 1y)')"
   ],
   "id": "4b8aa992e42796c2",
   "outputs": [],
   "execution_count": 83
  },
  {
   "metadata": {
    "ExecuteTime": {
     "end_time": "2025-09-16T02:47:18.817882Z",
     "start_time": "2025-09-16T02:47:18.813178Z"
    }
   },
   "cell_type": "code",
   "source": "StockHistoryArgs.model_json_schema()",
   "id": "40932a3f8300b57c",
   "outputs": [
    {
     "data": {
      "text/plain": [
       "{'properties': {'ticker': {'description': '주식 데이터를 검색하기 위한 주식 코드(예: AAPL, AMZN)',\n",
       "   'title': '주식 코드',\n",
       "   'type': 'string'},\n",
       "  'period': {'description': '주식 데이터 조회 기간(예: 1d, 1mo, 1y)',\n",
       "   'title': '기간',\n",
       "   'type': 'string'}},\n",
       " 'required': ['ticker', 'period'],\n",
       " 'title': 'StockHistoryArgs',\n",
       " 'type': 'object'}"
      ]
     },
     "execution_count": 85,
     "metadata": {},
     "output_type": "execute_result"
    }
   ],
   "execution_count": 85
  },
  {
   "metadata": {
    "ExecuteTime": {
     "end_time": "2025-09-16T02:49:19.073014Z",
     "start_time": "2025-09-16T02:49:17.993531Z"
    }
   },
   "cell_type": "code",
   "source": "import yfinance as yf",
   "id": "98f047f5d89721e2",
   "outputs": [],
   "execution_count": 86
  },
  {
   "metadata": {
    "ExecuteTime": {
     "end_time": "2025-09-16T02:53:59.358324Z",
     "start_time": "2025-09-16T02:53:59.350378Z"
    }
   },
   "cell_type": "code",
   "source": [
    "@tool\n",
    "def get_yf_stock_hitory(input: StockHistoryArgs) -> str:\n",
    "    \"\"\"해당 기간(period) 동안 주식 코드(ticker)의 데이터를 조회하는 함수.\"\"\"\n",
    "    ticker = yf.Ticker(input.ticker)\n",
    "    history = ticker.history(period=input.period)\n",
    "    return history.to_markdown()  # 조회한 데이터를 마크다운(Markdown) 형식의 문자열로 리턴."
   ],
   "id": "972fe1c8286e4eed",
   "outputs": [],
   "execution_count": 87
  },
  {
   "metadata": {
    "ExecuteTime": {
     "end_time": "2025-09-16T02:54:20.056794Z",
     "start_time": "2025-09-16T02:54:20.053485Z"
    }
   },
   "cell_type": "code",
   "source": "tools = [get_current_time, get_yf_stock_hitory,]",
   "id": "a8257d715d1be020",
   "outputs": [],
   "execution_count": 88
  },
  {
   "metadata": {
    "ExecuteTime": {
     "end_time": "2025-09-16T02:55:09.462085Z",
     "start_time": "2025-09-16T02:55:09.458320Z"
    }
   },
   "cell_type": "code",
   "source": [
    "tool_dict = {\n",
    "    'get_current_time': get_current_time,\n",
    "    'get_yf_stock_hitory': get_yf_stock_hitory,\n",
    "}"
   ],
   "id": "3f8c0916187c9e96",
   "outputs": [],
   "execution_count": 89
  },
  {
   "metadata": {
    "ExecuteTime": {
     "end_time": "2025-09-16T02:56:05.989404Z",
     "start_time": "2025-09-16T02:56:05.981838Z"
    }
   },
   "cell_type": "code",
   "source": "model_with_tools = model.bind_tools(tools=tools)  # 도구 목록을 포함하는 AI 모델 객체",
   "id": "cefaca513c0652b0",
   "outputs": [],
   "execution_count": 90
  },
  {
   "metadata": {
    "ExecuteTime": {
     "end_time": "2025-09-16T02:59:05.956851Z",
     "start_time": "2025-09-16T02:59:05.953002Z"
    }
   },
   "cell_type": "code",
   "source": [
    "messages = [\n",
    "    SystemMessage('답변을 생성하기 위해 도구를 사용할 수 있어.'),\n",
    "    SystemMessage('도시 이름과 타임존은 일치하지 않을 수도 있어.'),\n",
    "    SystemMessage('ticker는 실제 사용되는 주식 코드여야 해.'),\n",
    "    HumanMessage('삼성전자는 한 달 전과 비교해서 주식이 올랐어? 내렸니?'),\n",
    "]"
   ],
   "id": "324dd3fc05eb0de8",
   "outputs": [],
   "execution_count": 91
  },
  {
   "metadata": {
    "ExecuteTime": {
     "end_time": "2025-09-16T02:59:35.052183Z",
     "start_time": "2025-09-16T02:59:34.030990Z"
    }
   },
   "cell_type": "code",
   "source": "ai_message = model_with_tools.invoke(input=messages)",
   "id": "b42e9a29fa0787",
   "outputs": [],
   "execution_count": 92
  },
  {
   "metadata": {
    "ExecuteTime": {
     "end_time": "2025-09-16T03:00:10.952397Z",
     "start_time": "2025-09-16T03:00:10.949902Z"
    }
   },
   "cell_type": "code",
   "source": "messages.append(ai_message)",
   "id": "425bdcc44d4ad6b9",
   "outputs": [],
   "execution_count": 93
  },
  {
   "metadata": {
    "ExecuteTime": {
     "end_time": "2025-09-16T03:00:24.904217Z",
     "start_time": "2025-09-16T03:00:24.900612Z"
    }
   },
   "cell_type": "code",
   "source": [
    "for m in messages:\n",
    "    m.pretty_print()"
   ],
   "id": "ee9f8557cc1136e",
   "outputs": [
    {
     "name": "stdout",
     "output_type": "stream",
     "text": [
      "================================\u001B[1m System Message \u001B[0m================================\n",
      "\n",
      "답변을 생성하기 위해 도구를 사용할 수 있어.\n",
      "================================\u001B[1m System Message \u001B[0m================================\n",
      "\n",
      "도시 이름과 타임존은 일치하지 않을 수도 있어.\n",
      "================================\u001B[1m System Message \u001B[0m================================\n",
      "\n",
      "ticker는 실제 사용되는 주식 코드여야 해.\n",
      "================================\u001B[1m Human Message \u001B[0m=================================\n",
      "\n",
      "삼성전자는 한 달 전과 비교해서 주식이 올랐어? 내렸니?\n",
      "==================================\u001B[1m Ai Message \u001B[0m==================================\n",
      "Tool Calls:\n",
      "  get_yf_stock_hitory (call_7hpccy6dhKOyH7QZpfadWa5z)\n",
      " Call ID: call_7hpccy6dhKOyH7QZpfadWa5z\n",
      "  Args:\n",
      "    input: {'ticker': '005930.KS', 'period': '1mo'}\n"
     ]
    }
   ],
   "execution_count": 94
  },
  {
   "metadata": {
    "ExecuteTime": {
     "end_time": "2025-09-16T03:03:26.552735Z",
     "start_time": "2025-09-16T03:03:25.675927Z"
    }
   },
   "cell_type": "code",
   "source": [
    "for tool_call in ai_message.tool_calls:\n",
    "    fn = tool_dict[tool_call['name']]\n",
    "    tool_msg = fn.invoke(tool_call)\n",
    "    messages.append(tool_msg)"
   ],
   "id": "4bfb051252e05970",
   "outputs": [],
   "execution_count": 95
  },
  {
   "metadata": {
    "ExecuteTime": {
     "end_time": "2025-09-16T03:03:49.871660Z",
     "start_time": "2025-09-16T03:03:49.867224Z"
    }
   },
   "cell_type": "code",
   "source": [
    "for m in messages:\n",
    "    m.pretty_print()"
   ],
   "id": "8f55a6ca36030cd8",
   "outputs": [
    {
     "name": "stdout",
     "output_type": "stream",
     "text": [
      "================================\u001B[1m System Message \u001B[0m================================\n",
      "\n",
      "답변을 생성하기 위해 도구를 사용할 수 있어.\n",
      "================================\u001B[1m System Message \u001B[0m================================\n",
      "\n",
      "도시 이름과 타임존은 일치하지 않을 수도 있어.\n",
      "================================\u001B[1m System Message \u001B[0m================================\n",
      "\n",
      "ticker는 실제 사용되는 주식 코드여야 해.\n",
      "================================\u001B[1m Human Message \u001B[0m=================================\n",
      "\n",
      "삼성전자는 한 달 전과 비교해서 주식이 올랐어? 내렸니?\n",
      "==================================\u001B[1m Ai Message \u001B[0m==================================\n",
      "Tool Calls:\n",
      "  get_yf_stock_hitory (call_7hpccy6dhKOyH7QZpfadWa5z)\n",
      " Call ID: call_7hpccy6dhKOyH7QZpfadWa5z\n",
      "  Args:\n",
      "    input: {'ticker': '005930.KS', 'period': '1mo'}\n",
      "=================================\u001B[1m Tool Message \u001B[0m=================================\n",
      "Name: get_yf_stock_hitory\n",
      "\n",
      "| Date                      |   Open |   High |   Low |   Close |      Volume |   Dividends |   Stock Splits |\n",
      "|:--------------------------|-------:|-------:|------:|--------:|------------:|------------:|---------------:|\n",
      "| 2025-08-18 00:00:00+09:00 |  71100 |  71200 | 70000 |   70000 | 1.35956e+07 |           0 |              0 |\n",
      "| 2025-08-19 00:00:00+09:00 |  70400 |  70700 | 69700 |   70000 | 1.05331e+07 |           0 |              0 |\n",
      "| 2025-08-20 00:00:00+09:00 |  70100 |  70700 | 69400 |   70500 | 1.74455e+07 |           0 |              0 |\n",
      "| 2025-08-21 00:00:00+09:00 |  71500 |  71900 | 70600 |   70600 | 1.88438e+07 |           0 |              0 |\n",
      "| 2025-08-22 00:00:00+09:00 |  71700 |  71800 | 70800 |   71400 | 9.27743e+06 |           0 |              0 |\n",
      "| 2025-08-25 00:00:00+09:00 |  71700 |  71800 | 71000 |   71500 | 1.03452e+07 |           0 |              0 |\n",
      "| 2025-08-26 00:00:00+09:00 |  70800 |  71100 | 70300 |   70300 | 1.47125e+07 |           0 |              0 |\n",
      "| 2025-08-27 00:00:00+09:00 |  70100 |  70900 | 69800 |   70600 | 1.05234e+07 |           0 |              0 |\n",
      "| 2025-08-28 00:00:00+09:00 |  70100 |  70400 | 69600 |   69600 | 1.1578e+07  |           0 |              0 |\n",
      "| 2025-08-29 00:00:00+09:00 |  70100 |  70500 | 69700 |   69700 | 1.16823e+07 |           0 |              0 |\n",
      "| 2025-09-01 00:00:00+09:00 |  68400 |  68600 | 67500 |   67600 | 1.20023e+07 |           0 |              0 |\n",
      "| 2025-09-02 00:00:00+09:00 |  67800 |  69500 | 67800 |   69100 | 1.0604e+07  |           0 |              0 |\n",
      "| 2025-09-03 00:00:00+09:00 |  69200 |  69800 | 68800 |   69800 | 1.0283e+07  |           0 |              0 |\n",
      "| 2025-09-04 00:00:00+09:00 |  69500 |  70100 | 69300 |   70100 | 1.22844e+07 |           0 |              0 |\n",
      "| 2025-09-05 00:00:00+09:00 |  70300 |  70400 | 69500 |   69500 | 1.15267e+07 |           0 |              0 |\n",
      "| 2025-09-08 00:00:00+09:00 |  69800 |  70500 | 69600 |   70100 | 9.26314e+06 |           0 |              0 |\n",
      "| 2025-09-09 00:00:00+09:00 |  70100 |  71500 | 70000 |   71500 | 1.48702e+07 |           0 |              0 |\n",
      "| 2025-09-10 00:00:00+09:00 |  71800 |  72800 | 71600 |   72600 | 2.19286e+07 |           0 |              0 |\n",
      "| 2025-09-11 00:00:00+09:00 |  73200 |  73600 | 72100 |   73400 | 2.07935e+07 |           0 |              0 |\n",
      "| 2025-09-12 00:00:00+09:00 |  74600 |  75600 | 74200 |   75400 | 2.82197e+07 |           0 |              0 |\n",
      "| 2025-09-15 00:00:00+09:00 |  77200 |  77600 | 75900 |   76500 | 1.99088e+07 |           0 |              0 |\n",
      "| 2025-09-16 00:00:00+09:00 |      0 |  78300 | 76700 |   78400 | 1.22799e+07 |           0 |              0 |\n"
     ]
    }
   ],
   "execution_count": 96
  },
  {
   "metadata": {
    "ExecuteTime": {
     "end_time": "2025-09-16T03:05:14.912814Z",
     "start_time": "2025-09-16T03:05:12.760080Z"
    }
   },
   "cell_type": "code",
   "source": "ai_message = model_with_tools.invoke(input=messages)",
   "id": "455cd0678f669dc8",
   "outputs": [],
   "execution_count": 97
  },
  {
   "metadata": {
    "ExecuteTime": {
     "end_time": "2025-09-16T03:05:18.485037Z",
     "start_time": "2025-09-16T03:05:18.481014Z"
    }
   },
   "cell_type": "code",
   "source": "ai_message.pretty_print()",
   "id": "795b6d868590dc43",
   "outputs": [
    {
     "name": "stdout",
     "output_type": "stream",
     "text": [
      "==================================\u001B[1m Ai Message \u001B[0m==================================\n",
      "\n",
      "삼성전자의 주식 가격은 한 달 전과 비교하여 상승했습니다. 한 달 전(2025년 08월 15일) 주가는 약 70,000원이었고, 현재 주가는 78,400원입니다. 따라서 주가가 올랐습니다.\n"
     ]
    }
   ],
   "execution_count": 98
  },
  {
   "metadata": {},
   "cell_type": "code",
   "outputs": [],
   "execution_count": null,
   "source": "",
   "id": "fb0b686e152ebd88"
  }
 ],
 "metadata": {
  "kernelspec": {
   "display_name": "Python 3",
   "language": "python",
   "name": "python3"
  },
  "language_info": {
   "codemirror_mode": {
    "name": "ipython",
    "version": 2
   },
   "file_extension": ".py",
   "mimetype": "text/x-python",
   "name": "python",
   "nbconvert_exporter": "python",
   "pygments_lexer": "ipython2",
   "version": "2.7.6"
  }
 },
 "nbformat": 4,
 "nbformat_minor": 5
}
