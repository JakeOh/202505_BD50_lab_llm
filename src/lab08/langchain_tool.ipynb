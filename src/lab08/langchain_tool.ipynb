{
 "cells": [
  {
   "metadata": {},
   "cell_type": "markdown",
   "source": "# LangChain `@tool` 데코레이터",
   "id": "546819e6232c2568"
  },
  {
   "cell_type": "code",
   "id": "initial_id",
   "metadata": {
    "collapsed": true,
    "ExecuteTime": {
     "end_time": "2025-09-15T06:01:08.460943Z",
     "start_time": "2025-09-15T06:01:07.553402Z"
    }
   },
   "source": [
    "from datetime import datetime\n",
    "from dotenv import load_dotenv\n",
    "import pytz\n",
    "from langchain_core.tools import tool  # decorator\n",
    "from langchain_openai import ChatOpenAI\n",
    "from langchain_core.messages import SystemMessage, HumanMessage"
   ],
   "outputs": [],
   "execution_count": 1
  },
  {
   "metadata": {
    "ExecuteTime": {
     "end_time": "2025-09-15T06:01:58.657740Z",
     "start_time": "2025-09-15T06:01:58.651625Z"
    }
   },
   "cell_type": "code",
   "source": [
    "# .env 파일에 저장된 api_key를 OS 환경 변수로 로딩\n",
    "load_dotenv()"
   ],
   "id": "6318a94b3e5f4d8e",
   "outputs": [
    {
     "data": {
      "text/plain": [
       "True"
      ]
     },
     "execution_count": 2,
     "metadata": {},
     "output_type": "execute_result"
    }
   ],
   "execution_count": 2
  },
  {
   "metadata": {
    "ExecuteTime": {
     "end_time": "2025-09-15T06:02:48.096206Z",
     "start_time": "2025-09-15T06:02:47.373792Z"
    }
   },
   "cell_type": "code",
   "source": [
    "# OpenAI 클라이언트를 생성\n",
    "model = ChatOpenAI(model='gpt-4o-mini')"
   ],
   "id": "e406181c02ac3c3b",
   "outputs": [],
   "execution_count": 3
  },
  {
   "metadata": {
    "ExecuteTime": {
     "end_time": "2025-09-15T06:05:09.180225Z",
     "start_time": "2025-09-15T06:05:04.780514Z"
    }
   },
   "cell_type": "code",
   "source": [
    "# AI에게 메시지 전달하고 실행(invoke).\n",
    "messages = [\n",
    "    SystemMessage(content='너는 사용자의 질문에 답하는 AI 비서야.'),\n",
    "    HumanMessage(content='지금 현재 서울 시간?')\n",
    "]\n",
    "ai_message = model.invoke(input=messages)"
   ],
   "id": "b71b18debe609fb7",
   "outputs": [],
   "execution_count": 4
  },
  {
   "metadata": {
    "ExecuteTime": {
     "end_time": "2025-09-15T06:05:17.837910Z",
     "start_time": "2025-09-15T06:05:17.834311Z"
    }
   },
   "cell_type": "code",
   "source": "type(ai_message)",
   "id": "e904b69aa946816a",
   "outputs": [
    {
     "data": {
      "text/plain": [
       "langchain_core.messages.ai.AIMessage"
      ]
     },
     "execution_count": 5,
     "metadata": {},
     "output_type": "execute_result"
    }
   ],
   "execution_count": 5
  },
  {
   "metadata": {
    "ExecuteTime": {
     "end_time": "2025-09-15T06:05:48.362153Z",
     "start_time": "2025-09-15T06:05:48.345711Z"
    }
   },
   "cell_type": "code",
   "source": "print(ai_message)",
   "id": "1904f140ff1a3d13",
   "outputs": [
    {
     "name": "stdout",
     "output_type": "stream",
     "text": [
      "content='현재 시간을 정확히 알 수는 없지만, 서울은 UTC+9 시간대에 위치해 있습니다. 당신이 현재 위치한 시간대에 따라 서울 시간을 계산할 수 있습니다. 예를 들어, 만약 현재 UTC 시간이 12시라면, 서울은 21시가 됩니다. 이러한 방법으로 현재 서울 시간을 확인할 수 있습니다.' additional_kwargs={'refusal': None} response_metadata={'token_usage': {'completion_tokens': 72, 'prompt_tokens': 30, 'total_tokens': 102, 'completion_tokens_details': {'accepted_prediction_tokens': 0, 'audio_tokens': 0, 'reasoning_tokens': 0, 'rejected_prediction_tokens': 0}, 'prompt_tokens_details': {'audio_tokens': 0, 'cached_tokens': 0}}, 'model_name': 'gpt-4o-mini-2024-07-18', 'system_fingerprint': 'fp_560af6e559', 'id': 'chatcmpl-CFwclWypqEEKOJVTPIphzkNd7CRLD', 'service_tier': 'default', 'finish_reason': 'stop', 'logprobs': None} id='run--aa5488b4-7785-4de9-ad99-5b708bc8fc5c-0' usage_metadata={'input_tokens': 30, 'output_tokens': 72, 'total_tokens': 102, 'input_token_details': {'audio': 0, 'cache_read': 0}, 'output_token_details': {'audio': 0, 'reasoning': 0}}\n"
     ]
    }
   ],
   "execution_count": 6
  },
  {
   "metadata": {
    "ExecuteTime": {
     "end_time": "2025-09-15T06:06:10.996364Z",
     "start_time": "2025-09-15T06:06:10.992149Z"
    }
   },
   "cell_type": "code",
   "source": "ai_message.pretty_print()",
   "id": "e98d97ac7076cc8",
   "outputs": [
    {
     "name": "stdout",
     "output_type": "stream",
     "text": [
      "==================================\u001B[1m Ai Message \u001B[0m==================================\n",
      "\n",
      "현재 시간을 정확히 알 수는 없지만, 서울은 UTC+9 시간대에 위치해 있습니다. 당신이 현재 위치한 시간대에 따라 서울 시간을 계산할 수 있습니다. 예를 들어, 만약 현재 UTC 시간이 12시라면, 서울은 21시가 됩니다. 이러한 방법으로 현재 서울 시간을 확인할 수 있습니다.\n"
     ]
    }
   ],
   "execution_count": 7
  },
  {
   "metadata": {},
   "cell_type": "markdown",
   "source": [
    "도구(tool)을 AI에게 제공하고, AI는 tool 목록에 있는 함수 호출(function calling)을 요청해서 에이전트가 함수 호출 결과를 다시 AI에게 전송하면 AI는 함수 호출 결과를 바탕으로 답변을 생성할 수 있음.\n",
    "\n",
    "사용자 질문(도구 목록 제공) -> AI 도구 호출 요청 -> 사용자 함수 호출 결과 -> AI 답변 생성."
   ],
   "id": "85dfdd096e84a1e8"
  },
  {
   "metadata": {
    "ExecuteTime": {
     "end_time": "2025-09-15T06:20:48.608310Z",
     "start_time": "2025-09-15T06:20:48.601832Z"
    }
   },
   "cell_type": "code",
   "source": [
    "@tool\n",
    "def get_current_time(timezone: str, location: str) -> str:\n",
    "    \"\"\"해당 timezone의 현재 날짜와 시간을 문자열로 리턴.\n",
    "\n",
    "    Args:\n",
    "        timezone (str): 타임존. (예: Asia/Seoul)\n",
    "        location (str): 지역명. 타임존은 모든 도시 이름에 대응되지 않기 때문에 LLM이 답변을 생성할 때 이용하도록 제공.\n",
    "    Returns: '날짜 시간 타임존(지역명)' 형식의 문자열을 반환. (예: 2025-09-15 15:30:55 Asia/Seoul(부산))\n",
    "    \"\"\"\n",
    "    tz = pytz.timezone(timezone)\n",
    "    now = datetime.now(tz).strftime('%Y-%m-%d %H:%M:%S')\n",
    "    result = f'{now} {timezone}({location})'\n",
    "\n",
    "    return result"
   ],
   "id": "43b8ac7657bf6af1",
   "outputs": [],
   "execution_count": 8
  },
  {
   "metadata": {
    "ExecuteTime": {
     "end_time": "2025-09-15T06:27:16.463107Z",
     "start_time": "2025-09-15T06:27:16.459520Z"
    }
   },
   "cell_type": "code",
   "source": [
    "# 도구 목록: @tool 데코레이터가 사용된 함수들의 리스트.\n",
    "tools = [get_current_time,]"
   ],
   "id": "e446b1f762031f47",
   "outputs": [],
   "execution_count": 9
  },
  {
   "metadata": {
    "ExecuteTime": {
     "end_time": "2025-09-15T06:28:54.238798Z",
     "start_time": "2025-09-15T06:28:54.234906Z"
    }
   },
   "cell_type": "code",
   "source": [
    "# AI에서 도구 목록의 함수 호출을 요청했을 때 함수 객체를 쉽게 찾기 위해서 dict 선언.\n",
    "# 함수 이름을 key로, 함수 객체를 value로 갖는 딕셔너리.\n",
    "tool_dict = {\n",
    "    'get_current_time': get_current_time,\n",
    "}"
   ],
   "id": "5bd118f690c693b5",
   "outputs": [],
   "execution_count": 10
  },
  {
   "metadata": {
    "ExecuteTime": {
     "end_time": "2025-09-15T07:11:21.880124Z",
     "start_time": "2025-09-15T07:11:21.866835Z"
    }
   },
   "cell_type": "code",
   "source": [
    "# AI 모델과 도구 목록을 binding(묶어줌).\n",
    "model_with_tools = model.bind_tools(tools=tools)"
   ],
   "id": "3d3630ab97d7d63e",
   "outputs": [],
   "execution_count": 11
  },
  {
   "metadata": {
    "ExecuteTime": {
     "end_time": "2025-09-15T07:13:20.200641Z",
     "start_time": "2025-09-15T07:13:20.195067Z"
    }
   },
   "cell_type": "code",
   "source": "print(messages)",
   "id": "b0d01cac7bfccc6f",
   "outputs": [
    {
     "name": "stdout",
     "output_type": "stream",
     "text": [
      "[SystemMessage(content='너는 사용자의 질문에 답하는 AI 비서야.', additional_kwargs={}, response_metadata={}), HumanMessage(content='지금 현재 서울 시간?', additional_kwargs={}, response_metadata={})]\n"
     ]
    }
   ],
   "execution_count": 12
  },
  {
   "metadata": {
    "ExecuteTime": {
     "end_time": "2025-09-15T07:13:52.409053Z",
     "start_time": "2025-09-15T07:13:51.245585Z"
    }
   },
   "cell_type": "code",
   "source": [
    "# 도구 목록을 가지고 있는 AI 모델을 호출\n",
    "response = model_with_tools.invoke(input=messages)"
   ],
   "id": "fea898cc742be93e",
   "outputs": [],
   "execution_count": 13
  },
  {
   "metadata": {
    "ExecuteTime": {
     "end_time": "2025-09-15T07:13:59.088833Z",
     "start_time": "2025-09-15T07:13:59.084515Z"
    }
   },
   "cell_type": "code",
   "source": "type(response)",
   "id": "185662922f7d68f2",
   "outputs": [
    {
     "data": {
      "text/plain": [
       "langchain_core.messages.ai.AIMessage"
      ]
     },
     "execution_count": 14,
     "metadata": {},
     "output_type": "execute_result"
    }
   ],
   "execution_count": 14
  },
  {
   "metadata": {
    "ExecuteTime": {
     "end_time": "2025-09-15T07:14:30.728745Z",
     "start_time": "2025-09-15T07:14:30.724751Z"
    }
   },
   "cell_type": "code",
   "source": "print(response)",
   "id": "603f0e1a403020fb",
   "outputs": [
    {
     "name": "stdout",
     "output_type": "stream",
     "text": [
      "content='' additional_kwargs={'tool_calls': [{'id': 'call_UZPx13aCNTMSbbASMxkz4m0S', 'function': {'arguments': '{\"timezone\":\"Asia/Seoul\",\"location\":\"서울\"}', 'name': 'get_current_time'}, 'type': 'function'}], 'refusal': None} response_metadata={'token_usage': {'completion_tokens': 22, 'prompt_tokens': 168, 'total_tokens': 190, 'completion_tokens_details': {'accepted_prediction_tokens': 0, 'audio_tokens': 0, 'reasoning_tokens': 0, 'rejected_prediction_tokens': 0}, 'prompt_tokens_details': {'audio_tokens': 0, 'cached_tokens': 0}}, 'model_name': 'gpt-4o-mini-2024-07-18', 'system_fingerprint': 'fp_560af6e559', 'id': 'chatcmpl-CFxhINs1AYl98nNxWI0xzr6I7jKeX', 'service_tier': 'default', 'finish_reason': 'tool_calls', 'logprobs': None} id='run--b32e7a61-1c13-42b8-b3f8-dda41cc53a7f-0' tool_calls=[{'name': 'get_current_time', 'args': {'timezone': 'Asia/Seoul', 'location': '서울'}, 'id': 'call_UZPx13aCNTMSbbASMxkz4m0S', 'type': 'tool_call'}] usage_metadata={'input_tokens': 168, 'output_tokens': 22, 'total_tokens': 190, 'input_token_details': {'audio': 0, 'cache_read': 0}, 'output_token_details': {'audio': 0, 'reasoning': 0}}\n"
     ]
    }
   ],
   "execution_count": 15
  },
  {
   "metadata": {
    "ExecuteTime": {
     "end_time": "2025-09-15T07:17:41.400498Z",
     "start_time": "2025-09-15T07:17:41.396969Z"
    }
   },
   "cell_type": "code",
   "source": "response.pretty_print()",
   "id": "d11dadd5d70a735d",
   "outputs": [
    {
     "name": "stdout",
     "output_type": "stream",
     "text": [
      "==================================\u001B[1m Ai Message \u001B[0m==================================\n",
      "Tool Calls:\n",
      "  get_current_time (call_UZPx13aCNTMSbbASMxkz4m0S)\n",
      " Call ID: call_UZPx13aCNTMSbbASMxkz4m0S\n",
      "  Args:\n",
      "    timezone: Asia/Seoul\n",
      "    location: 서울\n"
     ]
    }
   ],
   "execution_count": 16
  },
  {
   "metadata": {
    "ExecuteTime": {
     "end_time": "2025-09-15T07:20:12.079232Z",
     "start_time": "2025-09-15T07:20:12.075717Z"
    }
   },
   "cell_type": "code",
   "source": "messages.append(response)  # 대화 이력 저장: AIMessage 객체를 리스트에 추가!",
   "id": "31d1071fb8c725f3",
   "outputs": [],
   "execution_count": 17
  },
  {
   "metadata": {
    "ExecuteTime": {
     "end_time": "2025-09-15T07:21:41.752120Z",
     "start_time": "2025-09-15T07:21:41.748019Z"
    }
   },
   "cell_type": "code",
   "source": [
    "for m in messages:\n",
    "    m.pretty_print()"
   ],
   "id": "85b0ab1c1fe6d9f3",
   "outputs": [
    {
     "name": "stdout",
     "output_type": "stream",
     "text": [
      "================================\u001B[1m System Message \u001B[0m================================\n",
      "\n",
      "너는 사용자의 질문에 답하는 AI 비서야.\n",
      "================================\u001B[1m Human Message \u001B[0m=================================\n",
      "\n",
      "지금 현재 서울 시간?\n",
      "==================================\u001B[1m Ai Message \u001B[0m==================================\n",
      "Tool Calls:\n",
      "  get_current_time (call_UZPx13aCNTMSbbASMxkz4m0S)\n",
      " Call ID: call_UZPx13aCNTMSbbASMxkz4m0S\n",
      "  Args:\n",
      "    timezone: Asia/Seoul\n",
      "    location: 서울\n"
     ]
    }
   ],
   "execution_count": 18
  },
  {
   "metadata": {
    "ExecuteTime": {
     "end_time": "2025-09-15T07:27:41.846249Z",
     "start_time": "2025-09-15T07:27:41.749768Z"
    }
   },
   "cell_type": "code",
   "source": [
    "for tool_call in response.tool_calls:\n",
    "    fn = tool_dict[tool_call['name']]\n",
    "    tool_msg = fn.invoke(tool_call)  # @tool 데코레이터로 포장 -> invoke가 가능.\n",
    "    messages.append(tool_msg)"
   ],
   "id": "a0ededd30e6f9859",
   "outputs": [],
   "execution_count": 21
  },
  {
   "metadata": {
    "ExecuteTime": {
     "end_time": "2025-09-15T07:27:55.781994Z",
     "start_time": "2025-09-15T07:27:55.778247Z"
    }
   },
   "cell_type": "code",
   "source": [
    "for m in messages:\n",
    "    m.pretty_print()"
   ],
   "id": "61fb28f3af5f6454",
   "outputs": [
    {
     "name": "stdout",
     "output_type": "stream",
     "text": [
      "================================\u001B[1m System Message \u001B[0m================================\n",
      "\n",
      "너는 사용자의 질문에 답하는 AI 비서야.\n",
      "================================\u001B[1m Human Message \u001B[0m=================================\n",
      "\n",
      "지금 현재 서울 시간?\n",
      "==================================\u001B[1m Ai Message \u001B[0m==================================\n",
      "Tool Calls:\n",
      "  get_current_time (call_UZPx13aCNTMSbbASMxkz4m0S)\n",
      " Call ID: call_UZPx13aCNTMSbbASMxkz4m0S\n",
      "  Args:\n",
      "    timezone: Asia/Seoul\n",
      "    location: 서울\n",
      "=================================\u001B[1m Tool Message \u001B[0m=================================\n",
      "Name: get_current_time\n",
      "\n",
      "2025-09-15 16:27:41 Asia/Seoul(서울)\n"
     ]
    }
   ],
   "execution_count": 22
  },
  {
   "metadata": {
    "ExecuteTime": {
     "end_time": "2025-09-15T07:32:56.051425Z",
     "start_time": "2025-09-15T07:32:55.106268Z"
    }
   },
   "cell_type": "code",
   "source": "ai_message = model_with_tools.invoke(input=messages)",
   "id": "d3b8131b115de0c",
   "outputs": [],
   "execution_count": 23
  },
  {
   "metadata": {
    "ExecuteTime": {
     "end_time": "2025-09-15T07:33:01.069806Z",
     "start_time": "2025-09-15T07:33:01.066096Z"
    }
   },
   "cell_type": "code",
   "source": "ai_message.pretty_print()",
   "id": "9ce6caeac27b4e45",
   "outputs": [
    {
     "name": "stdout",
     "output_type": "stream",
     "text": [
      "==================================\u001B[1m Ai Message \u001B[0m==================================\n",
      "\n",
      "현재 서울 시간은 2025년 9월 15일 16시 27분 41초입니다.\n"
     ]
    }
   ],
   "execution_count": 24
  },
  {
   "metadata": {},
   "cell_type": "code",
   "outputs": [],
   "execution_count": null,
   "source": "",
   "id": "9e29684c25864896"
  }
 ],
 "metadata": {
  "kernelspec": {
   "display_name": "Python 3",
   "language": "python",
   "name": "python3"
  },
  "language_info": {
   "codemirror_mode": {
    "name": "ipython",
    "version": 2
   },
   "file_extension": ".py",
   "mimetype": "text/x-python",
   "name": "python",
   "nbconvert_exporter": "python",
   "pygments_lexer": "ipython2",
   "version": "2.7.6"
  }
 },
 "nbformat": 4,
 "nbformat_minor": 5
}
