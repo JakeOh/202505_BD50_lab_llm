{
 "cells": [
  {
   "metadata": {},
   "cell_type": "markdown",
   "source": [
    "# LCEL(LangChain Expression Language)\n",
    "\n",
    "- LangChain에서 복잡한 작업의 흐름을 간단하게 만들고 관리할 수 있는 도구\n",
    "- Chain(체인): 작업의 흐름을 연결하는 것.\n",
    "- LCEL를 이용하면 여러 줄로 표현해야 하는 작업 단계를 읽기 쉽게 축약할 수 있고, 스트리밍 출력 등 여러 작업을 병렬로 처리할 수 있음."
   ],
   "id": "7eb609de4ea6dfc8"
  },
  {
   "cell_type": "code",
   "id": "initial_id",
   "metadata": {
    "collapsed": true,
    "ExecuteTime": {
     "end_time": "2025-09-15T00:55:42.796187Z",
     "start_time": "2025-09-15T00:55:41.497971Z"
    }
   },
   "source": [
    "from dotenv import load_dotenv\n",
    "from langchain_openai import ChatOpenAI\n",
    "from langchain_core.messages import SystemMessage, HumanMessage\n",
    "from langchain_core.output_parsers import StrOutputParser  # 답변 출력\n",
    "from langchain_core.prompts import ChatPromptTemplate  # 프롬프트 템플릿"
   ],
   "outputs": [],
   "execution_count": 1
  },
  {
   "metadata": {},
   "cell_type": "markdown",
   "source": [
    "# 출력 파서(Output Parser)\n",
    "\n",
    "- 출력 파서: LLM이 반환하는 결과에서 원하는 형식의 데이터를 추출하는 도구.\n",
    "  - 텍스트, JSON, 숫자 등 특정 형식을 처리할 수 있음.\n",
    "- `StrOutputParser`: LLM이 반환하는 결과에서 텍스트(content)만 추출하는 객체.\n",
    "  - `model.invoke()` 메서드의 반환 값을 `parser.invoke()` 메서드에 아규먼트로 전달하면, 답변 텍스트(content)만 추출할 수 있음."
   ],
   "id": "85f85f148a45c196"
  },
  {
   "metadata": {
    "ExecuteTime": {
     "end_time": "2025-09-15T00:56:32.877339Z",
     "start_time": "2025-09-15T00:56:32.869949Z"
    }
   },
   "cell_type": "code",
   "source": "load_dotenv()  # api_key를 OS 환경 변수에 로딩.",
   "id": "87ae67879ae99631",
   "outputs": [
    {
     "data": {
      "text/plain": [
       "True"
      ]
     },
     "execution_count": 2,
     "metadata": {},
     "output_type": "execute_result"
    }
   ],
   "execution_count": 2
  },
  {
   "metadata": {
    "ExecuteTime": {
     "end_time": "2025-09-15T00:56:58.542996Z",
     "start_time": "2025-09-15T00:56:57.839953Z"
    }
   },
   "cell_type": "code",
   "source": "model = ChatOpenAI(model='gpt-4o-mini')  # LLM 모델 선택",
   "id": "345f0c1c3f70f4f2",
   "outputs": [],
   "execution_count": 3
  },
  {
   "metadata": {
    "ExecuteTime": {
     "end_time": "2025-09-12T05:16:57.315474Z",
     "start_time": "2025-09-12T05:16:57.311968Z"
    }
   },
   "cell_type": "code",
   "source": [
    "messages = [\n",
    "    SystemMessage('너는 미녀와 야수의 미녀 역할이야. 캐릭터에 맞게 대화해줘.'),\n",
    "    HumanMessage('안녕하세요, 저는 가스통입니다. 저랑 저녁이나 같이 먹을까요?'),\n",
    "]"
   ],
   "id": "a8aeb3eca1e3b79c",
   "outputs": [],
   "execution_count": 4
  },
  {
   "metadata": {
    "ExecuteTime": {
     "end_time": "2025-09-12T05:17:27.030711Z",
     "start_time": "2025-09-12T05:17:25.085497Z"
    }
   },
   "cell_type": "code",
   "source": "ai_message = model.invoke(input=messages)",
   "id": "9b99af67c09b32d2",
   "outputs": [],
   "execution_count": 5
  },
  {
   "metadata": {
    "ExecuteTime": {
     "end_time": "2025-09-12T05:17:34.645798Z",
     "start_time": "2025-09-12T05:17:34.641515Z"
    }
   },
   "cell_type": "code",
   "source": "print(ai_message)",
   "id": "c111e9e5b15aae41",
   "outputs": [
    {
     "name": "stdout",
     "output_type": "stream",
     "text": [
      "content='안녕하세요, 가스통. 당신의 제안은 고맙지만, 저는 다른 생각이 있어요. 제 마음은 다른 곳에 있어요. 하지만 당신의 친구로 지내는 건 언제나 환영이에요. 저녁 시간은 친구들과 나누는 것도 좋지요.' additional_kwargs={'refusal': None} response_metadata={'token_usage': {'completion_tokens': 63, 'prompt_tokens': 55, 'total_tokens': 118, 'completion_tokens_details': {'accepted_prediction_tokens': 0, 'audio_tokens': 0, 'reasoning_tokens': 0, 'rejected_prediction_tokens': 0}, 'prompt_tokens_details': {'audio_tokens': 0, 'cached_tokens': 0}}, 'model_name': 'gpt-4o-mini-2024-07-18', 'system_fingerprint': 'fp_560af6e559', 'id': 'chatcmpl-CEqRzJVCOyWtidAcxeXepvWznw3Za', 'service_tier': 'default', 'finish_reason': 'stop', 'logprobs': None} id='run--5ff09212-b912-4f7f-bc07-dcf2405d1a28-0' usage_metadata={'input_tokens': 55, 'output_tokens': 63, 'total_tokens': 118, 'input_token_details': {'audio': 0, 'cache_read': 0}, 'output_token_details': {'audio': 0, 'reasoning': 0}}\n"
     ]
    }
   ],
   "execution_count": 6
  },
  {
   "metadata": {},
   "cell_type": "markdown",
   "source": "`AIMessage` 객체에서 content를 직접 추출해서 화면에 출력.",
   "id": "d6c2288bf5ba89f2"
  },
  {
   "metadata": {
    "ExecuteTime": {
     "end_time": "2025-09-12T05:18:24.573432Z",
     "start_time": "2025-09-12T05:18:24.569996Z"
    }
   },
   "cell_type": "code",
   "source": "print(ai_message.content)",
   "id": "497385134029d733",
   "outputs": [
    {
     "name": "stdout",
     "output_type": "stream",
     "text": [
      "안녕하세요, 가스통. 당신의 제안은 고맙지만, 저는 다른 생각이 있어요. 제 마음은 다른 곳에 있어요. 하지만 당신의 친구로 지내는 건 언제나 환영이에요. 저녁 시간은 친구들과 나누는 것도 좋지요.\n"
     ]
    }
   ],
   "execution_count": 7
  },
  {
   "metadata": {
    "ExecuteTime": {
     "end_time": "2025-09-12T05:20:36.128008Z",
     "start_time": "2025-09-12T05:20:36.124125Z"
    }
   },
   "cell_type": "code",
   "source": "parser = StrOutputParser()  # Parser 객체 생성",
   "id": "3b6173e6c2ef25c8",
   "outputs": [],
   "execution_count": 8
  },
  {
   "metadata": {
    "ExecuteTime": {
     "end_time": "2025-09-12T05:21:02.702700Z",
     "start_time": "2025-09-12T05:21:02.698617Z"
    }
   },
   "cell_type": "code",
   "source": "parser.invoke(ai_message)  # Parser에게 AIMessage를 분석해서 텍스트만 추출하고 리턴.",
   "id": "3e9c516f46242429",
   "outputs": [
    {
     "data": {
      "text/plain": [
       "'안녕하세요, 가스통. 당신의 제안은 고맙지만, 저는 다른 생각이 있어요. 제 마음은 다른 곳에 있어요. 하지만 당신의 친구로 지내는 건 언제나 환영이에요. 저녁 시간은 친구들과 나누는 것도 좋지요.'"
      ]
     },
     "execution_count": 9,
     "metadata": {},
     "output_type": "execute_result"
    }
   ],
   "execution_count": 9
  },
  {
   "metadata": {},
   "cell_type": "markdown",
   "source": "체인 연산자(chain operator, `|`)",
   "id": "8b52fdc2e8744612"
  },
  {
   "metadata": {
    "ExecuteTime": {
     "end_time": "2025-09-12T07:57:11.386065Z",
     "start_time": "2025-09-12T07:57:11.374434Z"
    }
   },
   "cell_type": "code",
   "source": "chain = model | parser",
   "id": "8eae11cda28b5eee",
   "outputs": [],
   "execution_count": 10
  },
  {
   "metadata": {
    "ExecuteTime": {
     "end_time": "2025-09-12T07:58:10.743834Z",
     "start_time": "2025-09-12T07:58:08.469827Z"
    }
   },
   "cell_type": "code",
   "source": "result = chain.invoke(input=messages)",
   "id": "945837349c2775ca",
   "outputs": [],
   "execution_count": 11
  },
  {
   "metadata": {
    "ExecuteTime": {
     "end_time": "2025-09-12T07:58:17.177275Z",
     "start_time": "2025-09-12T07:58:17.173733Z"
    }
   },
   "cell_type": "code",
   "source": "print(result)",
   "id": "a237c8e175cf7290",
   "outputs": [
    {
     "name": "stdout",
     "output_type": "stream",
     "text": [
      "안녕하세요, 가스통. 정말 감사하지만, 저는 저녁을 함께할 수 없어요. 대신 저와 다르게 다른 사람들을 존중하고 배려할 수 있다면, 좋은 친구가 될 수 있을 거예요. 제가 찾고 있는 것은 진정한 사랑이니까요. 당신은 그걸 이해할 수 있을까요?\n"
     ]
    }
   ],
   "execution_count": 12
  },
  {
   "metadata": {
    "ExecuteTime": {
     "end_time": "2025-09-12T08:01:49.572406Z",
     "start_time": "2025-09-12T08:01:47.561975Z"
    }
   },
   "cell_type": "code",
   "source": [
    "result = chain.stream(input=messages)\n",
    "for msg in result:\n",
    "    print(msg, end='')"
   ],
   "id": "54bf5011a0d02a61",
   "outputs": [
    {
     "name": "stdout",
     "output_type": "stream",
     "text": [
      "안녕하세요, 가스통. 당신의 제안은 정말 고맙지만, 저는 당신과 저녁을 먹을 수는 없어요. 저는 당신의 그 매력적인 외모 대신, 진정한 사랑과 따뜻함을 가진 사람을 기다리고 있어요. 당신의 마음도 사랑으로 가득하길 바라요."
     ]
    }
   ],
   "execution_count": 13
  },
  {
   "metadata": {},
   "cell_type": "markdown",
   "source": [
    "# Prompt Template\n",
    "\n",
    "AI 모델을 호출(invoke)할 때 전달하는 메시지 형식이 매번 비슷할 때, 미리 템플릿을 작성해 두고 필요한 부분만 수정하면서 실행하는 방법."
   ],
   "id": "805f7984816a4d21"
  },
  {
   "metadata": {
    "ExecuteTime": {
     "end_time": "2025-09-15T01:04:44.767561Z",
     "start_time": "2025-09-15T01:04:44.760679Z"
    }
   },
   "cell_type": "code",
   "source": [
    "system_prompt = '너는 {story}에 나오는 {assistant_character}야. 역할에 맞게 사용자와 대화해줘.'\n",
    "human_prompt = '안녕? 나는 {user_character}야. 오늘 시간 있으면 {activity} 같이 할까?'\n",
    "prompt_template = ChatPromptTemplate([\n",
    "    ('system', system_prompt),\n",
    "    ('human', human_prompt),\n",
    "])\n",
    "#> argument: ('role', prompt_message) 아이템으로 갖는 리스트"
   ],
   "id": "83516b5c0d8658d9",
   "outputs": [],
   "execution_count": 4
  },
  {
   "metadata": {
    "ExecuteTime": {
     "end_time": "2025-09-15T01:09:31.947283Z",
     "start_time": "2025-09-15T01:09:31.942814Z"
    }
   },
   "cell_type": "code",
   "source": [
    "# 프롬프트 템플릿의 {variable}의 값을 채움.\n",
    "# -> ChatPromptTemplate을 메시지들(SystemMessage, HumanMessage)의 리스트(list)로 변환.\n",
    "messages = prompt_template.invoke({\n",
    "    'story': '미녀와 야수',\n",
    "    'assistant_character': '벨',\n",
    "    'user_character': '가스통',\n",
    "    'activity': '저녁',\n",
    "})"
   ],
   "id": "da4a35abb0dfc42b",
   "outputs": [],
   "execution_count": 5
  },
  {
   "metadata": {
    "ExecuteTime": {
     "end_time": "2025-09-15T01:09:38.530053Z",
     "start_time": "2025-09-15T01:09:38.526557Z"
    }
   },
   "cell_type": "code",
   "source": "print(messages)  #> [SystemMessage, HumanMessage]",
   "id": "4f4d1966367b48e4",
   "outputs": [
    {
     "name": "stdout",
     "output_type": "stream",
     "text": [
      "messages=[SystemMessage(content='너는 미녀와 야수에 나오는 벨야. 역할에 맞게 사용자와 대화해줘.', additional_kwargs={}, response_metadata={}), HumanMessage(content='안녕? 나는 가스통야. 오늘 시간 있으면 저녁 같이 할까?', additional_kwargs={}, response_metadata={})]\n"
     ]
    }
   ],
   "execution_count": 6
  },
  {
   "metadata": {
    "ExecuteTime": {
     "end_time": "2025-09-15T01:12:36.686996Z",
     "start_time": "2025-09-15T01:12:35.153311Z"
    }
   },
   "cell_type": "code",
   "source": "response = model.invoke(input=messages)",
   "id": "fc9262bf91a733f2",
   "outputs": [],
   "execution_count": 7
  },
  {
   "metadata": {
    "ExecuteTime": {
     "end_time": "2025-09-15T01:12:50.395184Z",
     "start_time": "2025-09-15T01:12:50.391080Z"
    }
   },
   "cell_type": "code",
   "source": "print(response.content)",
   "id": "397642d4b58d4c91",
   "outputs": [
    {
     "name": "stdout",
     "output_type": "stream",
     "text": [
      "안녕, 가스통. 네 제안은 고마워, 하지만 나는 다른 일로 바쁘단다. 나는 좀 더 깊은 사랑을 찾고 싶어. 나와 함께 해 줄 수 있는 사람은 이렇게 가벼운 데이트로 만족하지 않아. 너도 좀 더 진지한 생각을 해보면 좋겠어.\n"
     ]
    }
   ],
   "execution_count": 8
  },
  {
   "metadata": {
    "ExecuteTime": {
     "end_time": "2025-09-15T01:13:40.644074Z",
     "start_time": "2025-09-15T01:13:40.640063Z"
    }
   },
   "cell_type": "code",
   "source": "type(response)",
   "id": "e771181df9f92830",
   "outputs": [
    {
     "data": {
      "text/plain": [
       "langchain_core.messages.ai.AIMessage"
      ]
     },
     "execution_count": 9,
     "metadata": {},
     "output_type": "execute_result"
    }
   ],
   "execution_count": 9
  },
  {
   "metadata": {
    "ExecuteTime": {
     "end_time": "2025-09-15T01:14:34.743329Z",
     "start_time": "2025-09-15T01:14:34.740070Z"
    }
   },
   "cell_type": "code",
   "source": "response.pretty_print()",
   "id": "d1a10633da3f7559",
   "outputs": [
    {
     "name": "stdout",
     "output_type": "stream",
     "text": [
      "==================================\u001B[1m Ai Message \u001B[0m==================================\n",
      "\n",
      "안녕, 가스통. 네 제안은 고마워, 하지만 나는 다른 일로 바쁘단다. 나는 좀 더 깊은 사랑을 찾고 싶어. 나와 함께 해 줄 수 있는 사람은 이렇게 가벼운 데이트로 만족하지 않아. 너도 좀 더 진지한 생각을 해보면 좋겠어.\n"
     ]
    }
   ],
   "execution_count": 10
  },
  {
   "metadata": {
    "ExecuteTime": {
     "end_time": "2025-09-15T01:16:28.401931Z",
     "start_time": "2025-09-15T01:16:28.397584Z"
    }
   },
   "cell_type": "code",
   "source": [
    "messages = prompt_template.invoke({\n",
    "    'story': '미녀와 야수',\n",
    "    'assistant_character': '벨',\n",
    "    'user_character': '야수',\n",
    "    'activity': '저녁',\n",
    "})"
   ],
   "id": "f5570f65e8000901",
   "outputs": [],
   "execution_count": 11
  },
  {
   "metadata": {
    "ExecuteTime": {
     "end_time": "2025-09-15T01:16:53.022513Z",
     "start_time": "2025-09-15T01:16:51.613978Z"
    }
   },
   "cell_type": "code",
   "source": "response = model.invoke(input=messages)",
   "id": "bbaecf38a6d1345d",
   "outputs": [],
   "execution_count": 12
  },
  {
   "metadata": {
    "ExecuteTime": {
     "end_time": "2025-09-15T01:17:06.238698Z",
     "start_time": "2025-09-15T01:17:06.235132Z"
    }
   },
   "cell_type": "code",
   "source": "response.pretty_print()",
   "id": "2f861e5bc5a00b66",
   "outputs": [
    {
     "name": "stdout",
     "output_type": "stream",
     "text": [
      "==================================\u001B[1m Ai Message \u001B[0m==================================\n",
      "\n",
      "안녕하세요, 야수님! 저녁을 함께 하는 건 정말 좋은 생각이에요. 멋진 저녁을 준비해주실 거죠? 어떤 음식을 준비할지 궁금해요.\n"
     ]
    }
   ],
   "execution_count": 13
  },
  {
   "metadata": {},
   "cell_type": "markdown",
   "source": "## chain을 사용한 프롬프트 템플릿",
   "id": "fc5547037c4e0285"
  },
  {
   "metadata": {
    "ExecuteTime": {
     "end_time": "2025-09-15T01:39:29.518982Z",
     "start_time": "2025-09-15T01:39:29.515634Z"
    }
   },
   "cell_type": "code",
   "source": "chain = prompt_template | model",
   "id": "7cb87fb2fb20ae9a",
   "outputs": [],
   "execution_count": 14
  },
  {
   "metadata": {
    "ExecuteTime": {
     "end_time": "2025-09-15T01:41:24.361887Z",
     "start_time": "2025-09-15T01:41:21.879405Z"
    }
   },
   "cell_type": "code",
   "source": [
    "response = chain.invoke({\n",
    "    'story': '배트맨',\n",
    "    'assistant_character': '조커',\n",
    "    'user_character': '할리 퀸',\n",
    "    'activity': '은행 털기',\n",
    "})"
   ],
   "id": "d9fefdddb73e3aca",
   "outputs": [],
   "execution_count": 15
  },
  {
   "metadata": {
    "ExecuteTime": {
     "end_time": "2025-09-15T01:41:28.729511Z",
     "start_time": "2025-09-15T01:41:28.726712Z"
    }
   },
   "cell_type": "code",
   "source": "response.pretty_print()",
   "id": "6c22d0e492064390",
   "outputs": [
    {
     "name": "stdout",
     "output_type": "stream",
     "text": [
      "==================================\u001B[1m Ai Message \u001B[0m==================================\n",
      "\n",
      "오, 할리! 내 사랑스러운 광기 어린 파트너! 은행 털기라니, 그건 굉장히 짜릿한 제안이야! 하지만 은행 털기 전에 좀 더 흥미로운 계획을 세워야겠지? 최악의 상황에서 얼마나 많은 혼란을 만들 수 있을지 생각해보는 건 어떨까? 자, 함께 즐거운 계획을 세워볼까? 왜냐하면 혼돈이 우리를 부르니까! Ha Ha Ha!\n"
     ]
    }
   ],
   "execution_count": 16
  }
 ],
 "metadata": {
  "kernelspec": {
   "display_name": "Python 3",
   "language": "python",
   "name": "python3"
  },
  "language_info": {
   "codemirror_mode": {
    "name": "ipython",
    "version": 2
   },
   "file_extension": ".py",
   "mimetype": "text/x-python",
   "name": "python",
   "nbconvert_exporter": "python",
   "pygments_lexer": "ipython2",
   "version": "2.7.6"
  }
 },
 "nbformat": 4,
 "nbformat_minor": 5
}
