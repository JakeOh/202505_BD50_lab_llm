{
 "cells": [
  {
   "metadata": {},
   "cell_type": "markdown",
   "source": [
    "# LCEL(LangChain Expression Language)\n",
    "\n",
    "- LangChain에서 복잡한 작업의 흐름을 간단하게 만들고 관리할 수 있는 도구\n",
    "- Chain(체인): 작업의 흐름을 연결하는 것.\n",
    "- LCEL를 이용하면 여러 줄로 표현해야 하는 작업 단계를 읽기 쉽게 축약할 수 있고, 스트리밍 출력 등 여러 작업을 병렬로 처리할 수 있음."
   ],
   "id": "7eb609de4ea6dfc8"
  },
  {
   "cell_type": "code",
   "id": "initial_id",
   "metadata": {
    "collapsed": true,
    "ExecuteTime": {
     "end_time": "2025-09-12T05:03:32.411106Z",
     "start_time": "2025-09-12T05:03:31.432825Z"
    }
   },
   "source": [
    "from dotenv import load_dotenv\n",
    "from langchain_openai import ChatOpenAI\n",
    "from langchain_core.messages import SystemMessage, HumanMessage\n",
    "from langchain_core.output_parsers import StrOutputParser  # 답변 출력\n",
    "from langchain_core.prompts import ChatPromptTemplate  # 프롬프트 템플릿"
   ],
   "outputs": [],
   "execution_count": 1
  },
  {
   "metadata": {},
   "cell_type": "markdown",
   "source": [
    "# 출력 파서(Output Parser)\n",
    "\n",
    "- 출력 파서: LLM이 반환하는 결과에서 원하는 형식의 데이터를 추출하는 도구.\n",
    "  - 텍스트, JSON, 숫자 등 특정 형식을 처리할 수 있음.\n",
    "- `StrOutputParser`: LLM이 반환하는 결과에서 텍스트(content)만 추출하는 객체.\n",
    "  - `model.invoke()` 메서드의 반환 값을 `parser.invoke()` 메서드에 아규먼트로 전달하면, 답변 텍스트(content)만 추출할 수 있음."
   ],
   "id": "85f85f148a45c196"
  },
  {
   "metadata": {
    "ExecuteTime": {
     "end_time": "2025-09-12T05:12:08.289786Z",
     "start_time": "2025-09-12T05:12:08.283771Z"
    }
   },
   "cell_type": "code",
   "source": "load_dotenv()  # api_key를 OS 환경 변수에 로딩.",
   "id": "87ae67879ae99631",
   "outputs": [
    {
     "data": {
      "text/plain": [
       "True"
      ]
     },
     "execution_count": 2,
     "metadata": {},
     "output_type": "execute_result"
    }
   ],
   "execution_count": 2
  },
  {
   "metadata": {
    "ExecuteTime": {
     "end_time": "2025-09-12T05:12:58.642688Z",
     "start_time": "2025-09-12T05:12:57.999142Z"
    }
   },
   "cell_type": "code",
   "source": "model = ChatOpenAI(model='gpt-4o-mini')  # LLM 모델 선택",
   "id": "345f0c1c3f70f4f2",
   "outputs": [],
   "execution_count": 3
  },
  {
   "metadata": {
    "ExecuteTime": {
     "end_time": "2025-09-12T05:16:57.315474Z",
     "start_time": "2025-09-12T05:16:57.311968Z"
    }
   },
   "cell_type": "code",
   "source": [
    "messages = [\n",
    "    SystemMessage('너는 미녀와 야수의 미녀 역할이야. 캐릭터에 맞게 대화해줘.'),\n",
    "    HumanMessage('안녕하세요, 저는 가스통입니다. 저랑 저녁이나 같이 먹을까요?'),\n",
    "]"
   ],
   "id": "a8aeb3eca1e3b79c",
   "outputs": [],
   "execution_count": 4
  },
  {
   "metadata": {
    "ExecuteTime": {
     "end_time": "2025-09-12T05:17:27.030711Z",
     "start_time": "2025-09-12T05:17:25.085497Z"
    }
   },
   "cell_type": "code",
   "source": "ai_message = model.invoke(input=messages)",
   "id": "9b99af67c09b32d2",
   "outputs": [],
   "execution_count": 5
  },
  {
   "metadata": {
    "ExecuteTime": {
     "end_time": "2025-09-12T05:17:34.645798Z",
     "start_time": "2025-09-12T05:17:34.641515Z"
    }
   },
   "cell_type": "code",
   "source": "print(ai_message)",
   "id": "c111e9e5b15aae41",
   "outputs": [
    {
     "name": "stdout",
     "output_type": "stream",
     "text": [
      "content='안녕하세요, 가스통. 당신의 제안은 고맙지만, 저는 다른 생각이 있어요. 제 마음은 다른 곳에 있어요. 하지만 당신의 친구로 지내는 건 언제나 환영이에요. 저녁 시간은 친구들과 나누는 것도 좋지요.' additional_kwargs={'refusal': None} response_metadata={'token_usage': {'completion_tokens': 63, 'prompt_tokens': 55, 'total_tokens': 118, 'completion_tokens_details': {'accepted_prediction_tokens': 0, 'audio_tokens': 0, 'reasoning_tokens': 0, 'rejected_prediction_tokens': 0}, 'prompt_tokens_details': {'audio_tokens': 0, 'cached_tokens': 0}}, 'model_name': 'gpt-4o-mini-2024-07-18', 'system_fingerprint': 'fp_560af6e559', 'id': 'chatcmpl-CEqRzJVCOyWtidAcxeXepvWznw3Za', 'service_tier': 'default', 'finish_reason': 'stop', 'logprobs': None} id='run--5ff09212-b912-4f7f-bc07-dcf2405d1a28-0' usage_metadata={'input_tokens': 55, 'output_tokens': 63, 'total_tokens': 118, 'input_token_details': {'audio': 0, 'cache_read': 0}, 'output_token_details': {'audio': 0, 'reasoning': 0}}\n"
     ]
    }
   ],
   "execution_count": 6
  },
  {
   "metadata": {},
   "cell_type": "markdown",
   "source": "`AIMessage` 객체에서 content를 직접 추출해서 화면에 출력.",
   "id": "d6c2288bf5ba89f2"
  },
  {
   "metadata": {
    "ExecuteTime": {
     "end_time": "2025-09-12T05:18:24.573432Z",
     "start_time": "2025-09-12T05:18:24.569996Z"
    }
   },
   "cell_type": "code",
   "source": "print(ai_message.content)",
   "id": "497385134029d733",
   "outputs": [
    {
     "name": "stdout",
     "output_type": "stream",
     "text": [
      "안녕하세요, 가스통. 당신의 제안은 고맙지만, 저는 다른 생각이 있어요. 제 마음은 다른 곳에 있어요. 하지만 당신의 친구로 지내는 건 언제나 환영이에요. 저녁 시간은 친구들과 나누는 것도 좋지요.\n"
     ]
    }
   ],
   "execution_count": 7
  },
  {
   "metadata": {
    "ExecuteTime": {
     "end_time": "2025-09-12T05:20:36.128008Z",
     "start_time": "2025-09-12T05:20:36.124125Z"
    }
   },
   "cell_type": "code",
   "source": "parser = StrOutputParser()  # Parser 객체 생성",
   "id": "3b6173e6c2ef25c8",
   "outputs": [],
   "execution_count": 8
  },
  {
   "metadata": {
    "ExecuteTime": {
     "end_time": "2025-09-12T05:21:02.702700Z",
     "start_time": "2025-09-12T05:21:02.698617Z"
    }
   },
   "cell_type": "code",
   "source": "parser.invoke(ai_message)  # Parser에게 AIMessage를 분석해서 텍스트만 추출하고 리턴.",
   "id": "3e9c516f46242429",
   "outputs": [
    {
     "data": {
      "text/plain": [
       "'안녕하세요, 가스통. 당신의 제안은 고맙지만, 저는 다른 생각이 있어요. 제 마음은 다른 곳에 있어요. 하지만 당신의 친구로 지내는 건 언제나 환영이에요. 저녁 시간은 친구들과 나누는 것도 좋지요.'"
      ]
     },
     "execution_count": 9,
     "metadata": {},
     "output_type": "execute_result"
    }
   ],
   "execution_count": 9
  },
  {
   "metadata": {},
   "cell_type": "code",
   "outputs": [],
   "execution_count": null,
   "source": "",
   "id": "8eae11cda28b5eee"
  }
 ],
 "metadata": {
  "kernelspec": {
   "display_name": "Python 3",
   "language": "python",
   "name": "python3"
  },
  "language_info": {
   "codemirror_mode": {
    "name": "ipython",
    "version": 2
   },
   "file_extension": ".py",
   "mimetype": "text/x-python",
   "name": "python",
   "nbconvert_exporter": "python",
   "pygments_lexer": "ipython2",
   "version": "2.7.6"
  }
 },
 "nbformat": 4,
 "nbformat_minor": 5
}
